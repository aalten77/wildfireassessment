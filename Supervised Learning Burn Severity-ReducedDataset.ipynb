{
 "cells": [
  {
   "cell_type": "markdown",
   "metadata": {
    "slideshow": {
     "slide_type": "slide"
    }
   },
   "source": [
    "# Supervised Learning Burn Severity"
   ]
  },
  {
   "cell_type": "code",
   "execution_count": 1,
   "metadata": {
    "scrolled": true,
    "slideshow": {
     "slide_type": "skip"
    }
   },
   "outputs": [],
   "source": [
    "%load_ext autoreload"
   ]
  },
  {
   "cell_type": "code",
   "execution_count": 2,
   "metadata": {
    "slideshow": {
     "slide_type": "skip"
    }
   },
   "outputs": [
    {
     "name": "stderr",
     "output_type": "stream",
     "text": [
      "C:\\Users\\ailin\\Anaconda3\\envs\\gdal_env\\lib\\site-packages\\sklearn\\externals\\joblib\\__init__.py:15: DeprecationWarning: sklearn.externals.joblib is deprecated in 0.21 and will be removed in 0.23. Please import this functionality directly from joblib, which can be installed with: pip install joblib. If this warning is raised when loading pickled models, you may need to re-serialize those models with scikit-learn 0.21+.\n",
      "  warnings.warn(msg, category=DeprecationWarning)\n"
     ]
    }
   ],
   "source": [
    "#load in modules\n",
    "%autoreload 2\n",
    "from wildfireassessment.ops import * #my package\n",
    "from wildfireassessment.plots import * #my package\n",
    "import geopandas as gpd\n",
    "import pandas as pd\n",
    "import numpy as np\n",
    "import numpy.ma as ma\n",
    "from sklearn.model_selection import train_test_split, cross_val_score\n",
    "from sklearn.ensemble import RandomForestClassifier\n",
    "from sklearn.linear_model import LogisticRegression\n",
    "from sklearn.naive_bayes import GaussianNB, BernoulliNB\n",
    "from sklearn import linear_model\n",
    "from sklearn.neighbors import KNeighborsClassifier\n",
    "from sklearn.tree import DecisionTreeClassifier\n",
    "from sklearn import svm\n",
    "from sklearn.neural_network import MLPClassifier\n",
    "from sklearn.metrics import confusion_matrix, recall_score, precision_score, accuracy_score, f1_score\n",
    "#from sklearn.cross_validation import cross_val_score\n",
    "import matplotlib.pyplot as plt\n",
    "import seaborn as sns\n",
    "from pathlib import Path\n",
    "import math\n",
    "%matplotlib inline"
   ]
  },
  {
   "cell_type": "markdown",
   "metadata": {
    "slideshow": {
     "slide_type": "slide"
    }
   },
   "source": [
    "## Load segments\n",
    "Read vector files into geodataframes. Then will convert to Numpy matrix X and y"
   ]
  },
  {
   "cell_type": "code",
   "execution_count": 3,
   "metadata": {
    "slideshow": {
     "slide_type": "skip"
    }
   },
   "outputs": [],
   "source": [
    "#read in datapaths of labelled data\n",
    "filepaths = [Path(\"./data/shapefiles/segments_2011023_0.shp\"), Path(\"./data/shapefiles/segments_2011201_0.shp\"),\n",
    "             Path(\"./data/shapefiles/segments_2011203_0.shp\"), Path(\"./data/shapefiles/segments_2010133_0.shp\"),\n",
    "             Path(\"./data/shapefiles/segments_2011200_0.shp\")]"
   ]
  },
  {
   "cell_type": "code",
   "execution_count": 4,
   "metadata": {
    "slideshow": {
     "slide_type": "subslide"
    }
   },
   "outputs": [
    {
     "data": {
      "text/html": [
       "<div>\n",
       "<style scoped>\n",
       "    .dataframe tbody tr th:only-of-type {\n",
       "        vertical-align: middle;\n",
       "    }\n",
       "\n",
       "    .dataframe tbody tr th {\n",
       "        vertical-align: top;\n",
       "    }\n",
       "\n",
       "    .dataframe thead th {\n",
       "        text-align: right;\n",
       "    }\n",
       "</style>\n",
       "<table border=\"1\" class=\"dataframe\">\n",
       "  <thead>\n",
       "    <tr style=\"text-align: right;\">\n",
       "      <th></th>\n",
       "      <th>seg_index</th>\n",
       "      <th>area_m</th>\n",
       "      <th>blue_value</th>\n",
       "      <th>blue_val_1</th>\n",
       "      <th>green_valu</th>\n",
       "      <th>green_va_1</th>\n",
       "      <th>nir_value</th>\n",
       "      <th>nir_value_</th>\n",
       "      <th>red_value</th>\n",
       "      <th>red_value_</th>\n",
       "      <th>...</th>\n",
       "      <th>dSI_rb</th>\n",
       "      <th>dSI_br</th>\n",
       "      <th>dSI_gb</th>\n",
       "      <th>dSI_nr</th>\n",
       "      <th>dSI_rn</th>\n",
       "      <th>dSI_ng</th>\n",
       "      <th>dSI_bn</th>\n",
       "      <th>land_class</th>\n",
       "      <th>burn_class</th>\n",
       "      <th>geometry</th>\n",
       "    </tr>\n",
       "  </thead>\n",
       "  <tbody>\n",
       "    <tr>\n",
       "      <th>0</th>\n",
       "      <td>17</td>\n",
       "      <td>3265.85</td>\n",
       "      <td>97.024300</td>\n",
       "      <td>72.765828</td>\n",
       "      <td>65.335643</td>\n",
       "      <td>50.062458</td>\n",
       "      <td>57.833333</td>\n",
       "      <td>99.000000</td>\n",
       "      <td>80.725107</td>\n",
       "      <td>56.197437</td>\n",
       "      <td>...</td>\n",
       "      <td>0.036776</td>\n",
       "      <td>-0.036776</td>\n",
       "      <td>-0.010337</td>\n",
       "      <td>-0.441008</td>\n",
       "      <td>0.441008</td>\n",
       "      <td>-0.389213</td>\n",
       "      <td>0.405810</td>\n",
       "      <td>forest</td>\n",
       "      <td>0</td>\n",
       "      <td>POLYGON ((-121.5388488769531 39.7265625, -121....</td>\n",
       "    </tr>\n",
       "    <tr>\n",
       "      <th>1</th>\n",
       "      <td>37</td>\n",
       "      <td>2659.18</td>\n",
       "      <td>94.475519</td>\n",
       "      <td>59.952203</td>\n",
       "      <td>63.518769</td>\n",
       "      <td>39.916764</td>\n",
       "      <td>45.800000</td>\n",
       "      <td>90.250000</td>\n",
       "      <td>79.149569</td>\n",
       "      <td>43.251224</td>\n",
       "      <td>...</td>\n",
       "      <td>0.073555</td>\n",
       "      <td>-0.073555</td>\n",
       "      <td>0.004681</td>\n",
       "      <td>-0.618952</td>\n",
       "      <td>0.618952</td>\n",
       "      <td>-0.548766</td>\n",
       "      <td>0.548713</td>\n",
       "      <td>forest</td>\n",
       "      <td>0</td>\n",
       "      <td>POLYGON ((-121.5206954058479 39.7265625, -121....</td>\n",
       "    </tr>\n",
       "    <tr>\n",
       "      <th>2</th>\n",
       "      <td>3</td>\n",
       "      <td>2894.16</td>\n",
       "      <td>86.018102</td>\n",
       "      <td>90.460690</td>\n",
       "      <td>65.027849</td>\n",
       "      <td>68.429520</td>\n",
       "      <td>20.533333</td>\n",
       "      <td>70.666667</td>\n",
       "      <td>75.688196</td>\n",
       "      <td>87.232648</td>\n",
       "      <td>...</td>\n",
       "      <td>-0.045714</td>\n",
       "      <td>0.045714</td>\n",
       "      <td>-0.000309</td>\n",
       "      <td>-0.468292</td>\n",
       "      <td>0.468292</td>\n",
       "      <td>-0.536115</td>\n",
       "      <td>0.491737</td>\n",
       "      <td>forest</td>\n",
       "      <td>1</td>\n",
       "      <td>POLYGON ((-121.5505308263442 39.7265625, -121....</td>\n",
       "    </tr>\n",
       "    <tr>\n",
       "      <th>3</th>\n",
       "      <td>27</td>\n",
       "      <td>5323.94</td>\n",
       "      <td>79.441831</td>\n",
       "      <td>94.398626</td>\n",
       "      <td>56.938570</td>\n",
       "      <td>64.188483</td>\n",
       "      <td>22.166667</td>\n",
       "      <td>87.633333</td>\n",
       "      <td>73.195121</td>\n",
       "      <td>77.480319</td>\n",
       "      <td>...</td>\n",
       "      <td>0.057506</td>\n",
       "      <td>-0.057506</td>\n",
       "      <td>0.025492</td>\n",
       "      <td>-0.596595</td>\n",
       "      <td>0.596595</td>\n",
       "      <td>-0.593989</td>\n",
       "      <td>0.526519</td>\n",
       "      <td>forest</td>\n",
       "      <td>0</td>\n",
       "      <td>POLYGON ((-121.5298865823185 39.7265625, -121....</td>\n",
       "    </tr>\n",
       "    <tr>\n",
       "      <th>4</th>\n",
       "      <td>47</td>\n",
       "      <td>2805.50</td>\n",
       "      <td>98.464530</td>\n",
       "      <td>62.863757</td>\n",
       "      <td>62.296575</td>\n",
       "      <td>42.170497</td>\n",
       "      <td>71.461538</td>\n",
       "      <td>92.846154</td>\n",
       "      <td>71.210939</td>\n",
       "      <td>45.611160</td>\n",
       "      <td>...</td>\n",
       "      <td>-0.001575</td>\n",
       "      <td>0.001575</td>\n",
       "      <td>-0.027965</td>\n",
       "      <td>-0.339396</td>\n",
       "      <td>0.339396</td>\n",
       "      <td>-0.306810</td>\n",
       "      <td>0.351463</td>\n",
       "      <td>forest</td>\n",
       "      <td>0</td>\n",
       "      <td>POLYGON ((-121.5225444120519 39.72651762120864...</td>\n",
       "    </tr>\n",
       "  </tbody>\n",
       "</table>\n",
       "<p>5 rows × 49 columns</p>\n",
       "</div>"
      ],
      "text/plain": [
       "   seg_index   area_m  blue_value  blue_val_1  green_valu  green_va_1  \\\n",
       "0         17  3265.85   97.024300   72.765828   65.335643   50.062458   \n",
       "1         37  2659.18   94.475519   59.952203   63.518769   39.916764   \n",
       "2          3  2894.16   86.018102   90.460690   65.027849   68.429520   \n",
       "3         27  5323.94   79.441831   94.398626   56.938570   64.188483   \n",
       "4         47  2805.50   98.464530   62.863757   62.296575   42.170497   \n",
       "\n",
       "   nir_value  nir_value_  red_value  red_value_  ...    dSI_rb    dSI_br  \\\n",
       "0  57.833333   99.000000  80.725107   56.197437  ...  0.036776 -0.036776   \n",
       "1  45.800000   90.250000  79.149569   43.251224  ...  0.073555 -0.073555   \n",
       "2  20.533333   70.666667  75.688196   87.232648  ... -0.045714  0.045714   \n",
       "3  22.166667   87.633333  73.195121   77.480319  ...  0.057506 -0.057506   \n",
       "4  71.461538   92.846154  71.210939   45.611160  ... -0.001575  0.001575   \n",
       "\n",
       "     dSI_gb    dSI_nr    dSI_rn    dSI_ng    dSI_bn  land_class  burn_class  \\\n",
       "0 -0.010337 -0.441008  0.441008 -0.389213  0.405810      forest           0   \n",
       "1  0.004681 -0.618952  0.618952 -0.548766  0.548713      forest           0   \n",
       "2 -0.000309 -0.468292  0.468292 -0.536115  0.491737      forest           1   \n",
       "3  0.025492 -0.596595  0.596595 -0.593989  0.526519      forest           0   \n",
       "4 -0.027965 -0.339396  0.339396 -0.306810  0.351463      forest           0   \n",
       "\n",
       "                                            geometry  \n",
       "0  POLYGON ((-121.5388488769531 39.7265625, -121....  \n",
       "1  POLYGON ((-121.5206954058479 39.7265625, -121....  \n",
       "2  POLYGON ((-121.5505308263442 39.7265625, -121....  \n",
       "3  POLYGON ((-121.5298865823185 39.7265625, -121....  \n",
       "4  POLYGON ((-121.5225444120519 39.72651762120864...  \n",
       "\n",
       "[5 rows x 49 columns]"
      ]
     },
     "execution_count": 4,
     "metadata": {},
     "output_type": "execute_result"
    }
   ],
   "source": [
    "gdfs = []\n",
    "for filepath in filepaths:\n",
    "    gdfs.append(gpd.read_file(filepath))\n",
    "gdfs[0].head()"
   ]
  },
  {
   "cell_type": "code",
   "execution_count": 5,
   "metadata": {
    "slideshow": {
     "slide_type": "subslide"
    }
   },
   "outputs": [
    {
     "data": {
      "text/plain": [
       "Index(['seg_index', 'area_m', 'blue_value', 'blue_val_1', 'green_valu',\n",
       "       'green_va_1', 'nir_value', 'nir_value_', 'red_value', 'red_value_',\n",
       "       'SI_bg_post', 'SI_br_post', 'SI_bn_post', 'SI_gb_post', 'SI_gr_post',\n",
       "       'SI_gn_post', 'SI_rb_post', 'SI_rg_post', 'SI_rn_post', 'SI_nb_post',\n",
       "       'SI_ng_post', 'SI_nr_post', 'SI_bg_pre', 'SI_br_pre', 'SI_bn_pre',\n",
       "       'SI_gb_pre', 'SI_gr_pre', 'SI_gn_pre', 'SI_rb_pre', 'SI_rg_pre',\n",
       "       'SI_rn_pre', 'SI_nb_pre', 'SI_ng_pre', 'SI_nr_pre', 'dSI_nb', 'dSI_rg',\n",
       "       'dSI_bg', 'dSI_gr', 'dSI_gn', 'dSI_rb', 'dSI_br', 'dSI_gb', 'dSI_nr',\n",
       "       'dSI_rn', 'dSI_ng', 'dSI_bn', 'land_class', 'burn_class', 'geometry'],\n",
       "      dtype='object')"
      ]
     },
     "execution_count": 5,
     "metadata": {},
     "output_type": "execute_result"
    }
   ],
   "source": [
    "#'Blue_value' - 'dSI_bn' will be X, y is 'burn_class' \n",
    "gdfs[0].keys()"
   ]
  },
  {
   "cell_type": "code",
   "execution_count": 6,
   "metadata": {},
   "outputs": [
    {
     "data": {
      "text/html": [
       "<div>\n",
       "<style scoped>\n",
       "    .dataframe tbody tr th:only-of-type {\n",
       "        vertical-align: middle;\n",
       "    }\n",
       "\n",
       "    .dataframe tbody tr th {\n",
       "        vertical-align: top;\n",
       "    }\n",
       "\n",
       "    .dataframe thead th {\n",
       "        text-align: right;\n",
       "    }\n",
       "</style>\n",
       "<table border=\"1\" class=\"dataframe\">\n",
       "  <thead>\n",
       "    <tr style=\"text-align: right;\">\n",
       "      <th></th>\n",
       "      <th>seg_index</th>\n",
       "      <th>area_m</th>\n",
       "      <th>blue_value</th>\n",
       "      <th>blue_val_1</th>\n",
       "      <th>green_valu</th>\n",
       "      <th>green_va_1</th>\n",
       "      <th>nir_value</th>\n",
       "      <th>nir_value_</th>\n",
       "      <th>red_value</th>\n",
       "      <th>red_value_</th>\n",
       "      <th>...</th>\n",
       "      <th>dSI_rb</th>\n",
       "      <th>dSI_br</th>\n",
       "      <th>dSI_gb</th>\n",
       "      <th>dSI_nr</th>\n",
       "      <th>dSI_rn</th>\n",
       "      <th>dSI_ng</th>\n",
       "      <th>dSI_bn</th>\n",
       "      <th>land_class</th>\n",
       "      <th>burn_class</th>\n",
       "      <th>geometry</th>\n",
       "    </tr>\n",
       "  </thead>\n",
       "  <tbody>\n",
       "    <tr>\n",
       "      <th>0</th>\n",
       "      <td>17</td>\n",
       "      <td>3265.85</td>\n",
       "      <td>97.024300</td>\n",
       "      <td>72.765828</td>\n",
       "      <td>65.335643</td>\n",
       "      <td>50.062458</td>\n",
       "      <td>57.833333</td>\n",
       "      <td>99.000000</td>\n",
       "      <td>80.725107</td>\n",
       "      <td>56.197437</td>\n",
       "      <td>...</td>\n",
       "      <td>0.036776</td>\n",
       "      <td>-0.036776</td>\n",
       "      <td>-0.010337</td>\n",
       "      <td>-0.441008</td>\n",
       "      <td>0.441008</td>\n",
       "      <td>-0.389213</td>\n",
       "      <td>0.405810</td>\n",
       "      <td>forest</td>\n",
       "      <td>0</td>\n",
       "      <td>POLYGON ((-121.5388488769531 39.7265625, -121....</td>\n",
       "    </tr>\n",
       "    <tr>\n",
       "      <th>1</th>\n",
       "      <td>37</td>\n",
       "      <td>2659.18</td>\n",
       "      <td>94.475519</td>\n",
       "      <td>59.952203</td>\n",
       "      <td>63.518769</td>\n",
       "      <td>39.916764</td>\n",
       "      <td>45.800000</td>\n",
       "      <td>90.250000</td>\n",
       "      <td>79.149569</td>\n",
       "      <td>43.251224</td>\n",
       "      <td>...</td>\n",
       "      <td>0.073555</td>\n",
       "      <td>-0.073555</td>\n",
       "      <td>0.004681</td>\n",
       "      <td>-0.618952</td>\n",
       "      <td>0.618952</td>\n",
       "      <td>-0.548766</td>\n",
       "      <td>0.548713</td>\n",
       "      <td>forest</td>\n",
       "      <td>0</td>\n",
       "      <td>POLYGON ((-121.5206954058479 39.7265625, -121....</td>\n",
       "    </tr>\n",
       "    <tr>\n",
       "      <th>2</th>\n",
       "      <td>3</td>\n",
       "      <td>2894.16</td>\n",
       "      <td>86.018102</td>\n",
       "      <td>90.460690</td>\n",
       "      <td>65.027849</td>\n",
       "      <td>68.429520</td>\n",
       "      <td>20.533333</td>\n",
       "      <td>70.666667</td>\n",
       "      <td>75.688196</td>\n",
       "      <td>87.232648</td>\n",
       "      <td>...</td>\n",
       "      <td>-0.045714</td>\n",
       "      <td>0.045714</td>\n",
       "      <td>-0.000309</td>\n",
       "      <td>-0.468292</td>\n",
       "      <td>0.468292</td>\n",
       "      <td>-0.536115</td>\n",
       "      <td>0.491737</td>\n",
       "      <td>forest</td>\n",
       "      <td>1</td>\n",
       "      <td>POLYGON ((-121.5505308263442 39.7265625, -121....</td>\n",
       "    </tr>\n",
       "    <tr>\n",
       "      <th>3</th>\n",
       "      <td>27</td>\n",
       "      <td>5323.94</td>\n",
       "      <td>79.441831</td>\n",
       "      <td>94.398626</td>\n",
       "      <td>56.938570</td>\n",
       "      <td>64.188483</td>\n",
       "      <td>22.166667</td>\n",
       "      <td>87.633333</td>\n",
       "      <td>73.195121</td>\n",
       "      <td>77.480319</td>\n",
       "      <td>...</td>\n",
       "      <td>0.057506</td>\n",
       "      <td>-0.057506</td>\n",
       "      <td>0.025492</td>\n",
       "      <td>-0.596595</td>\n",
       "      <td>0.596595</td>\n",
       "      <td>-0.593989</td>\n",
       "      <td>0.526519</td>\n",
       "      <td>forest</td>\n",
       "      <td>0</td>\n",
       "      <td>POLYGON ((-121.5298865823185 39.7265625, -121....</td>\n",
       "    </tr>\n",
       "    <tr>\n",
       "      <th>4</th>\n",
       "      <td>47</td>\n",
       "      <td>2805.50</td>\n",
       "      <td>98.464530</td>\n",
       "      <td>62.863757</td>\n",
       "      <td>62.296575</td>\n",
       "      <td>42.170497</td>\n",
       "      <td>71.461538</td>\n",
       "      <td>92.846154</td>\n",
       "      <td>71.210939</td>\n",
       "      <td>45.611160</td>\n",
       "      <td>...</td>\n",
       "      <td>-0.001575</td>\n",
       "      <td>0.001575</td>\n",
       "      <td>-0.027965</td>\n",
       "      <td>-0.339396</td>\n",
       "      <td>0.339396</td>\n",
       "      <td>-0.306810</td>\n",
       "      <td>0.351463</td>\n",
       "      <td>forest</td>\n",
       "      <td>0</td>\n",
       "      <td>POLYGON ((-121.5225444120519 39.72651762120864...</td>\n",
       "    </tr>\n",
       "    <tr>\n",
       "      <th>5</th>\n",
       "      <td>25</td>\n",
       "      <td>3930.80</td>\n",
       "      <td>79.232492</td>\n",
       "      <td>84.662461</td>\n",
       "      <td>54.582256</td>\n",
       "      <td>55.686909</td>\n",
       "      <td>23.791667</td>\n",
       "      <td>87.875000</td>\n",
       "      <td>71.843533</td>\n",
       "      <td>65.856309</td>\n",
       "      <td>...</td>\n",
       "      <td>0.076033</td>\n",
       "      <td>-0.076033</td>\n",
       "      <td>0.022241</td>\n",
       "      <td>-0.645678</td>\n",
       "      <td>0.645678</td>\n",
       "      <td>-0.617078</td>\n",
       "      <td>0.556754</td>\n",
       "      <td>forest</td>\n",
       "      <td>0</td>\n",
       "      <td>POLYGON ((-121.5309816248277 39.7265625, -121....</td>\n",
       "    </tr>\n",
       "    <tr>\n",
       "      <th>6</th>\n",
       "      <td>51</td>\n",
       "      <td>2720.56</td>\n",
       "      <td>68.351869</td>\n",
       "      <td>56.855857</td>\n",
       "      <td>48.352097</td>\n",
       "      <td>39.038628</td>\n",
       "      <td>20.333333</td>\n",
       "      <td>81.400000</td>\n",
       "      <td>55.520624</td>\n",
       "      <td>40.307315</td>\n",
       "      <td>...</td>\n",
       "      <td>0.066733</td>\n",
       "      <td>-0.066733</td>\n",
       "      <td>0.014429</td>\n",
       "      <td>-0.801517</td>\n",
       "      <td>0.801517</td>\n",
       "      <td>-0.759655</td>\n",
       "      <td>0.718976</td>\n",
       "      <td>forest</td>\n",
       "      <td>0</td>\n",
       "      <td>POLYGON ((-121.5260314941406 39.72646825453814...</td>\n",
       "    </tr>\n",
       "    <tr>\n",
       "      <th>7</th>\n",
       "      <td>2</td>\n",
       "      <td>4345.89</td>\n",
       "      <td>84.417933</td>\n",
       "      <td>76.088665</td>\n",
       "      <td>64.176546</td>\n",
       "      <td>53.905771</td>\n",
       "      <td>29.851852</td>\n",
       "      <td>83.370370</td>\n",
       "      <td>72.657536</td>\n",
       "      <td>61.513161</td>\n",
       "      <td>...</td>\n",
       "      <td>0.031054</td>\n",
       "      <td>-0.031054</td>\n",
       "      <td>0.034426</td>\n",
       "      <td>-0.568439</td>\n",
       "      <td>0.568439</td>\n",
       "      <td>-0.579683</td>\n",
       "      <td>0.523185</td>\n",
       "      <td>forest</td>\n",
       "      <td>1</td>\n",
       "      <td>POLYGON ((-121.5510873233571 39.7265625, -121....</td>\n",
       "    </tr>\n",
       "    <tr>\n",
       "      <th>8</th>\n",
       "      <td>4</td>\n",
       "      <td>4158.65</td>\n",
       "      <td>74.688110</td>\n",
       "      <td>79.030712</td>\n",
       "      <td>55.724711</td>\n",
       "      <td>58.391204</td>\n",
       "      <td>14.846154</td>\n",
       "      <td>68.653846</td>\n",
       "      <td>65.502199</td>\n",
       "      <td>70.291837</td>\n",
       "      <td>...</td>\n",
       "      <td>-0.007001</td>\n",
       "      <td>0.007001</td>\n",
       "      <td>0.004780</td>\n",
       "      <td>-0.618667</td>\n",
       "      <td>0.618667</td>\n",
       "      <td>-0.660035</td>\n",
       "      <td>0.598106</td>\n",
       "      <td>forest</td>\n",
       "      <td>1</td>\n",
       "      <td>POLYGON ((-121.5499653535731 39.7265625, -121....</td>\n",
       "    </tr>\n",
       "    <tr>\n",
       "      <th>9</th>\n",
       "      <td>13</td>\n",
       "      <td>3688.38</td>\n",
       "      <td>89.508993</td>\n",
       "      <td>58.461002</td>\n",
       "      <td>63.013952</td>\n",
       "      <td>38.132795</td>\n",
       "      <td>34.782609</td>\n",
       "      <td>101.782609</td>\n",
       "      <td>76.674063</td>\n",
       "      <td>36.478904</td>\n",
       "      <td>...</td>\n",
       "      <td>0.154303</td>\n",
       "      <td>-0.154303</td>\n",
       "      <td>0.036739</td>\n",
       "      <td>-0.848174</td>\n",
       "      <td>0.848174</td>\n",
       "      <td>-0.743591</td>\n",
       "      <td>0.710655</td>\n",
       "      <td>forest</td>\n",
       "      <td>1</td>\n",
       "      <td>POLYGON ((-121.5420936135685 39.7265625, -121....</td>\n",
       "    </tr>\n",
       "    <tr>\n",
       "      <th>10</th>\n",
       "      <td>41</td>\n",
       "      <td>4171.05</td>\n",
       "      <td>104.923003</td>\n",
       "      <td>74.750056</td>\n",
       "      <td>69.995020</td>\n",
       "      <td>47.193906</td>\n",
       "      <td>57.535714</td>\n",
       "      <td>117.857143</td>\n",
       "      <td>84.300409</td>\n",
       "      <td>51.429729</td>\n",
       "      <td>...</td>\n",
       "      <td>0.075833</td>\n",
       "      <td>-0.075833</td>\n",
       "      <td>0.026292</td>\n",
       "      <td>-0.581097</td>\n",
       "      <td>0.581097</td>\n",
       "      <td>-0.525826</td>\n",
       "      <td>0.515496</td>\n",
       "      <td>forest</td>\n",
       "      <td>0</td>\n",
       "      <td>POLYGON ((-121.5189316693474 39.7265625, -121....</td>\n",
       "    </tr>\n",
       "    <tr>\n",
       "      <th>11</th>\n",
       "      <td>53</td>\n",
       "      <td>2706.61</td>\n",
       "      <td>94.946054</td>\n",
       "      <td>120.391021</td>\n",
       "      <td>70.870920</td>\n",
       "      <td>94.891421</td>\n",
       "      <td>27.571429</td>\n",
       "      <td>91.142857</td>\n",
       "      <td>81.880312</td>\n",
       "      <td>122.735884</td>\n",
       "      <td>...</td>\n",
       "      <td>-0.083535</td>\n",
       "      <td>0.083535</td>\n",
       "      <td>-0.026744</td>\n",
       "      <td>-0.348476</td>\n",
       "      <td>0.348476</td>\n",
       "      <td>-0.419696</td>\n",
       "      <td>0.411651</td>\n",
       "      <td>forest</td>\n",
       "      <td>1</td>\n",
       "      <td>POLYGON ((-121.5171769086052 39.72646376665901...</td>\n",
       "    </tr>\n",
       "    <tr>\n",
       "      <th>12</th>\n",
       "      <td>11</td>\n",
       "      <td>5543.11</td>\n",
       "      <td>78.179352</td>\n",
       "      <td>60.581847</td>\n",
       "      <td>52.952128</td>\n",
       "      <td>39.076785</td>\n",
       "      <td>16.500000</td>\n",
       "      <td>96.093750</td>\n",
       "      <td>63.752195</td>\n",
       "      <td>37.554667</td>\n",
       "      <td>...</td>\n",
       "      <td>0.132996</td>\n",
       "      <td>-0.132996</td>\n",
       "      <td>0.023406</td>\n",
       "      <td>-1.026804</td>\n",
       "      <td>1.026804</td>\n",
       "      <td>-0.946668</td>\n",
       "      <td>0.878114</td>\n",
       "      <td>forest</td>\n",
       "      <td>0</td>\n",
       "      <td>POLYGON ((-121.5432604621438 39.7265625, -121....</td>\n",
       "    </tr>\n",
       "    <tr>\n",
       "      <th>13</th>\n",
       "      <td>5</td>\n",
       "      <td>4457.80</td>\n",
       "      <td>63.339082</td>\n",
       "      <td>70.231433</td>\n",
       "      <td>46.664882</td>\n",
       "      <td>47.221697</td>\n",
       "      <td>5.640000</td>\n",
       "      <td>75.880000</td>\n",
       "      <td>55.211683</td>\n",
       "      <td>49.732267</td>\n",
       "      <td>...</td>\n",
       "      <td>0.102322</td>\n",
       "      <td>-0.102322</td>\n",
       "      <td>0.044328</td>\n",
       "      <td>-1.022794</td>\n",
       "      <td>1.022794</td>\n",
       "      <td>-1.017143</td>\n",
       "      <td>0.875131</td>\n",
       "      <td>forest</td>\n",
       "      <td>1</td>\n",
       "      <td>POLYGON ((-121.5496512020335 39.7265625, -121....</td>\n",
       "    </tr>\n",
       "    <tr>\n",
       "      <th>14</th>\n",
       "      <td>42</td>\n",
       "      <td>5113.45</td>\n",
       "      <td>90.382783</td>\n",
       "      <td>83.793271</td>\n",
       "      <td>65.306881</td>\n",
       "      <td>54.450258</td>\n",
       "      <td>39.593750</td>\n",
       "      <td>123.437500</td>\n",
       "      <td>76.846135</td>\n",
       "      <td>60.651713</td>\n",
       "      <td>...</td>\n",
       "      <td>0.079263</td>\n",
       "      <td>-0.079263</td>\n",
       "      <td>0.051193</td>\n",
       "      <td>-0.660990</td>\n",
       "      <td>0.660990</td>\n",
       "      <td>-0.632932</td>\n",
       "      <td>0.582060</td>\n",
       "      <td>forest</td>\n",
       "      <td>0</td>\n",
       "      <td>POLYGON ((-121.5184783935547 39.7265625, -121....</td>\n",
       "    </tr>\n",
       "    <tr>\n",
       "      <th>15</th>\n",
       "      <td>6</td>\n",
       "      <td>7170.92</td>\n",
       "      <td>68.834990</td>\n",
       "      <td>77.434679</td>\n",
       "      <td>50.066920</td>\n",
       "      <td>52.973370</td>\n",
       "      <td>8.755102</td>\n",
       "      <td>83.367347</td>\n",
       "      <td>61.549715</td>\n",
       "      <td>58.574010</td>\n",
       "      <td>...</td>\n",
       "      <td>0.082797</td>\n",
       "      <td>-0.082797</td>\n",
       "      <td>0.029730</td>\n",
       "      <td>-0.925612</td>\n",
       "      <td>0.925612</td>\n",
       "      <td>-0.925246</td>\n",
       "      <td>0.811218</td>\n",
       "      <td>forest</td>\n",
       "      <td>1</td>\n",
       "      <td>POLYGON ((-121.548874798943 39.7265625, -121.5...</td>\n",
       "    </tr>\n",
       "    <tr>\n",
       "      <th>16</th>\n",
       "      <td>22</td>\n",
       "      <td>3878.41</td>\n",
       "      <td>68.776037</td>\n",
       "      <td>70.419631</td>\n",
       "      <td>48.122133</td>\n",
       "      <td>45.362241</td>\n",
       "      <td>15.875000</td>\n",
       "      <td>102.125000</td>\n",
       "      <td>63.166733</td>\n",
       "      <td>50.788346</td>\n",
       "      <td>...</td>\n",
       "      <td>0.119450</td>\n",
       "      <td>-0.119450</td>\n",
       "      <td>0.039736</td>\n",
       "      <td>-0.934037</td>\n",
       "      <td>0.934037</td>\n",
       "      <td>-0.888750</td>\n",
       "      <td>0.808682</td>\n",
       "      <td>forest</td>\n",
       "      <td>1</td>\n",
       "      <td>POLYGON ((-121.5340917250689 39.7265625, -121....</td>\n",
       "    </tr>\n",
       "    <tr>\n",
       "      <th>17</th>\n",
       "      <td>10</td>\n",
       "      <td>5098.88</td>\n",
       "      <td>87.508572</td>\n",
       "      <td>62.099100</td>\n",
       "      <td>60.268665</td>\n",
       "      <td>41.800158</td>\n",
       "      <td>36.433333</td>\n",
       "      <td>86.066667</td>\n",
       "      <td>76.117704</td>\n",
       "      <td>44.686649</td>\n",
       "      <td>...</td>\n",
       "      <td>0.093445</td>\n",
       "      <td>-0.093445</td>\n",
       "      <td>0.011041</td>\n",
       "      <td>-0.669064</td>\n",
       "      <td>0.669064</td>\n",
       "      <td>-0.592675</td>\n",
       "      <td>0.573852</td>\n",
       "      <td>forest</td>\n",
       "      <td>0</td>\n",
       "      <td>POLYGON ((-121.5440727682675 39.7265625, -121....</td>\n",
       "    </tr>\n",
       "    <tr>\n",
       "      <th>18</th>\n",
       "      <td>20</td>\n",
       "      <td>11611.36</td>\n",
       "      <td>69.577157</td>\n",
       "      <td>85.963744</td>\n",
       "      <td>49.130633</td>\n",
       "      <td>60.018715</td>\n",
       "      <td>16.731343</td>\n",
       "      <td>96.552239</td>\n",
       "      <td>62.635225</td>\n",
       "      <td>68.154261</td>\n",
       "      <td>...</td>\n",
       "      <td>0.063052</td>\n",
       "      <td>-0.063052</td>\n",
       "      <td>0.005485</td>\n",
       "      <td>-0.750794</td>\n",
       "      <td>0.750794</td>\n",
       "      <td>-0.725262</td>\n",
       "      <td>0.670304</td>\n",
       "      <td>forest</td>\n",
       "      <td>1</td>\n",
       "      <td>POLYGON ((-121.5364658131319 39.7265625, -121....</td>\n",
       "    </tr>\n",
       "    <tr>\n",
       "      <th>19</th>\n",
       "      <td>44</td>\n",
       "      <td>5786.46</td>\n",
       "      <td>84.131576</td>\n",
       "      <td>87.839226</td>\n",
       "      <td>62.363334</td>\n",
       "      <td>61.533858</td>\n",
       "      <td>17.083333</td>\n",
       "      <td>94.750000</td>\n",
       "      <td>70.474178</td>\n",
       "      <td>71.071038</td>\n",
       "      <td>...</td>\n",
       "      <td>0.017183</td>\n",
       "      <td>-0.017183</td>\n",
       "      <td>0.027511</td>\n",
       "      <td>-0.752579</td>\n",
       "      <td>0.752579</td>\n",
       "      <td>-0.782479</td>\n",
       "      <td>0.700283</td>\n",
       "      <td>forest</td>\n",
       "      <td>1</td>\n",
       "      <td>POLYGON ((-121.5169525146484 39.7265625, -121....</td>\n",
       "    </tr>\n",
       "    <tr>\n",
       "      <th>20</th>\n",
       "      <td>1</td>\n",
       "      <td>5478.63</td>\n",
       "      <td>101.651502</td>\n",
       "      <td>82.399706</td>\n",
       "      <td>75.850224</td>\n",
       "      <td>57.436881</td>\n",
       "      <td>58.258065</td>\n",
       "      <td>107.967742</td>\n",
       "      <td>86.779098</td>\n",
       "      <td>62.355118</td>\n",
       "      <td>...</td>\n",
       "      <td>0.059545</td>\n",
       "      <td>-0.059545</td>\n",
       "      <td>0.033156</td>\n",
       "      <td>-0.464447</td>\n",
       "      <td>0.464447</td>\n",
       "      <td>-0.436677</td>\n",
       "      <td>0.405671</td>\n",
       "      <td>forest</td>\n",
       "      <td>1</td>\n",
       "      <td>POLYGON ((-121.5521868537454 39.7265625, -121....</td>\n",
       "    </tr>\n",
       "    <tr>\n",
       "      <th>21</th>\n",
       "      <td>39</td>\n",
       "      <td>3736.43</td>\n",
       "      <td>109.151995</td>\n",
       "      <td>87.823032</td>\n",
       "      <td>69.611798</td>\n",
       "      <td>57.941094</td>\n",
       "      <td>63.807692</td>\n",
       "      <td>112.346154</td>\n",
       "      <td>90.389032</td>\n",
       "      <td>67.083050</td>\n",
       "      <td>...</td>\n",
       "      <td>0.039857</td>\n",
       "      <td>-0.039857</td>\n",
       "      <td>-0.016185</td>\n",
       "      <td>-0.424648</td>\n",
       "      <td>0.424648</td>\n",
       "      <td>-0.362993</td>\n",
       "      <td>0.384679</td>\n",
       "      <td>forest</td>\n",
       "      <td>0</td>\n",
       "      <td>POLYGON ((-121.5198965633617 39.7265625, -121....</td>\n",
       "    </tr>\n",
       "    <tr>\n",
       "      <th>22</th>\n",
       "      <td>30</td>\n",
       "      <td>6786.52</td>\n",
       "      <td>76.623241</td>\n",
       "      <td>69.542344</td>\n",
       "      <td>54.082542</td>\n",
       "      <td>45.222593</td>\n",
       "      <td>19.644444</td>\n",
       "      <td>92.200000</td>\n",
       "      <td>66.442719</td>\n",
       "      <td>49.737712</td>\n",
       "      <td>...</td>\n",
       "      <td>0.094875</td>\n",
       "      <td>-0.094875</td>\n",
       "      <td>0.039456</td>\n",
       "      <td>-0.842776</td>\n",
       "      <td>0.842776</td>\n",
       "      <td>-0.808949</td>\n",
       "      <td>0.731964</td>\n",
       "      <td>forest</td>\n",
       "      <td>0</td>\n",
       "      <td>POLYGON ((-121.5267271154067 39.7265625, -121....</td>\n",
       "    </tr>\n",
       "    <tr>\n",
       "      <th>23</th>\n",
       "      <td>31</td>\n",
       "      <td>5440.81</td>\n",
       "      <td>82.165290</td>\n",
       "      <td>94.859438</td>\n",
       "      <td>60.167170</td>\n",
       "      <td>67.193208</td>\n",
       "      <td>22.810811</td>\n",
       "      <td>111.108108</td>\n",
       "      <td>69.083015</td>\n",
       "      <td>82.255541</td>\n",
       "      <td>...</td>\n",
       "      <td>-0.015333</td>\n",
       "      <td>0.015333</td>\n",
       "      <td>0.016169</td>\n",
       "      <td>-0.652754</td>\n",
       "      <td>0.652754</td>\n",
       "      <td>-0.696492</td>\n",
       "      <td>0.644299</td>\n",
       "      <td>forest</td>\n",
       "      <td>0</td>\n",
       "      <td>POLYGON ((-121.5261167638442 39.7265625, -121....</td>\n",
       "    </tr>\n",
       "    <tr>\n",
       "      <th>24</th>\n",
       "      <td>34</td>\n",
       "      <td>5964.40</td>\n",
       "      <td>84.115956</td>\n",
       "      <td>80.543451</td>\n",
       "      <td>54.858524</td>\n",
       "      <td>54.994491</td>\n",
       "      <td>69.638889</td>\n",
       "      <td>100.194444</td>\n",
       "      <td>60.435915</td>\n",
       "      <td>63.503742</td>\n",
       "      <td>...</td>\n",
       "      <td>-0.045524</td>\n",
       "      <td>0.045524</td>\n",
       "      <td>-0.022023</td>\n",
       "      <td>-0.153385</td>\n",
       "      <td>0.153385</td>\n",
       "      <td>-0.172537</td>\n",
       "      <td>0.202883</td>\n",
       "      <td>forest</td>\n",
       "      <td>0</td>\n",
       "      <td>POLYGON ((-121.52307398179 39.7265625, -121.52...</td>\n",
       "    </tr>\n",
       "    <tr>\n",
       "      <th>25</th>\n",
       "      <td>43</td>\n",
       "      <td>6271.92</td>\n",
       "      <td>78.597568</td>\n",
       "      <td>83.286526</td>\n",
       "      <td>57.323745</td>\n",
       "      <td>57.727214</td>\n",
       "      <td>18.923077</td>\n",
       "      <td>97.846154</td>\n",
       "      <td>65.724002</td>\n",
       "      <td>66.249654</td>\n",
       "      <td>...</td>\n",
       "      <td>0.024731</td>\n",
       "      <td>-0.024731</td>\n",
       "      <td>0.024738</td>\n",
       "      <td>-0.745444</td>\n",
       "      <td>0.745444</td>\n",
       "      <td>-0.761514</td>\n",
       "      <td>0.692298</td>\n",
       "      <td>forest</td>\n",
       "      <td>1</td>\n",
       "      <td>POLYGON ((-121.5179084329044 39.7265625, -121....</td>\n",
       "    </tr>\n",
       "    <tr>\n",
       "      <th>26</th>\n",
       "      <td>40</td>\n",
       "      <td>5186.92</td>\n",
       "      <td>101.232907</td>\n",
       "      <td>71.892721</td>\n",
       "      <td>60.934796</td>\n",
       "      <td>46.890748</td>\n",
       "      <td>73.939394</td>\n",
       "      <td>103.000000</td>\n",
       "      <td>76.307375</td>\n",
       "      <td>52.018527</td>\n",
       "      <td>...</td>\n",
       "      <td>0.019997</td>\n",
       "      <td>-0.019997</td>\n",
       "      <td>-0.038013</td>\n",
       "      <td>-0.344634</td>\n",
       "      <td>0.344634</td>\n",
       "      <td>-0.277914</td>\n",
       "      <td>0.333674</td>\n",
       "      <td>forest</td>\n",
       "      <td>0</td>\n",
       "      <td>POLYGON ((-121.5197349997128 39.7265625, -121....</td>\n",
       "    </tr>\n",
       "    <tr>\n",
       "      <th>27</th>\n",
       "      <td>29</td>\n",
       "      <td>8808.65</td>\n",
       "      <td>80.709836</td>\n",
       "      <td>72.408622</td>\n",
       "      <td>56.209572</td>\n",
       "      <td>47.118740</td>\n",
       "      <td>32.228070</td>\n",
       "      <td>101.526316</td>\n",
       "      <td>69.742812</td>\n",
       "      <td>54.084814</td>\n",
       "      <td>...</td>\n",
       "      <td>0.071966</td>\n",
       "      <td>-0.071966</td>\n",
       "      <td>0.032643</td>\n",
       "      <td>-0.672769</td>\n",
       "      <td>0.672769</td>\n",
       "      <td>-0.637192</td>\n",
       "      <td>0.596684</td>\n",
       "      <td>forest</td>\n",
       "      <td>0</td>\n",
       "      <td>POLYGON ((-121.5277817670037 39.7265625, -121....</td>\n",
       "    </tr>\n",
       "    <tr>\n",
       "      <th>28</th>\n",
       "      <td>33</td>\n",
       "      <td>9278.61</td>\n",
       "      <td>71.420768</td>\n",
       "      <td>90.514751</td>\n",
       "      <td>50.543082</td>\n",
       "      <td>62.745047</td>\n",
       "      <td>27.852459</td>\n",
       "      <td>97.278689</td>\n",
       "      <td>56.534463</td>\n",
       "      <td>81.504393</td>\n",
       "      <td>...</td>\n",
       "      <td>-0.063960</td>\n",
       "      <td>0.063960</td>\n",
       "      <td>0.010014</td>\n",
       "      <td>-0.428118</td>\n",
       "      <td>0.428118</td>\n",
       "      <td>-0.505241</td>\n",
       "      <td>0.474891</td>\n",
       "      <td>forest</td>\n",
       "      <td>0</td>\n",
       "      <td>POLYGON ((-121.5245504940257 39.7265625, -121....</td>\n",
       "    </tr>\n",
       "    <tr>\n",
       "      <th>29</th>\n",
       "      <td>8</td>\n",
       "      <td>12578.56</td>\n",
       "      <td>96.936243</td>\n",
       "      <td>85.538717</td>\n",
       "      <td>63.655535</td>\n",
       "      <td>61.182842</td>\n",
       "      <td>47.925926</td>\n",
       "      <td>85.950617</td>\n",
       "      <td>88.965078</td>\n",
       "      <td>80.867163</td>\n",
       "      <td>...</td>\n",
       "      <td>-0.014805</td>\n",
       "      <td>0.014805</td>\n",
       "      <td>-0.041237</td>\n",
       "      <td>-0.330267</td>\n",
       "      <td>0.330267</td>\n",
       "      <td>-0.309305</td>\n",
       "      <td>0.340726</td>\n",
       "      <td>forest</td>\n",
       "      <td>0</td>\n",
       "      <td>POLYGON ((-121.5468507654527 39.7265625, -121....</td>\n",
       "    </tr>\n",
       "    <tr>\n",
       "      <th>...</th>\n",
       "      <td>...</td>\n",
       "      <td>...</td>\n",
       "      <td>...</td>\n",
       "      <td>...</td>\n",
       "      <td>...</td>\n",
       "      <td>...</td>\n",
       "      <td>...</td>\n",
       "      <td>...</td>\n",
       "      <td>...</td>\n",
       "      <td>...</td>\n",
       "      <td>...</td>\n",
       "      <td>...</td>\n",
       "      <td>...</td>\n",
       "      <td>...</td>\n",
       "      <td>...</td>\n",
       "      <td>...</td>\n",
       "      <td>...</td>\n",
       "      <td>...</td>\n",
       "      <td>...</td>\n",
       "      <td>...</td>\n",
       "      <td>...</td>\n",
       "    </tr>\n",
       "    <tr>\n",
       "      <th>3067</th>\n",
       "      <td>3088</td>\n",
       "      <td>6337.64</td>\n",
       "      <td>90.371405</td>\n",
       "      <td>99.396009</td>\n",
       "      <td>60.388574</td>\n",
       "      <td>72.413813</td>\n",
       "      <td>31.048780</td>\n",
       "      <td>95.536585</td>\n",
       "      <td>71.010859</td>\n",
       "      <td>84.758071</td>\n",
       "      <td>...</td>\n",
       "      <td>-0.040480</td>\n",
       "      <td>0.040480</td>\n",
       "      <td>-0.041831</td>\n",
       "      <td>-0.451339</td>\n",
       "      <td>0.451339</td>\n",
       "      <td>-0.458549</td>\n",
       "      <td>0.468774</td>\n",
       "      <td>urban</td>\n",
       "      <td>1</td>\n",
       "      <td>POLYGON ((-121.6311510871438 39.7711809943704,...</td>\n",
       "    </tr>\n",
       "    <tr>\n",
       "      <th>3068</th>\n",
       "      <td>3092</td>\n",
       "      <td>8284.44</td>\n",
       "      <td>70.165432</td>\n",
       "      <td>72.558337</td>\n",
       "      <td>48.904393</td>\n",
       "      <td>51.647957</td>\n",
       "      <td>15.442308</td>\n",
       "      <td>81.403846</td>\n",
       "      <td>54.184965</td>\n",
       "      <td>56.412925</td>\n",
       "      <td>...</td>\n",
       "      <td>-0.003325</td>\n",
       "      <td>0.003325</td>\n",
       "      <td>-0.010207</td>\n",
       "      <td>-0.737764</td>\n",
       "      <td>0.737764</td>\n",
       "      <td>-0.743669</td>\n",
       "      <td>0.696684</td>\n",
       "      <td>urban</td>\n",
       "      <td>1</td>\n",
       "      <td>POLYGON ((-121.6293020809398 39.77114060345818...</td>\n",
       "    </tr>\n",
       "    <tr>\n",
       "      <th>3069</th>\n",
       "      <td>3075</td>\n",
       "      <td>7998.62</td>\n",
       "      <td>91.237695</td>\n",
       "      <td>82.731300</td>\n",
       "      <td>69.236803</td>\n",
       "      <td>60.661150</td>\n",
       "      <td>26.638298</td>\n",
       "      <td>79.829787</td>\n",
       "      <td>76.861639</td>\n",
       "      <td>66.735951</td>\n",
       "      <td>...</td>\n",
       "      <td>0.021495</td>\n",
       "      <td>-0.021495</td>\n",
       "      <td>0.016815</td>\n",
       "      <td>-0.574588</td>\n",
       "      <td>0.574588</td>\n",
       "      <td>-0.580753</td>\n",
       "      <td>0.530180</td>\n",
       "      <td>urban</td>\n",
       "      <td>1</td>\n",
       "      <td>POLYGON ((-121.6040891759536 39.77130216710708...</td>\n",
       "    </tr>\n",
       "    <tr>\n",
       "      <th>3070</th>\n",
       "      <td>3063</td>\n",
       "      <td>8862.28</td>\n",
       "      <td>111.498531</td>\n",
       "      <td>106.053519</td>\n",
       "      <td>85.239506</td>\n",
       "      <td>84.425528</td>\n",
       "      <td>33.962264</td>\n",
       "      <td>57.358491</td>\n",
       "      <td>92.415874</td>\n",
       "      <td>94.962642</td>\n",
       "      <td>...</td>\n",
       "      <td>-0.038408</td>\n",
       "      <td>0.038408</td>\n",
       "      <td>-0.019927</td>\n",
       "      <td>-0.215655</td>\n",
       "      <td>0.215655</td>\n",
       "      <td>-0.239269</td>\n",
       "      <td>0.235050</td>\n",
       "      <td>urban</td>\n",
       "      <td>0</td>\n",
       "      <td>POLYGON ((-121.5998705695657 39.77141885196461...</td>\n",
       "    </tr>\n",
       "    <tr>\n",
       "      <th>3071</th>\n",
       "      <td>3090</td>\n",
       "      <td>4841.89</td>\n",
       "      <td>95.876369</td>\n",
       "      <td>87.547858</td>\n",
       "      <td>67.515206</td>\n",
       "      <td>63.846789</td>\n",
       "      <td>49.878788</td>\n",
       "      <td>72.272727</td>\n",
       "      <td>75.136308</td>\n",
       "      <td>69.905436</td>\n",
       "      <td>...</td>\n",
       "      <td>-0.009229</td>\n",
       "      <td>0.009229</td>\n",
       "      <td>-0.017026</td>\n",
       "      <td>-0.218686</td>\n",
       "      <td>0.218686</td>\n",
       "      <td>-0.212134</td>\n",
       "      <td>0.220004</td>\n",
       "      <td>urban</td>\n",
       "      <td>0</td>\n",
       "      <td>POLYGON ((-121.5991614846622 39.77117201861213...</td>\n",
       "    </tr>\n",
       "    <tr>\n",
       "      <th>3072</th>\n",
       "      <td>3060</td>\n",
       "      <td>10487.61</td>\n",
       "      <td>80.621619</td>\n",
       "      <td>85.761787</td>\n",
       "      <td>53.383967</td>\n",
       "      <td>62.049363</td>\n",
       "      <td>33.812500</td>\n",
       "      <td>77.671875</td>\n",
       "      <td>64.679525</td>\n",
       "      <td>74.671219</td>\n",
       "      <td>...</td>\n",
       "      <td>-0.040589</td>\n",
       "      <td>0.040589</td>\n",
       "      <td>-0.042834</td>\n",
       "      <td>-0.333093</td>\n",
       "      <td>0.333093</td>\n",
       "      <td>-0.336265</td>\n",
       "      <td>0.359549</td>\n",
       "      <td>forest</td>\n",
       "      <td>0</td>\n",
       "      <td>POLYGON ((-121.6337809843176 39.77148617015165...</td>\n",
       "    </tr>\n",
       "    <tr>\n",
       "      <th>3073</th>\n",
       "      <td>3061</td>\n",
       "      <td>7124.11</td>\n",
       "      <td>84.673992</td>\n",
       "      <td>89.525434</td>\n",
       "      <td>59.735782</td>\n",
       "      <td>62.503720</td>\n",
       "      <td>23.644444</td>\n",
       "      <td>98.288889</td>\n",
       "      <td>69.915669</td>\n",
       "      <td>74.028023</td>\n",
       "      <td>...</td>\n",
       "      <td>-0.000713</td>\n",
       "      <td>0.000713</td>\n",
       "      <td>0.005050</td>\n",
       "      <td>-0.635354</td>\n",
       "      <td>0.635354</td>\n",
       "      <td>-0.655407</td>\n",
       "      <td>0.610087</td>\n",
       "      <td>urban</td>\n",
       "      <td>1</td>\n",
       "      <td>POLYGON ((-121.6289161233341 39.77144577923943...</td>\n",
       "    </tr>\n",
       "    <tr>\n",
       "      <th>3074</th>\n",
       "      <td>3095</td>\n",
       "      <td>5950.45</td>\n",
       "      <td>84.989685</td>\n",
       "      <td>77.677885</td>\n",
       "      <td>60.266319</td>\n",
       "      <td>54.783694</td>\n",
       "      <td>25.243902</td>\n",
       "      <td>77.731707</td>\n",
       "      <td>68.327533</td>\n",
       "      <td>61.134045</td>\n",
       "      <td>...</td>\n",
       "      <td>0.010504</td>\n",
       "      <td>-0.010504</td>\n",
       "      <td>0.002631</td>\n",
       "      <td>-0.579959</td>\n",
       "      <td>0.579959</td>\n",
       "      <td>-0.582742</td>\n",
       "      <td>0.542339</td>\n",
       "      <td>urban</td>\n",
       "      <td>1</td>\n",
       "      <td>POLYGON ((-121.6219599106733 39.77108674890854...</td>\n",
       "    </tr>\n",
       "    <tr>\n",
       "      <th>3075</th>\n",
       "      <td>3077</td>\n",
       "      <td>6051.20</td>\n",
       "      <td>78.095287</td>\n",
       "      <td>82.176383</td>\n",
       "      <td>55.983658</td>\n",
       "      <td>62.951588</td>\n",
       "      <td>19.361111</td>\n",
       "      <td>71.666667</td>\n",
       "      <td>63.295082</td>\n",
       "      <td>67.893801</td>\n",
       "      <td>...</td>\n",
       "      <td>-0.009504</td>\n",
       "      <td>0.009504</td>\n",
       "      <td>-0.032447</td>\n",
       "      <td>-0.558561</td>\n",
       "      <td>0.558561</td>\n",
       "      <td>-0.550805</td>\n",
       "      <td>0.534357</td>\n",
       "      <td>urban</td>\n",
       "      <td>1</td>\n",
       "      <td>POLYGON ((-121.6199538286995 39.77126177619486...</td>\n",
       "    </tr>\n",
       "    <tr>\n",
       "      <th>3076</th>\n",
       "      <td>3070</td>\n",
       "      <td>9573.11</td>\n",
       "      <td>84.897186</td>\n",
       "      <td>87.527088</td>\n",
       "      <td>63.122243</td>\n",
       "      <td>66.873741</td>\n",
       "      <td>20.350000</td>\n",
       "      <td>90.000000</td>\n",
       "      <td>68.662479</td>\n",
       "      <td>72.882161</td>\n",
       "      <td>...</td>\n",
       "      <td>-0.014425</td>\n",
       "      <td>0.014425</td>\n",
       "      <td>-0.013344</td>\n",
       "      <td>-0.647854</td>\n",
       "      <td>0.647854</td>\n",
       "      <td>-0.659832</td>\n",
       "      <td>0.627221</td>\n",
       "      <td>urban</td>\n",
       "      <td>1</td>\n",
       "      <td>POLYGON ((-121.6170322193819 39.77133807014017...</td>\n",
       "    </tr>\n",
       "    <tr>\n",
       "      <th>3077</th>\n",
       "      <td>3053</td>\n",
       "      <td>14710.43</td>\n",
       "      <td>86.428002</td>\n",
       "      <td>88.940299</td>\n",
       "      <td>63.265884</td>\n",
       "      <td>63.497376</td>\n",
       "      <td>24.875000</td>\n",
       "      <td>95.354167</td>\n",
       "      <td>70.266896</td>\n",
       "      <td>72.477862</td>\n",
       "      <td>...</td>\n",
       "      <td>-0.001151</td>\n",
       "      <td>0.001151</td>\n",
       "      <td>0.012177</td>\n",
       "      <td>-0.613402</td>\n",
       "      <td>0.613402</td>\n",
       "      <td>-0.636107</td>\n",
       "      <td>0.587824</td>\n",
       "      <td>urban</td>\n",
       "      <td>1</td>\n",
       "      <td>POLYGON ((-121.6153627283433 39.77158490349264...</td>\n",
       "    </tr>\n",
       "    <tr>\n",
       "      <th>3078</th>\n",
       "      <td>3064</td>\n",
       "      <td>10623.70</td>\n",
       "      <td>94.735133</td>\n",
       "      <td>85.819142</td>\n",
       "      <td>68.080887</td>\n",
       "      <td>60.647739</td>\n",
       "      <td>34.500000</td>\n",
       "      <td>90.573529</td>\n",
       "      <td>79.529063</td>\n",
       "      <td>71.435249</td>\n",
       "      <td>...</td>\n",
       "      <td>0.004210</td>\n",
       "      <td>-0.004210</td>\n",
       "      <td>0.008150</td>\n",
       "      <td>-0.513022</td>\n",
       "      <td>0.513022</td>\n",
       "      <td>-0.525254</td>\n",
       "      <td>0.493043</td>\n",
       "      <td>urban</td>\n",
       "      <td>1</td>\n",
       "      <td>POLYGON ((-121.601827284869 39.77140987620634,...</td>\n",
       "    </tr>\n",
       "    <tr>\n",
       "      <th>3079</th>\n",
       "      <td>3066</td>\n",
       "      <td>10215.74</td>\n",
       "      <td>90.027978</td>\n",
       "      <td>90.628846</td>\n",
       "      <td>58.666960</td>\n",
       "      <td>66.353159</td>\n",
       "      <td>57.720588</td>\n",
       "      <td>71.926471</td>\n",
       "      <td>67.856679</td>\n",
       "      <td>75.937731</td>\n",
       "      <td>...</td>\n",
       "      <td>-0.052228</td>\n",
       "      <td>0.052228</td>\n",
       "      <td>-0.056269</td>\n",
       "      <td>-0.053588</td>\n",
       "      <td>0.053588</td>\n",
       "      <td>-0.048436</td>\n",
       "      <td>0.103612</td>\n",
       "      <td>urban</td>\n",
       "      <td>0</td>\n",
       "      <td>POLYGON ((-121.6002699908088 39.77138743681066...</td>\n",
       "    </tr>\n",
       "    <tr>\n",
       "      <th>3080</th>\n",
       "      <td>3084</td>\n",
       "      <td>7696.68</td>\n",
       "      <td>54.664693</td>\n",
       "      <td>62.787901</td>\n",
       "      <td>39.455292</td>\n",
       "      <td>42.724102</td>\n",
       "      <td>5.880000</td>\n",
       "      <td>68.060000</td>\n",
       "      <td>40.173151</td>\n",
       "      <td>42.704447</td>\n",
       "      <td>...</td>\n",
       "      <td>0.037575</td>\n",
       "      <td>-0.037575</td>\n",
       "      <td>0.028561</td>\n",
       "      <td>-0.973557</td>\n",
       "      <td>0.973557</td>\n",
       "      <td>-0.969296</td>\n",
       "      <td>0.846055</td>\n",
       "      <td>forest</td>\n",
       "      <td>1</td>\n",
       "      <td>POLYGON ((-121.6374296300552 39.77120343376608...</td>\n",
       "    </tr>\n",
       "    <tr>\n",
       "      <th>3081</th>\n",
       "      <td>3080</td>\n",
       "      <td>7679.94</td>\n",
       "      <td>94.681238</td>\n",
       "      <td>79.776701</td>\n",
       "      <td>56.656091</td>\n",
       "      <td>53.587390</td>\n",
       "      <td>50.340426</td>\n",
       "      <td>78.638298</td>\n",
       "      <td>66.350690</td>\n",
       "      <td>61.514410</td>\n",
       "      <td>...</td>\n",
       "      <td>-0.046678</td>\n",
       "      <td>0.046678</td>\n",
       "      <td>-0.054886</td>\n",
       "      <td>-0.259382</td>\n",
       "      <td>0.259382</td>\n",
       "      <td>-0.248483</td>\n",
       "      <td>0.298567</td>\n",
       "      <td>forest</td>\n",
       "      <td>0</td>\n",
       "      <td>POLYGON ((-121.6336059570313 39.77124831255745...</td>\n",
       "    </tr>\n",
       "    <tr>\n",
       "      <th>3082</th>\n",
       "      <td>3049</td>\n",
       "      <td>9034.95</td>\n",
       "      <td>79.894321</td>\n",
       "      <td>68.229165</td>\n",
       "      <td>47.892846</td>\n",
       "      <td>46.976325</td>\n",
       "      <td>48.758621</td>\n",
       "      <td>86.086207</td>\n",
       "      <td>56.296552</td>\n",
       "      <td>50.965414</td>\n",
       "      <td>...</td>\n",
       "      <td>-0.028433</td>\n",
       "      <td>0.028433</td>\n",
       "      <td>-0.065950</td>\n",
       "      <td>-0.328012</td>\n",
       "      <td>0.328012</td>\n",
       "      <td>-0.284963</td>\n",
       "      <td>0.357731</td>\n",
       "      <td>forest</td>\n",
       "      <td>0</td>\n",
       "      <td>POLYGON ((-121.6322820326861 39.77163427016314...</td>\n",
       "    </tr>\n",
       "    <tr>\n",
       "      <th>3083</th>\n",
       "      <td>3058</td>\n",
       "      <td>14372.84</td>\n",
       "      <td>87.053576</td>\n",
       "      <td>80.062419</td>\n",
       "      <td>53.260849</td>\n",
       "      <td>56.938487</td>\n",
       "      <td>50.311828</td>\n",
       "      <td>83.688172</td>\n",
       "      <td>64.906414</td>\n",
       "      <td>64.174726</td>\n",
       "      <td>...</td>\n",
       "      <td>-0.035594</td>\n",
       "      <td>0.035594</td>\n",
       "      <td>-0.072049</td>\n",
       "      <td>-0.258639</td>\n",
       "      <td>0.258639</td>\n",
       "      <td>-0.218691</td>\n",
       "      <td>0.289616</td>\n",
       "      <td>forest</td>\n",
       "      <td>0</td>\n",
       "      <td>POLYGON ((-121.6315415326287 39.77151309742647...</td>\n",
       "    </tr>\n",
       "    <tr>\n",
       "      <th>3084</th>\n",
       "      <td>3071</td>\n",
       "      <td>8127.27</td>\n",
       "      <td>80.883549</td>\n",
       "      <td>90.678262</td>\n",
       "      <td>56.678186</td>\n",
       "      <td>66.071251</td>\n",
       "      <td>19.795918</td>\n",
       "      <td>89.081633</td>\n",
       "      <td>66.445245</td>\n",
       "      <td>75.391998</td>\n",
       "      <td>...</td>\n",
       "      <td>-0.005954</td>\n",
       "      <td>0.005954</td>\n",
       "      <td>-0.018977</td>\n",
       "      <td>-0.624150</td>\n",
       "      <td>0.624150</td>\n",
       "      <td>-0.630592</td>\n",
       "      <td>0.597872</td>\n",
       "      <td>urban</td>\n",
       "      <td>1</td>\n",
       "      <td>POLYGON ((-121.6279781565947 39.77132460650276...</td>\n",
       "    </tr>\n",
       "    <tr>\n",
       "      <th>3085</th>\n",
       "      <td>3081</td>\n",
       "      <td>5845.98</td>\n",
       "      <td>72.041839</td>\n",
       "      <td>64.054566</td>\n",
       "      <td>49.537650</td>\n",
       "      <td>46.466380</td>\n",
       "      <td>16.638889</td>\n",
       "      <td>69.472222</td>\n",
       "      <td>55.674886</td>\n",
       "      <td>48.762064</td>\n",
       "      <td>...</td>\n",
       "      <td>0.007401</td>\n",
       "      <td>-0.007401</td>\n",
       "      <td>-0.025960</td>\n",
       "      <td>-0.714976</td>\n",
       "      <td>0.714976</td>\n",
       "      <td>-0.695568</td>\n",
       "      <td>0.665320</td>\n",
       "      <td>urban</td>\n",
       "      <td>1</td>\n",
       "      <td>POLYGON ((-121.6259361715878 39.77124382467831...</td>\n",
       "    </tr>\n",
       "    <tr>\n",
       "      <th>3086</th>\n",
       "      <td>3065</td>\n",
       "      <td>7805.18</td>\n",
       "      <td>77.739336</td>\n",
       "      <td>87.623719</td>\n",
       "      <td>54.614386</td>\n",
       "      <td>63.891810</td>\n",
       "      <td>17.367347</td>\n",
       "      <td>85.897959</td>\n",
       "      <td>60.539161</td>\n",
       "      <td>71.697633</td>\n",
       "      <td>...</td>\n",
       "      <td>-0.024426</td>\n",
       "      <td>0.024426</td>\n",
       "      <td>-0.018091</td>\n",
       "      <td>-0.644255</td>\n",
       "      <td>0.644255</td>\n",
       "      <td>-0.664365</td>\n",
       "      <td>0.624836</td>\n",
       "      <td>urban</td>\n",
       "      <td>1</td>\n",
       "      <td>POLYGON ((-121.625680362477 39.77139641256893,...</td>\n",
       "    </tr>\n",
       "    <tr>\n",
       "      <th>3087</th>\n",
       "      <td>3068</td>\n",
       "      <td>13679.37</td>\n",
       "      <td>88.833617</td>\n",
       "      <td>95.336529</td>\n",
       "      <td>65.305777</td>\n",
       "      <td>73.445464</td>\n",
       "      <td>21.086420</td>\n",
       "      <td>83.506173</td>\n",
       "      <td>73.304281</td>\n",
       "      <td>84.266504</td>\n",
       "      <td>...</td>\n",
       "      <td>-0.034142</td>\n",
       "      <td>0.034142</td>\n",
       "      <td>-0.022940</td>\n",
       "      <td>-0.548678</td>\n",
       "      <td>0.548678</td>\n",
       "      <td>-0.575945</td>\n",
       "      <td>0.550182</td>\n",
       "      <td>urban</td>\n",
       "      <td>1</td>\n",
       "      <td>POLYGON ((-121.6211969712201 39.77136948529412...</td>\n",
       "    </tr>\n",
       "    <tr>\n",
       "      <th>3088</th>\n",
       "      <td>3078</td>\n",
       "      <td>8757.50</td>\n",
       "      <td>86.297274</td>\n",
       "      <td>88.035646</td>\n",
       "      <td>63.965982</td>\n",
       "      <td>65.136389</td>\n",
       "      <td>19.754717</td>\n",
       "      <td>86.207547</td>\n",
       "      <td>69.777841</td>\n",
       "      <td>76.472850</td>\n",
       "      <td>...</td>\n",
       "      <td>-0.035556</td>\n",
       "      <td>0.035556</td>\n",
       "      <td>0.000886</td>\n",
       "      <td>-0.618554</td>\n",
       "      <td>0.618554</td>\n",
       "      <td>-0.667307</td>\n",
       "      <td>0.616961</td>\n",
       "      <td>urban</td>\n",
       "      <td>1</td>\n",
       "      <td>POLYGON ((-121.6175213982077 39.77126177619486...</td>\n",
       "    </tr>\n",
       "    <tr>\n",
       "      <th>3089</th>\n",
       "      <td>3009</td>\n",
       "      <td>20218.82</td>\n",
       "      <td>110.043360</td>\n",
       "      <td>105.713026</td>\n",
       "      <td>87.614977</td>\n",
       "      <td>83.533179</td>\n",
       "      <td>36.739837</td>\n",
       "      <td>72.406504</td>\n",
       "      <td>92.853132</td>\n",
       "      <td>91.432584</td>\n",
       "      <td>...</td>\n",
       "      <td>-0.012288</td>\n",
       "      <td>0.012288</td>\n",
       "      <td>0.003731</td>\n",
       "      <td>-0.316870</td>\n",
       "      <td>0.316870</td>\n",
       "      <td>-0.337760</td>\n",
       "      <td>0.312410</td>\n",
       "      <td>urban</td>\n",
       "      <td>0</td>\n",
       "      <td>POLYGON ((-121.6125712675207 39.7722760368796,...</td>\n",
       "    </tr>\n",
       "    <tr>\n",
       "      <th>3090</th>\n",
       "      <td>3096</td>\n",
       "      <td>6145.44</td>\n",
       "      <td>91.364609</td>\n",
       "      <td>80.049788</td>\n",
       "      <td>65.439316</td>\n",
       "      <td>55.677310</td>\n",
       "      <td>30.894737</td>\n",
       "      <td>91.368421</td>\n",
       "      <td>78.985775</td>\n",
       "      <td>64.468725</td>\n",
       "      <td>...</td>\n",
       "      <td>0.035147</td>\n",
       "      <td>-0.035147</td>\n",
       "      <td>0.014234</td>\n",
       "      <td>-0.610281</td>\n",
       "      <td>0.610281</td>\n",
       "      <td>-0.601313</td>\n",
       "      <td>0.560633</td>\n",
       "      <td>urban</td>\n",
       "      <td>1</td>\n",
       "      <td>POLYGON ((-121.6096900491153 39.77107328527114...</td>\n",
       "    </tr>\n",
       "    <tr>\n",
       "      <th>3091</th>\n",
       "      <td>3093</td>\n",
       "      <td>4196.47</td>\n",
       "      <td>76.204403</td>\n",
       "      <td>75.319421</td>\n",
       "      <td>54.947403</td>\n",
       "      <td>53.962104</td>\n",
       "      <td>17.866667</td>\n",
       "      <td>72.500000</td>\n",
       "      <td>62.906626</td>\n",
       "      <td>59.318387</td>\n",
       "      <td>...</td>\n",
       "      <td>0.023254</td>\n",
       "      <td>-0.023254</td>\n",
       "      <td>0.003121</td>\n",
       "      <td>-0.657608</td>\n",
       "      <td>0.657608</td>\n",
       "      <td>-0.655841</td>\n",
       "      <td>0.601072</td>\n",
       "      <td>urban</td>\n",
       "      <td>1</td>\n",
       "      <td>POLYGON ((-121.6082135368796 39.77113162769991...</td>\n",
       "    </tr>\n",
       "    <tr>\n",
       "      <th>3092</th>\n",
       "      <td>3082</td>\n",
       "      <td>8440.37</td>\n",
       "      <td>91.677342</td>\n",
       "      <td>90.977779</td>\n",
       "      <td>67.017446</td>\n",
       "      <td>63.484519</td>\n",
       "      <td>33.000000</td>\n",
       "      <td>95.377358</td>\n",
       "      <td>78.005068</td>\n",
       "      <td>74.593124</td>\n",
       "      <td>...</td>\n",
       "      <td>0.018383</td>\n",
       "      <td>-0.018383</td>\n",
       "      <td>0.022601</td>\n",
       "      <td>-0.527714</td>\n",
       "      <td>0.527714</td>\n",
       "      <td>-0.540873</td>\n",
       "      <td>0.494242</td>\n",
       "      <td>urban</td>\n",
       "      <td>1</td>\n",
       "      <td>POLYGON ((-121.6073204489315 39.77124382467831...</td>\n",
       "    </tr>\n",
       "    <tr>\n",
       "      <th>3093</th>\n",
       "      <td>3067</td>\n",
       "      <td>9660.22</td>\n",
       "      <td>102.844298</td>\n",
       "      <td>104.972948</td>\n",
       "      <td>77.923111</td>\n",
       "      <td>78.930909</td>\n",
       "      <td>35.492063</td>\n",
       "      <td>104.428571</td>\n",
       "      <td>90.249791</td>\n",
       "      <td>93.877607</td>\n",
       "      <td>...</td>\n",
       "      <td>-0.009427</td>\n",
       "      <td>0.009427</td>\n",
       "      <td>0.003744</td>\n",
       "      <td>-0.488683</td>\n",
       "      <td>0.488683</td>\n",
       "      <td>-0.513180</td>\n",
       "      <td>0.484273</td>\n",
       "      <td>urban</td>\n",
       "      <td>1</td>\n",
       "      <td>POLYGON ((-121.6065081428079 39.77137397317325...</td>\n",
       "    </tr>\n",
       "    <tr>\n",
       "      <th>3094</th>\n",
       "      <td>3083</td>\n",
       "      <td>7533.31</td>\n",
       "      <td>120.687996</td>\n",
       "      <td>113.199416</td>\n",
       "      <td>98.779762</td>\n",
       "      <td>94.081108</td>\n",
       "      <td>46.555556</td>\n",
       "      <td>63.822222</td>\n",
       "      <td>99.459446</td>\n",
       "      <td>99.951607</td>\n",
       "      <td>...</td>\n",
       "      <td>-0.034277</td>\n",
       "      <td>0.034277</td>\n",
       "      <td>-0.007590</td>\n",
       "      <td>-0.141713</td>\n",
       "      <td>0.141713</td>\n",
       "      <td>-0.167707</td>\n",
       "      <td>0.164327</td>\n",
       "      <td>urban</td>\n",
       "      <td>0</td>\n",
       "      <td>POLYGON ((-121.5985735724954 39.77121240952436...</td>\n",
       "    </tr>\n",
       "    <tr>\n",
       "      <th>3095</th>\n",
       "      <td>3091</td>\n",
       "      <td>3709.15</td>\n",
       "      <td>139.100710</td>\n",
       "      <td>134.170915</td>\n",
       "      <td>119.907229</td>\n",
       "      <td>113.168909</td>\n",
       "      <td>47.047619</td>\n",
       "      <td>65.238095</td>\n",
       "      <td>121.190807</td>\n",
       "      <td>125.899206</td>\n",
       "      <td>...</td>\n",
       "      <td>-0.037001</td>\n",
       "      <td>0.037001</td>\n",
       "      <td>0.010808</td>\n",
       "      <td>-0.123334</td>\n",
       "      <td>0.123334</td>\n",
       "      <td>-0.167743</td>\n",
       "      <td>0.148829</td>\n",
       "      <td>urban</td>\n",
       "      <td>0</td>\n",
       "      <td>POLYGON ((-121.5977747300092 39.771167530733, ...</td>\n",
       "    </tr>\n",
       "    <tr>\n",
       "      <th>3096</th>\n",
       "      <td>3062</td>\n",
       "      <td>9280.16</td>\n",
       "      <td>133.653494</td>\n",
       "      <td>114.232062</td>\n",
       "      <td>111.622595</td>\n",
       "      <td>94.212186</td>\n",
       "      <td>44.592593</td>\n",
       "      <td>57.055556</td>\n",
       "      <td>115.258451</td>\n",
       "      <td>103.640967</td>\n",
       "      <td>...</td>\n",
       "      <td>-0.025290</td>\n",
       "      <td>0.025290</td>\n",
       "      <td>0.006223</td>\n",
       "      <td>-0.152176</td>\n",
       "      <td>0.152176</td>\n",
       "      <td>-0.183453</td>\n",
       "      <td>0.165847</td>\n",
       "      <td>urban</td>\n",
       "      <td>0</td>\n",
       "      <td>POLYGON ((-121.597209257238 39.7714412913603, ...</td>\n",
       "    </tr>\n",
       "  </tbody>\n",
       "</table>\n",
       "<p>14086 rows × 49 columns</p>\n",
       "</div>"
      ],
      "text/plain": [
       "      seg_index    area_m  blue_value  blue_val_1  green_valu  green_va_1  \\\n",
       "0            17   3265.85   97.024300   72.765828   65.335643   50.062458   \n",
       "1            37   2659.18   94.475519   59.952203   63.518769   39.916764   \n",
       "2             3   2894.16   86.018102   90.460690   65.027849   68.429520   \n",
       "3            27   5323.94   79.441831   94.398626   56.938570   64.188483   \n",
       "4            47   2805.50   98.464530   62.863757   62.296575   42.170497   \n",
       "5            25   3930.80   79.232492   84.662461   54.582256   55.686909   \n",
       "6            51   2720.56   68.351869   56.855857   48.352097   39.038628   \n",
       "7             2   4345.89   84.417933   76.088665   64.176546   53.905771   \n",
       "8             4   4158.65   74.688110   79.030712   55.724711   58.391204   \n",
       "9            13   3688.38   89.508993   58.461002   63.013952   38.132795   \n",
       "10           41   4171.05  104.923003   74.750056   69.995020   47.193906   \n",
       "11           53   2706.61   94.946054  120.391021   70.870920   94.891421   \n",
       "12           11   5543.11   78.179352   60.581847   52.952128   39.076785   \n",
       "13            5   4457.80   63.339082   70.231433   46.664882   47.221697   \n",
       "14           42   5113.45   90.382783   83.793271   65.306881   54.450258   \n",
       "15            6   7170.92   68.834990   77.434679   50.066920   52.973370   \n",
       "16           22   3878.41   68.776037   70.419631   48.122133   45.362241   \n",
       "17           10   5098.88   87.508572   62.099100   60.268665   41.800158   \n",
       "18           20  11611.36   69.577157   85.963744   49.130633   60.018715   \n",
       "19           44   5786.46   84.131576   87.839226   62.363334   61.533858   \n",
       "20            1   5478.63  101.651502   82.399706   75.850224   57.436881   \n",
       "21           39   3736.43  109.151995   87.823032   69.611798   57.941094   \n",
       "22           30   6786.52   76.623241   69.542344   54.082542   45.222593   \n",
       "23           31   5440.81   82.165290   94.859438   60.167170   67.193208   \n",
       "24           34   5964.40   84.115956   80.543451   54.858524   54.994491   \n",
       "25           43   6271.92   78.597568   83.286526   57.323745   57.727214   \n",
       "26           40   5186.92  101.232907   71.892721   60.934796   46.890748   \n",
       "27           29   8808.65   80.709836   72.408622   56.209572   47.118740   \n",
       "28           33   9278.61   71.420768   90.514751   50.543082   62.745047   \n",
       "29            8  12578.56   96.936243   85.538717   63.655535   61.182842   \n",
       "...         ...       ...         ...         ...         ...         ...   \n",
       "3067       3088   6337.64   90.371405   99.396009   60.388574   72.413813   \n",
       "3068       3092   8284.44   70.165432   72.558337   48.904393   51.647957   \n",
       "3069       3075   7998.62   91.237695   82.731300   69.236803   60.661150   \n",
       "3070       3063   8862.28  111.498531  106.053519   85.239506   84.425528   \n",
       "3071       3090   4841.89   95.876369   87.547858   67.515206   63.846789   \n",
       "3072       3060  10487.61   80.621619   85.761787   53.383967   62.049363   \n",
       "3073       3061   7124.11   84.673992   89.525434   59.735782   62.503720   \n",
       "3074       3095   5950.45   84.989685   77.677885   60.266319   54.783694   \n",
       "3075       3077   6051.20   78.095287   82.176383   55.983658   62.951588   \n",
       "3076       3070   9573.11   84.897186   87.527088   63.122243   66.873741   \n",
       "3077       3053  14710.43   86.428002   88.940299   63.265884   63.497376   \n",
       "3078       3064  10623.70   94.735133   85.819142   68.080887   60.647739   \n",
       "3079       3066  10215.74   90.027978   90.628846   58.666960   66.353159   \n",
       "3080       3084   7696.68   54.664693   62.787901   39.455292   42.724102   \n",
       "3081       3080   7679.94   94.681238   79.776701   56.656091   53.587390   \n",
       "3082       3049   9034.95   79.894321   68.229165   47.892846   46.976325   \n",
       "3083       3058  14372.84   87.053576   80.062419   53.260849   56.938487   \n",
       "3084       3071   8127.27   80.883549   90.678262   56.678186   66.071251   \n",
       "3085       3081   5845.98   72.041839   64.054566   49.537650   46.466380   \n",
       "3086       3065   7805.18   77.739336   87.623719   54.614386   63.891810   \n",
       "3087       3068  13679.37   88.833617   95.336529   65.305777   73.445464   \n",
       "3088       3078   8757.50   86.297274   88.035646   63.965982   65.136389   \n",
       "3089       3009  20218.82  110.043360  105.713026   87.614977   83.533179   \n",
       "3090       3096   6145.44   91.364609   80.049788   65.439316   55.677310   \n",
       "3091       3093   4196.47   76.204403   75.319421   54.947403   53.962104   \n",
       "3092       3082   8440.37   91.677342   90.977779   67.017446   63.484519   \n",
       "3093       3067   9660.22  102.844298  104.972948   77.923111   78.930909   \n",
       "3094       3083   7533.31  120.687996  113.199416   98.779762   94.081108   \n",
       "3095       3091   3709.15  139.100710  134.170915  119.907229  113.168909   \n",
       "3096       3062   9280.16  133.653494  114.232062  111.622595   94.212186   \n",
       "\n",
       "      nir_value  nir_value_   red_value  red_value_  ...    dSI_rb    dSI_br  \\\n",
       "0     57.833333   99.000000   80.725107   56.197437  ...  0.036776 -0.036776   \n",
       "1     45.800000   90.250000   79.149569   43.251224  ...  0.073555 -0.073555   \n",
       "2     20.533333   70.666667   75.688196   87.232648  ... -0.045714  0.045714   \n",
       "3     22.166667   87.633333   73.195121   77.480319  ...  0.057506 -0.057506   \n",
       "4     71.461538   92.846154   71.210939   45.611160  ... -0.001575  0.001575   \n",
       "5     23.791667   87.875000   71.843533   65.856309  ...  0.076033 -0.076033   \n",
       "6     20.333333   81.400000   55.520624   40.307315  ...  0.066733 -0.066733   \n",
       "7     29.851852   83.370370   72.657536   61.513161  ...  0.031054 -0.031054   \n",
       "8     14.846154   68.653846   65.502199   70.291837  ... -0.007001  0.007001   \n",
       "9     34.782609  101.782609   76.674063   36.478904  ...  0.154303 -0.154303   \n",
       "10    57.535714  117.857143   84.300409   51.429729  ...  0.075833 -0.075833   \n",
       "11    27.571429   91.142857   81.880312  122.735884  ... -0.083535  0.083535   \n",
       "12    16.500000   96.093750   63.752195   37.554667  ...  0.132996 -0.132996   \n",
       "13     5.640000   75.880000   55.211683   49.732267  ...  0.102322 -0.102322   \n",
       "14    39.593750  123.437500   76.846135   60.651713  ...  0.079263 -0.079263   \n",
       "15     8.755102   83.367347   61.549715   58.574010  ...  0.082797 -0.082797   \n",
       "16    15.875000  102.125000   63.166733   50.788346  ...  0.119450 -0.119450   \n",
       "17    36.433333   86.066667   76.117704   44.686649  ...  0.093445 -0.093445   \n",
       "18    16.731343   96.552239   62.635225   68.154261  ...  0.063052 -0.063052   \n",
       "19    17.083333   94.750000   70.474178   71.071038  ...  0.017183 -0.017183   \n",
       "20    58.258065  107.967742   86.779098   62.355118  ...  0.059545 -0.059545   \n",
       "21    63.807692  112.346154   90.389032   67.083050  ...  0.039857 -0.039857   \n",
       "22    19.644444   92.200000   66.442719   49.737712  ...  0.094875 -0.094875   \n",
       "23    22.810811  111.108108   69.083015   82.255541  ... -0.015333  0.015333   \n",
       "24    69.638889  100.194444   60.435915   63.503742  ... -0.045524  0.045524   \n",
       "25    18.923077   97.846154   65.724002   66.249654  ...  0.024731 -0.024731   \n",
       "26    73.939394  103.000000   76.307375   52.018527  ...  0.019997 -0.019997   \n",
       "27    32.228070  101.526316   69.742812   54.084814  ...  0.071966 -0.071966   \n",
       "28    27.852459   97.278689   56.534463   81.504393  ... -0.063960  0.063960   \n",
       "29    47.925926   85.950617   88.965078   80.867163  ... -0.014805  0.014805   \n",
       "...         ...         ...         ...         ...  ...       ...       ...   \n",
       "3067  31.048780   95.536585   71.010859   84.758071  ... -0.040480  0.040480   \n",
       "3068  15.442308   81.403846   54.184965   56.412925  ... -0.003325  0.003325   \n",
       "3069  26.638298   79.829787   76.861639   66.735951  ...  0.021495 -0.021495   \n",
       "3070  33.962264   57.358491   92.415874   94.962642  ... -0.038408  0.038408   \n",
       "3071  49.878788   72.272727   75.136308   69.905436  ... -0.009229  0.009229   \n",
       "3072  33.812500   77.671875   64.679525   74.671219  ... -0.040589  0.040589   \n",
       "3073  23.644444   98.288889   69.915669   74.028023  ... -0.000713  0.000713   \n",
       "3074  25.243902   77.731707   68.327533   61.134045  ...  0.010504 -0.010504   \n",
       "3075  19.361111   71.666667   63.295082   67.893801  ... -0.009504  0.009504   \n",
       "3076  20.350000   90.000000   68.662479   72.882161  ... -0.014425  0.014425   \n",
       "3077  24.875000   95.354167   70.266896   72.477862  ... -0.001151  0.001151   \n",
       "3078  34.500000   90.573529   79.529063   71.435249  ...  0.004210 -0.004210   \n",
       "3079  57.720588   71.926471   67.856679   75.937731  ... -0.052228  0.052228   \n",
       "3080   5.880000   68.060000   40.173151   42.704447  ...  0.037575 -0.037575   \n",
       "3081  50.340426   78.638298   66.350690   61.514410  ... -0.046678  0.046678   \n",
       "3082  48.758621   86.086207   56.296552   50.965414  ... -0.028433  0.028433   \n",
       "3083  50.311828   83.688172   64.906414   64.174726  ... -0.035594  0.035594   \n",
       "3084  19.795918   89.081633   66.445245   75.391998  ... -0.005954  0.005954   \n",
       "3085  16.638889   69.472222   55.674886   48.762064  ...  0.007401 -0.007401   \n",
       "3086  17.367347   85.897959   60.539161   71.697633  ... -0.024426  0.024426   \n",
       "3087  21.086420   83.506173   73.304281   84.266504  ... -0.034142  0.034142   \n",
       "3088  19.754717   86.207547   69.777841   76.472850  ... -0.035556  0.035556   \n",
       "3089  36.739837   72.406504   92.853132   91.432584  ... -0.012288  0.012288   \n",
       "3090  30.894737   91.368421   78.985775   64.468725  ...  0.035147 -0.035147   \n",
       "3091  17.866667   72.500000   62.906626   59.318387  ...  0.023254 -0.023254   \n",
       "3092  33.000000   95.377358   78.005068   74.593124  ...  0.018383 -0.018383   \n",
       "3093  35.492063  104.428571   90.249791   93.877607  ... -0.009427  0.009427   \n",
       "3094  46.555556   63.822222   99.459446   99.951607  ... -0.034277  0.034277   \n",
       "3095  47.047619   65.238095  121.190807  125.899206  ... -0.037001  0.037001   \n",
       "3096  44.592593   57.055556  115.258451  103.640967  ... -0.025290  0.025290   \n",
       "\n",
       "        dSI_gb    dSI_nr    dSI_rn    dSI_ng    dSI_bn  land_class  \\\n",
       "0    -0.010337 -0.441008  0.441008 -0.389213  0.405810      forest   \n",
       "1     0.004681 -0.618952  0.618952 -0.548766  0.548713      forest   \n",
       "2    -0.000309 -0.468292  0.468292 -0.536115  0.491737      forest   \n",
       "3     0.025492 -0.596595  0.596595 -0.593989  0.526519      forest   \n",
       "4    -0.027965 -0.339396  0.339396 -0.306810  0.351463      forest   \n",
       "5     0.022241 -0.645678  0.645678 -0.617078  0.556754      forest   \n",
       "6     0.014429 -0.801517  0.801517 -0.759655  0.718976      forest   \n",
       "7     0.034426 -0.568439  0.568439 -0.579683  0.523185      forest   \n",
       "8     0.004780 -0.618667  0.618667 -0.660035  0.598106      forest   \n",
       "9     0.036739 -0.848174  0.848174 -0.743591  0.710655      forest   \n",
       "10    0.026292 -0.581097  0.581097 -0.525826  0.515496      forest   \n",
       "11   -0.026744 -0.348476  0.348476 -0.419696  0.411651      forest   \n",
       "12    0.023406 -1.026804  1.026804 -0.946668  0.878114      forest   \n",
       "13    0.044328 -1.022794  1.022794 -1.017143  0.875131      forest   \n",
       "14    0.051193 -0.660990  0.660990 -0.632932  0.582060      forest   \n",
       "15    0.029730 -0.925612  0.925612 -0.925246  0.811218      forest   \n",
       "16    0.039736 -0.934037  0.934037 -0.888750  0.808682      forest   \n",
       "17    0.011041 -0.669064  0.669064 -0.592675  0.573852      forest   \n",
       "18    0.005485 -0.750794  0.750794 -0.725262  0.670304      forest   \n",
       "19    0.027511 -0.752579  0.752579 -0.782479  0.700283      forest   \n",
       "20    0.033156 -0.464447  0.464447 -0.436677  0.405671      forest   \n",
       "21   -0.016185 -0.424648  0.424648 -0.362993  0.384679      forest   \n",
       "22    0.039456 -0.842776  0.842776 -0.808949  0.731964      forest   \n",
       "23    0.016169 -0.652754  0.652754 -0.696492  0.644299      forest   \n",
       "24   -0.022023 -0.153385  0.153385 -0.172537  0.202883      forest   \n",
       "25    0.024738 -0.745444  0.745444 -0.761514  0.692298      forest   \n",
       "26   -0.038013 -0.344634  0.344634 -0.277914  0.333674      forest   \n",
       "27    0.032643 -0.672769  0.672769 -0.637192  0.596684      forest   \n",
       "28    0.010014 -0.428118  0.428118 -0.505241  0.474891      forest   \n",
       "29   -0.041237 -0.330267  0.330267 -0.309305  0.340726      forest   \n",
       "...        ...       ...       ...       ...       ...         ...   \n",
       "3067 -0.041831 -0.451339  0.451339 -0.458549  0.468774       urban   \n",
       "3068 -0.010207 -0.737764  0.737764 -0.743669  0.696684       urban   \n",
       "3069  0.016815 -0.574588  0.574588 -0.580753  0.530180       urban   \n",
       "3070 -0.019927 -0.215655  0.215655 -0.239269  0.235050       urban   \n",
       "3071 -0.017026 -0.218686  0.218686 -0.212134  0.220004       urban   \n",
       "3072 -0.042834 -0.333093  0.333093 -0.336265  0.359549      forest   \n",
       "3073  0.005050 -0.635354  0.635354 -0.655407  0.610087       urban   \n",
       "3074  0.002631 -0.579959  0.579959 -0.582742  0.542339       urban   \n",
       "3075 -0.032447 -0.558561  0.558561 -0.550805  0.534357       urban   \n",
       "3076 -0.013344 -0.647854  0.647854 -0.659832  0.627221       urban   \n",
       "3077  0.012177 -0.613402  0.613402 -0.636107  0.587824       urban   \n",
       "3078  0.008150 -0.513022  0.513022 -0.525254  0.493043       urban   \n",
       "3079 -0.056269 -0.053588  0.053588 -0.048436  0.103612       urban   \n",
       "3080  0.028561 -0.973557  0.973557 -0.969296  0.846055      forest   \n",
       "3081 -0.054886 -0.259382  0.259382 -0.248483  0.298567      forest   \n",
       "3082 -0.065950 -0.328012  0.328012 -0.284963  0.357731      forest   \n",
       "3083 -0.072049 -0.258639  0.258639 -0.218691  0.289616      forest   \n",
       "3084 -0.018977 -0.624150  0.624150 -0.630592  0.597872       urban   \n",
       "3085 -0.025960 -0.714976  0.714976 -0.695568  0.665320       urban   \n",
       "3086 -0.018091 -0.644255  0.644255 -0.664365  0.624836       urban   \n",
       "3087 -0.022940 -0.548678  0.548678 -0.575945  0.550182       urban   \n",
       "3088  0.000886 -0.618554  0.618554 -0.667307  0.616961       urban   \n",
       "3089  0.003731 -0.316870  0.316870 -0.337760  0.312410       urban   \n",
       "3090  0.014234 -0.610281  0.610281 -0.601313  0.560633       urban   \n",
       "3091  0.003121 -0.657608  0.657608 -0.655841  0.601072       urban   \n",
       "3092  0.022601 -0.527714  0.527714 -0.540873  0.494242       urban   \n",
       "3093  0.003744 -0.488683  0.488683 -0.513180  0.484273       urban   \n",
       "3094 -0.007590 -0.141713  0.141713 -0.167707  0.164327       urban   \n",
       "3095  0.010808 -0.123334  0.123334 -0.167743  0.148829       urban   \n",
       "3096  0.006223 -0.152176  0.152176 -0.183453  0.165847       urban   \n",
       "\n",
       "      burn_class                                           geometry  \n",
       "0              0  POLYGON ((-121.5388488769531 39.7265625, -121....  \n",
       "1              0  POLYGON ((-121.5206954058479 39.7265625, -121....  \n",
       "2              1  POLYGON ((-121.5505308263442 39.7265625, -121....  \n",
       "3              0  POLYGON ((-121.5298865823185 39.7265625, -121....  \n",
       "4              0  POLYGON ((-121.5225444120519 39.72651762120864...  \n",
       "5              0  POLYGON ((-121.5309816248277 39.7265625, -121....  \n",
       "6              0  POLYGON ((-121.5260314941406 39.72646825453814...  \n",
       "7              1  POLYGON ((-121.5510873233571 39.7265625, -121....  \n",
       "8              1  POLYGON ((-121.5499653535731 39.7265625, -121....  \n",
       "9              1  POLYGON ((-121.5420936135685 39.7265625, -121....  \n",
       "10             0  POLYGON ((-121.5189316693474 39.7265625, -121....  \n",
       "11             1  POLYGON ((-121.5171769086052 39.72646376665901...  \n",
       "12             0  POLYGON ((-121.5432604621438 39.7265625, -121....  \n",
       "13             1  POLYGON ((-121.5496512020335 39.7265625, -121....  \n",
       "14             0  POLYGON ((-121.5184783935547 39.7265625, -121....  \n",
       "15             1  POLYGON ((-121.548874798943 39.7265625, -121.5...  \n",
       "16             1  POLYGON ((-121.5340917250689 39.7265625, -121....  \n",
       "17             0  POLYGON ((-121.5440727682675 39.7265625, -121....  \n",
       "18             1  POLYGON ((-121.5364658131319 39.7265625, -121....  \n",
       "19             1  POLYGON ((-121.5169525146484 39.7265625, -121....  \n",
       "20             1  POLYGON ((-121.5521868537454 39.7265625, -121....  \n",
       "21             0  POLYGON ((-121.5198965633617 39.7265625, -121....  \n",
       "22             0  POLYGON ((-121.5267271154067 39.7265625, -121....  \n",
       "23             0  POLYGON ((-121.5261167638442 39.7265625, -121....  \n",
       "24             0  POLYGON ((-121.52307398179 39.7265625, -121.52...  \n",
       "25             1  POLYGON ((-121.5179084329044 39.7265625, -121....  \n",
       "26             0  POLYGON ((-121.5197349997128 39.7265625, -121....  \n",
       "27             0  POLYGON ((-121.5277817670037 39.7265625, -121....  \n",
       "28             0  POLYGON ((-121.5245504940257 39.7265625, -121....  \n",
       "29             0  POLYGON ((-121.5468507654527 39.7265625, -121....  \n",
       "...          ...                                                ...  \n",
       "3067           1  POLYGON ((-121.6311510871438 39.7711809943704,...  \n",
       "3068           1  POLYGON ((-121.6293020809398 39.77114060345818...  \n",
       "3069           1  POLYGON ((-121.6040891759536 39.77130216710708...  \n",
       "3070           0  POLYGON ((-121.5998705695657 39.77141885196461...  \n",
       "3071           0  POLYGON ((-121.5991614846622 39.77117201861213...  \n",
       "3072           0  POLYGON ((-121.6337809843176 39.77148617015165...  \n",
       "3073           1  POLYGON ((-121.6289161233341 39.77144577923943...  \n",
       "3074           1  POLYGON ((-121.6219599106733 39.77108674890854...  \n",
       "3075           1  POLYGON ((-121.6199538286995 39.77126177619486...  \n",
       "3076           1  POLYGON ((-121.6170322193819 39.77133807014017...  \n",
       "3077           1  POLYGON ((-121.6153627283433 39.77158490349264...  \n",
       "3078           1  POLYGON ((-121.601827284869 39.77140987620634,...  \n",
       "3079           0  POLYGON ((-121.6002699908088 39.77138743681066...  \n",
       "3080           1  POLYGON ((-121.6374296300552 39.77120343376608...  \n",
       "3081           0  POLYGON ((-121.6336059570313 39.77124831255745...  \n",
       "3082           0  POLYGON ((-121.6322820326861 39.77163427016314...  \n",
       "3083           0  POLYGON ((-121.6315415326287 39.77151309742647...  \n",
       "3084           1  POLYGON ((-121.6279781565947 39.77132460650276...  \n",
       "3085           1  POLYGON ((-121.6259361715878 39.77124382467831...  \n",
       "3086           1  POLYGON ((-121.625680362477 39.77139641256893,...  \n",
       "3087           1  POLYGON ((-121.6211969712201 39.77136948529412...  \n",
       "3088           1  POLYGON ((-121.6175213982077 39.77126177619486...  \n",
       "3089           0  POLYGON ((-121.6125712675207 39.7722760368796,...  \n",
       "3090           1  POLYGON ((-121.6096900491153 39.77107328527114...  \n",
       "3091           1  POLYGON ((-121.6082135368796 39.77113162769991...  \n",
       "3092           1  POLYGON ((-121.6073204489315 39.77124382467831...  \n",
       "3093           1  POLYGON ((-121.6065081428079 39.77137397317325...  \n",
       "3094           0  POLYGON ((-121.5985735724954 39.77121240952436...  \n",
       "3095           0  POLYGON ((-121.5977747300092 39.771167530733, ...  \n",
       "3096           0  POLYGON ((-121.597209257238 39.7714412913603, ...  \n",
       "\n",
       "[14086 rows x 49 columns]"
      ]
     },
     "execution_count": 6,
     "metadata": {},
     "output_type": "execute_result"
    }
   ],
   "source": [
    "gdf_all = pd.concat(gdfs)\n",
    "gdf_all.dropna(inplace=True)\n",
    "gdf_all = gdf_all.astype({'burn_class' : 'uint8'})\n",
    "gdf_all"
   ]
  },
  {
   "cell_type": "code",
   "execution_count": 7,
   "metadata": {},
   "outputs": [
    {
     "data": {
      "text/html": [
       "<div>\n",
       "<style scoped>\n",
       "    .dataframe tbody tr th:only-of-type {\n",
       "        vertical-align: middle;\n",
       "    }\n",
       "\n",
       "    .dataframe tbody tr th {\n",
       "        vertical-align: top;\n",
       "    }\n",
       "\n",
       "    .dataframe thead th {\n",
       "        text-align: right;\n",
       "    }\n",
       "</style>\n",
       "<table border=\"1\" class=\"dataframe\">\n",
       "  <thead>\n",
       "    <tr style=\"text-align: right;\">\n",
       "      <th></th>\n",
       "      <th>blue_value</th>\n",
       "      <th>blue_val_1</th>\n",
       "      <th>green_valu</th>\n",
       "      <th>green_va_1</th>\n",
       "      <th>nir_value</th>\n",
       "      <th>nir_value_</th>\n",
       "      <th>red_value</th>\n",
       "      <th>red_value_</th>\n",
       "      <th>SI_bg_post</th>\n",
       "      <th>SI_br_post</th>\n",
       "      <th>...</th>\n",
       "      <th>dSI_gr</th>\n",
       "      <th>dSI_gn</th>\n",
       "      <th>dSI_rb</th>\n",
       "      <th>dSI_br</th>\n",
       "      <th>dSI_gb</th>\n",
       "      <th>dSI_nr</th>\n",
       "      <th>dSI_rn</th>\n",
       "      <th>dSI_ng</th>\n",
       "      <th>dSI_bn</th>\n",
       "      <th>burn_class</th>\n",
       "    </tr>\n",
       "  </thead>\n",
       "  <tbody>\n",
       "    <tr>\n",
       "      <th>0</th>\n",
       "      <td>97.024300</td>\n",
       "      <td>72.765828</td>\n",
       "      <td>65.335643</td>\n",
       "      <td>50.062458</td>\n",
       "      <td>57.833333</td>\n",
       "      <td>99.000000</td>\n",
       "      <td>80.725107</td>\n",
       "      <td>56.197437</td>\n",
       "      <td>0.195175</td>\n",
       "      <td>0.091698</td>\n",
       "      <td>...</td>\n",
       "      <td>-0.047628</td>\n",
       "      <td>0.389213</td>\n",
       "      <td>0.036776</td>\n",
       "      <td>-0.036776</td>\n",
       "      <td>-0.010337</td>\n",
       "      <td>-0.441008</td>\n",
       "      <td>0.441008</td>\n",
       "      <td>-0.389213</td>\n",
       "      <td>0.405810</td>\n",
       "      <td>0</td>\n",
       "    </tr>\n",
       "    <tr>\n",
       "      <th>1</th>\n",
       "      <td>94.475519</td>\n",
       "      <td>59.952203</td>\n",
       "      <td>63.518769</td>\n",
       "      <td>39.916764</td>\n",
       "      <td>45.800000</td>\n",
       "      <td>90.250000</td>\n",
       "      <td>79.149569</td>\n",
       "      <td>43.251224</td>\n",
       "      <td>0.195936</td>\n",
       "      <td>0.088270</td>\n",
       "      <td>...</td>\n",
       "      <td>-0.069467</td>\n",
       "      <td>0.548766</td>\n",
       "      <td>0.073555</td>\n",
       "      <td>-0.073555</td>\n",
       "      <td>0.004681</td>\n",
       "      <td>-0.618952</td>\n",
       "      <td>0.618952</td>\n",
       "      <td>-0.548766</td>\n",
       "      <td>0.548713</td>\n",
       "      <td>0</td>\n",
       "    </tr>\n",
       "    <tr>\n",
       "      <th>2</th>\n",
       "      <td>86.018102</td>\n",
       "      <td>90.460690</td>\n",
       "      <td>65.027849</td>\n",
       "      <td>68.429520</td>\n",
       "      <td>20.533333</td>\n",
       "      <td>70.666667</td>\n",
       "      <td>75.688196</td>\n",
       "      <td>87.232648</td>\n",
       "      <td>0.138966</td>\n",
       "      <td>0.063881</td>\n",
       "      <td>...</td>\n",
       "      <td>0.045037</td>\n",
       "      <td>0.536115</td>\n",
       "      <td>-0.045714</td>\n",
       "      <td>0.045714</td>\n",
       "      <td>-0.000309</td>\n",
       "      <td>-0.468292</td>\n",
       "      <td>0.468292</td>\n",
       "      <td>-0.536115</td>\n",
       "      <td>0.491737</td>\n",
       "      <td>1</td>\n",
       "    </tr>\n",
       "    <tr>\n",
       "      <th>3</th>\n",
       "      <td>79.441831</td>\n",
       "      <td>94.398626</td>\n",
       "      <td>56.938570</td>\n",
       "      <td>64.188483</td>\n",
       "      <td>22.166667</td>\n",
       "      <td>87.633333</td>\n",
       "      <td>73.195121</td>\n",
       "      <td>77.480319</td>\n",
       "      <td>0.165004</td>\n",
       "      <td>0.040925</td>\n",
       "      <td>...</td>\n",
       "      <td>-0.031099</td>\n",
       "      <td>0.593989</td>\n",
       "      <td>0.057506</td>\n",
       "      <td>-0.057506</td>\n",
       "      <td>0.025492</td>\n",
       "      <td>-0.596595</td>\n",
       "      <td>0.596595</td>\n",
       "      <td>-0.593989</td>\n",
       "      <td>0.526519</td>\n",
       "      <td>0</td>\n",
       "    </tr>\n",
       "    <tr>\n",
       "      <th>4</th>\n",
       "      <td>98.464530</td>\n",
       "      <td>62.863757</td>\n",
       "      <td>62.296575</td>\n",
       "      <td>42.170497</td>\n",
       "      <td>71.461538</td>\n",
       "      <td>92.846154</td>\n",
       "      <td>71.210939</td>\n",
       "      <td>45.611160</td>\n",
       "      <td>0.224980</td>\n",
       "      <td>0.160622</td>\n",
       "      <td>...</td>\n",
       "      <td>-0.027575</td>\n",
       "      <td>0.306810</td>\n",
       "      <td>-0.001575</td>\n",
       "      <td>0.001575</td>\n",
       "      <td>-0.027965</td>\n",
       "      <td>-0.339396</td>\n",
       "      <td>0.339396</td>\n",
       "      <td>-0.306810</td>\n",
       "      <td>0.351463</td>\n",
       "      <td>0</td>\n",
       "    </tr>\n",
       "  </tbody>\n",
       "</table>\n",
       "<p>5 rows × 45 columns</p>\n",
       "</div>"
      ],
      "text/plain": [
       "   blue_value  blue_val_1  green_valu  green_va_1  nir_value  nir_value_  \\\n",
       "0   97.024300   72.765828   65.335643   50.062458  57.833333   99.000000   \n",
       "1   94.475519   59.952203   63.518769   39.916764  45.800000   90.250000   \n",
       "2   86.018102   90.460690   65.027849   68.429520  20.533333   70.666667   \n",
       "3   79.441831   94.398626   56.938570   64.188483  22.166667   87.633333   \n",
       "4   98.464530   62.863757   62.296575   42.170497  71.461538   92.846154   \n",
       "\n",
       "   red_value  red_value_  SI_bg_post  SI_br_post  ...    dSI_gr    dSI_gn  \\\n",
       "0  80.725107   56.197437    0.195175    0.091698  ... -0.047628  0.389213   \n",
       "1  79.149569   43.251224    0.195936    0.088270  ... -0.069467  0.548766   \n",
       "2  75.688196   87.232648    0.138966    0.063881  ...  0.045037  0.536115   \n",
       "3  73.195121   77.480319    0.165004    0.040925  ... -0.031099  0.593989   \n",
       "4  71.210939   45.611160    0.224980    0.160622  ... -0.027575  0.306810   \n",
       "\n",
       "     dSI_rb    dSI_br    dSI_gb    dSI_nr    dSI_rn    dSI_ng    dSI_bn  \\\n",
       "0  0.036776 -0.036776 -0.010337 -0.441008  0.441008 -0.389213  0.405810   \n",
       "1  0.073555 -0.073555  0.004681 -0.618952  0.618952 -0.548766  0.548713   \n",
       "2 -0.045714  0.045714 -0.000309 -0.468292  0.468292 -0.536115  0.491737   \n",
       "3  0.057506 -0.057506  0.025492 -0.596595  0.596595 -0.593989  0.526519   \n",
       "4 -0.001575  0.001575 -0.027965 -0.339396  0.339396 -0.306810  0.351463   \n",
       "\n",
       "   burn_class  \n",
       "0           0  \n",
       "1           0  \n",
       "2           1  \n",
       "3           0  \n",
       "4           0  \n",
       "\n",
       "[5 rows x 45 columns]"
      ]
     },
     "execution_count": 7,
     "metadata": {},
     "output_type": "execute_result"
    }
   ],
   "source": [
    "df = gdf_all.drop(columns=['seg_index', 'area_m', 'land_class', 'geometry'])\n",
    "df.head()"
   ]
  },
  {
   "cell_type": "code",
   "execution_count": 8,
   "metadata": {},
   "outputs": [
    {
     "data": {
      "text/html": [
       "<div>\n",
       "<style scoped>\n",
       "    .dataframe tbody tr th:only-of-type {\n",
       "        vertical-align: middle;\n",
       "    }\n",
       "\n",
       "    .dataframe tbody tr th {\n",
       "        vertical-align: top;\n",
       "    }\n",
       "\n",
       "    .dataframe thead th {\n",
       "        text-align: right;\n",
       "    }\n",
       "</style>\n",
       "<table border=\"1\" class=\"dataframe\">\n",
       "  <thead>\n",
       "    <tr style=\"text-align: right;\">\n",
       "      <th></th>\n",
       "      <th>blue_value</th>\n",
       "      <th>blue_val_1</th>\n",
       "      <th>green_valu</th>\n",
       "      <th>green_va_1</th>\n",
       "      <th>nir_value</th>\n",
       "      <th>nir_value_</th>\n",
       "      <th>red_value</th>\n",
       "      <th>red_value_</th>\n",
       "      <th>SI_gb_post</th>\n",
       "      <th>SI_rb_post</th>\n",
       "      <th>...</th>\n",
       "      <th>SI_nb_pre</th>\n",
       "      <th>SI_ng_pre</th>\n",
       "      <th>SI_nr_pre</th>\n",
       "      <th>dSI_nb</th>\n",
       "      <th>dSI_rg</th>\n",
       "      <th>dSI_rb</th>\n",
       "      <th>dSI_gb</th>\n",
       "      <th>dSI_nr</th>\n",
       "      <th>dSI_ng</th>\n",
       "      <th>burn_class</th>\n",
       "    </tr>\n",
       "  </thead>\n",
       "  <tbody>\n",
       "    <tr>\n",
       "      <th>0</th>\n",
       "      <td>97.024300</td>\n",
       "      <td>72.765828</td>\n",
       "      <td>65.335643</td>\n",
       "      <td>50.062458</td>\n",
       "      <td>57.833333</td>\n",
       "      <td>99.000000</td>\n",
       "      <td>80.725107</td>\n",
       "      <td>56.197437</td>\n",
       "      <td>-0.195175</td>\n",
       "      <td>-0.091698</td>\n",
       "      <td>...</td>\n",
       "      <td>0.152732</td>\n",
       "      <td>0.328302</td>\n",
       "      <td>0.275794</td>\n",
       "      <td>-0.405810</td>\n",
       "      <td>0.047628</td>\n",
       "      <td>0.036776</td>\n",
       "      <td>-0.010337</td>\n",
       "      <td>-0.441008</td>\n",
       "      <td>-0.389213</td>\n",
       "      <td>0</td>\n",
       "    </tr>\n",
       "    <tr>\n",
       "      <th>1</th>\n",
       "      <td>94.475519</td>\n",
       "      <td>59.952203</td>\n",
       "      <td>63.518769</td>\n",
       "      <td>39.916764</td>\n",
       "      <td>45.800000</td>\n",
       "      <td>90.250000</td>\n",
       "      <td>79.149569</td>\n",
       "      <td>43.251224</td>\n",
       "      <td>-0.195936</td>\n",
       "      <td>-0.088270</td>\n",
       "      <td>...</td>\n",
       "      <td>0.201713</td>\n",
       "      <td>0.386683</td>\n",
       "      <td>0.352048</td>\n",
       "      <td>-0.548713</td>\n",
       "      <td>0.069467</td>\n",
       "      <td>0.073555</td>\n",
       "      <td>0.004681</td>\n",
       "      <td>-0.618952</td>\n",
       "      <td>-0.548766</td>\n",
       "      <td>0</td>\n",
       "    </tr>\n",
       "    <tr>\n",
       "      <th>2</th>\n",
       "      <td>86.018102</td>\n",
       "      <td>90.460690</td>\n",
       "      <td>65.027849</td>\n",
       "      <td>68.429520</td>\n",
       "      <td>20.533333</td>\n",
       "      <td>70.666667</td>\n",
       "      <td>75.688196</td>\n",
       "      <td>87.232648</td>\n",
       "      <td>-0.138966</td>\n",
       "      <td>-0.063881</td>\n",
       "      <td>...</td>\n",
       "      <td>-0.122847</td>\n",
       "      <td>0.016083</td>\n",
       "      <td>-0.104915</td>\n",
       "      <td>-0.491737</td>\n",
       "      <td>-0.045037</td>\n",
       "      <td>-0.045714</td>\n",
       "      <td>-0.000309</td>\n",
       "      <td>-0.468292</td>\n",
       "      <td>-0.536115</td>\n",
       "      <td>1</td>\n",
       "    </tr>\n",
       "    <tr>\n",
       "      <th>3</th>\n",
       "      <td>79.441831</td>\n",
       "      <td>94.398626</td>\n",
       "      <td>56.938570</td>\n",
       "      <td>64.188483</td>\n",
       "      <td>22.166667</td>\n",
       "      <td>87.633333</td>\n",
       "      <td>73.195121</td>\n",
       "      <td>77.480319</td>\n",
       "      <td>-0.165004</td>\n",
       "      <td>-0.040925</td>\n",
       "      <td>...</td>\n",
       "      <td>-0.037165</td>\n",
       "      <td>0.154423</td>\n",
       "      <td>0.061491</td>\n",
       "      <td>-0.526519</td>\n",
       "      <td>0.031099</td>\n",
       "      <td>0.057506</td>\n",
       "      <td>0.025492</td>\n",
       "      <td>-0.596595</td>\n",
       "      <td>-0.593989</td>\n",
       "      <td>0</td>\n",
       "    </tr>\n",
       "    <tr>\n",
       "      <th>4</th>\n",
       "      <td>98.464530</td>\n",
       "      <td>62.863757</td>\n",
       "      <td>62.296575</td>\n",
       "      <td>42.170497</td>\n",
       "      <td>71.461538</td>\n",
       "      <td>92.846154</td>\n",
       "      <td>71.210939</td>\n",
       "      <td>45.611160</td>\n",
       "      <td>-0.224980</td>\n",
       "      <td>-0.160622</td>\n",
       "      <td>...</td>\n",
       "      <td>0.192553</td>\n",
       "      <td>0.375329</td>\n",
       "      <td>0.341152</td>\n",
       "      <td>-0.351463</td>\n",
       "      <td>0.027575</td>\n",
       "      <td>-0.001575</td>\n",
       "      <td>-0.027965</td>\n",
       "      <td>-0.339396</td>\n",
       "      <td>-0.306810</td>\n",
       "      <td>0</td>\n",
       "    </tr>\n",
       "  </tbody>\n",
       "</table>\n",
       "<p>5 rows × 27 columns</p>\n",
       "</div>"
      ],
      "text/plain": [
       "   blue_value  blue_val_1  green_valu  green_va_1  nir_value  nir_value_  \\\n",
       "0   97.024300   72.765828   65.335643   50.062458  57.833333   99.000000   \n",
       "1   94.475519   59.952203   63.518769   39.916764  45.800000   90.250000   \n",
       "2   86.018102   90.460690   65.027849   68.429520  20.533333   70.666667   \n",
       "3   79.441831   94.398626   56.938570   64.188483  22.166667   87.633333   \n",
       "4   98.464530   62.863757   62.296575   42.170497  71.461538   92.846154   \n",
       "\n",
       "   red_value  red_value_  SI_gb_post  SI_rb_post  ...  SI_nb_pre  SI_ng_pre  \\\n",
       "0  80.725107   56.197437   -0.195175   -0.091698  ...   0.152732   0.328302   \n",
       "1  79.149569   43.251224   -0.195936   -0.088270  ...   0.201713   0.386683   \n",
       "2  75.688196   87.232648   -0.138966   -0.063881  ...  -0.122847   0.016083   \n",
       "3  73.195121   77.480319   -0.165004   -0.040925  ...  -0.037165   0.154423   \n",
       "4  71.210939   45.611160   -0.224980   -0.160622  ...   0.192553   0.375329   \n",
       "\n",
       "   SI_nr_pre    dSI_nb    dSI_rg    dSI_rb    dSI_gb    dSI_nr    dSI_ng  \\\n",
       "0   0.275794 -0.405810  0.047628  0.036776 -0.010337 -0.441008 -0.389213   \n",
       "1   0.352048 -0.548713  0.069467  0.073555  0.004681 -0.618952 -0.548766   \n",
       "2  -0.104915 -0.491737 -0.045037 -0.045714 -0.000309 -0.468292 -0.536115   \n",
       "3   0.061491 -0.526519  0.031099  0.057506  0.025492 -0.596595 -0.593989   \n",
       "4   0.341152 -0.351463  0.027575 -0.001575 -0.027965 -0.339396 -0.306810   \n",
       "\n",
       "   burn_class  \n",
       "0           0  \n",
       "1           0  \n",
       "2           1  \n",
       "3           0  \n",
       "4           0  \n",
       "\n",
       "[5 rows x 27 columns]"
      ]
     },
     "execution_count": 8,
     "metadata": {},
     "output_type": "execute_result"
    }
   ],
   "source": [
    "df_rm = df.drop(columns=['SI_bg_post', 'SI_br_post', 'SI_bn_post', 'SI_bg_pre', 'SI_br_pre', 'SI_bn_pre',\n",
    "                     'SI_gr_post', 'SI_gn_post', 'SI_gr_pre', 'SI_gn_pre', 'SI_rn_post', 'SI_rn_pre', \n",
    "                     'dSI_bg', 'dSI_gr', 'dSI_gn', 'dSI_br', 'dSI_rn', 'dSI_bn'])\n",
    "df_rm.head()"
   ]
  },
  {
   "cell_type": "code",
   "execution_count": 9,
   "metadata": {},
   "outputs": [],
   "source": [
    "#build X and y\n",
    "X = df_rm.drop(columns=['burn_class']).to_numpy()\n",
    "y = df_rm['burn_class'].to_numpy()"
   ]
  },
  {
   "cell_type": "markdown",
   "metadata": {
    "slideshow": {
     "slide_type": "slide"
    }
   },
   "source": [
    "### X y shuffled train-test split 67/33"
   ]
  },
  {
   "cell_type": "code",
   "execution_count": 10,
   "metadata": {
    "slideshow": {
     "slide_type": "subslide"
    }
   },
   "outputs": [],
   "source": [
    "X_train, X_test, y_train, y_test = train_test_split(X, y, test_size=0.33, random_state=42, shuffle=True, stratify=y)"
   ]
  },
  {
   "cell_type": "code",
   "execution_count": 11,
   "metadata": {
    "slideshow": {
     "slide_type": "subslide"
    }
   },
   "outputs": [
    {
     "name": "stdout",
     "output_type": "stream",
     "text": [
      "train shape:  (9437, 26)\n",
      "test shape:  (4649, 26)\n",
      "\n",
      "# of burn labels in train:  6056\n",
      "# of non-burn labels in train:  3381\n",
      "# of burn labels in test:  2983\n",
      "# of non-burn labels in test:  1666\n"
     ]
    }
   ],
   "source": [
    "print(\"train shape: \", X_train.shape)\n",
    "print(\"test shape: \", X_test.shape)\n",
    "\n",
    "print(\"\\n# of burn labels in train: \", np.count_nonzero(y_train))\n",
    "print(\"# of non-burn labels in train: \", y_train.shape[0]-np.count_nonzero(y_train))\n",
    "print(\"# of burn labels in test: \", np.count_nonzero(y_test))\n",
    "print(\"# of non-burn labels in test: \", y_test.shape[0]-np.count_nonzero(y_test))"
   ]
  },
  {
   "cell_type": "code",
   "execution_count": 12,
   "metadata": {},
   "outputs": [
    {
     "data": {
      "text/plain": [
       "array(['non-burnt', 'burnt'], dtype='<U9')"
      ]
     },
     "execution_count": 12,
     "metadata": {},
     "output_type": "execute_result"
    }
   ],
   "source": [
    "class_names = np.where(np.unique(y) == 1, \"burnt\", \"non-burnt\")\n",
    "class_names"
   ]
  },
  {
   "cell_type": "markdown",
   "metadata": {
    "slideshow": {
     "slide_type": "slide"
    }
   },
   "source": [
    "# Binary Classification Burnt/Non-Burnt"
   ]
  },
  {
   "cell_type": "markdown",
   "metadata": {
    "slideshow": {
     "slide_type": "slide"
    }
   },
   "source": [
    "## Random Forest Classifier"
   ]
  },
  {
   "cell_type": "code",
   "execution_count": 13,
   "metadata": {
    "slideshow": {
     "slide_type": "subslide"
    }
   },
   "outputs": [
    {
     "name": "stderr",
     "output_type": "stream",
     "text": [
      "C:\\Users\\ailin\\Anaconda3\\envs\\gdal_env\\lib\\site-packages\\sklearn\\ensemble\\forest.py:245: FutureWarning: The default value of n_estimators will change from 10 in version 0.20 to 100 in 0.22.\n",
      "  \"10 in version 0.20 to 100 in 0.22.\", FutureWarning)\n"
     ]
    },
    {
     "data": {
      "text/plain": [
       "0.8565282856528286"
      ]
     },
     "execution_count": 13,
     "metadata": {},
     "output_type": "execute_result"
    }
   ],
   "source": [
    "rf = RandomForestClassifier()\n",
    "rf.fit(X_train, y_train)\n",
    "y_predict = rf.predict(X_test)\n",
    "rf.score(X_test, y_test)"
   ]
  },
  {
   "cell_type": "code",
   "execution_count": 14,
   "metadata": {
    "scrolled": true,
    "slideshow": {
     "slide_type": "subslide"
    }
   },
   "outputs": [
    {
     "name": "stdout",
     "output_type": "stream",
     "text": [
      "Confusion matrix, without normalization\n",
      "[[1313  353]\n",
      " [ 314 2669]]\n",
      "Normalized confusion matrix\n",
      "[[0.78811525 0.21188475]\n",
      " [0.10526316 0.89473684]]\n"
     ]
    },
    {
     "data": {
      "image/png": "[encoded data removed]",
      "text/plain": [
       "<Figure size 720x720 with 2 Axes>"
      ]
     },
     "metadata": {
      "needs_background": "light"
     },
     "output_type": "display_data"
    },
    {
     "data": {
      "image/png": "[encoded data removed]",
      "text/plain": [
       "<Figure size 720x720 with 2 Axes>"
      ]
     },
     "metadata": {
      "needs_background": "light"
     },
     "output_type": "display_data"
    }
   ],
   "source": [
    "# Plot non-normalized confusion matrix\n",
    "ax1 = plot_confusion_matrix(y_test, y_predict, classes=class_names,\n",
    "                      title='Confusion matrix, without normalization')\n",
    "\n",
    "# Plot normalized confusion matrix\n",
    "ax2 = plot_confusion_matrix(y_test, y_predict, classes=class_names, normalize=True,\n",
    "                      title='Normalized confusion matrix')\n",
    "\n",
    "plt.show()"
   ]
  },
  {
   "cell_type": "code",
   "execution_count": 15,
   "metadata": {},
   "outputs": [
    {
     "data": {
      "image/png": "[encoded data removed]",
      "text/plain": [
       "<Figure size 288x288 with 2 Axes>"
      ]
     },
     "metadata": {
      "needs_background": "light"
     },
     "output_type": "display_data"
    }
   ],
   "source": [
    "plot_cm(y_test, y_predict, figsize=(4,4), classes=class_names, figname=\"results/bin_rf_cm.png\")"
   ]
  },
  {
   "cell_type": "code",
   "execution_count": 16,
   "metadata": {
    "scrolled": true,
    "slideshow": {
     "slide_type": "subslide"
    }
   },
   "outputs": [
    {
     "name": "stdout",
     "output_type": "stream",
     "text": [
      "\t(tn, fp, fn, tp) = (1313, 353, 314, 2669)\n",
      "\tAccuracy = 85.65%\n",
      "\tMisclassification Rate = 14.35%\n",
      "\tPrecision = 88.32%\n",
      "\tRecall = 89.47%\n",
      "\tF1-Score = 88.89%\n"
     ]
    }
   ],
   "source": [
    "print_scores(y_test, y_predict)"
   ]
  },
  {
   "cell_type": "markdown",
   "metadata": {},
   "source": [
    "#### Cross_val_score"
   ]
  },
  {
   "cell_type": "code",
   "execution_count": 17,
   "metadata": {
    "scrolled": true
   },
   "outputs": [
    {
     "data": {
      "text/plain": [
       "array([0.84656085, 0.85805085, 0.84427966, 0.86016949, 0.87288136,\n",
       "       0.85381356, 0.86002121, 0.84729586, 0.86956522, 0.85790032])"
      ]
     },
     "execution_count": 17,
     "metadata": {},
     "output_type": "execute_result"
    }
   ],
   "source": [
    "scores_rf = cross_val_score(rf, X_train, y_train, cv=10)\n",
    "scores_rf_p = cross_val_score(rf, X_train, y_train, scoring='precision', cv=10)\n",
    "scores_rf_r = cross_val_score(rf, X_train, y_train, scoring='recall', cv=10)\n",
    "scores_rf_f = cross_val_score(rf, X_train, y_train, scoring='f1', cv=10)\n",
    "scores_rf"
   ]
  },
  {
   "cell_type": "code",
   "execution_count": 18,
   "metadata": {},
   "outputs": [
    {
     "data": {
      "text/html": [
       "<div>\n",
       "<style scoped>\n",
       "    .dataframe tbody tr th:only-of-type {\n",
       "        vertical-align: middle;\n",
       "    }\n",
       "\n",
       "    .dataframe tbody tr th {\n",
       "        vertical-align: top;\n",
       "    }\n",
       "\n",
       "    .dataframe thead th {\n",
       "        text-align: right;\n",
       "    }\n",
       "</style>\n",
       "<table border=\"1\" class=\"dataframe\">\n",
       "  <thead>\n",
       "    <tr style=\"text-align: right;\">\n",
       "      <th></th>\n",
       "      <th>Model</th>\n",
       "      <th>Accuracy</th>\n",
       "      <th>Precision</th>\n",
       "      <th>Recall</th>\n",
       "      <th>F1</th>\n",
       "    </tr>\n",
       "  </thead>\n",
       "  <tbody>\n",
       "    <tr>\n",
       "      <th>0</th>\n",
       "      <td>RandForest</td>\n",
       "      <td>0.8571 (+/- 0.0176)</td>\n",
       "      <td>0.8862 (+/- 0.0197)</td>\n",
       "      <td>0.8937 (+/- 0.0212)</td>\n",
       "      <td>0.8921 (+/- 0.0113)</td>\n",
       "    </tr>\n",
       "  </tbody>\n",
       "</table>\n",
       "</div>"
      ],
      "text/plain": [
       "        Model             Accuracy            Precision               Recall  \\\n",
       "0  RandForest  0.8571 (+/- 0.0176)  0.8862 (+/- 0.0197)  0.8937 (+/- 0.0212)   \n",
       "\n",
       "                    F1  \n",
       "0  0.8921 (+/- 0.0113)  "
      ]
     },
     "execution_count": 18,
     "metadata": {},
     "output_type": "execute_result"
    }
   ],
   "source": [
    "def strScoreConf(mean, std, conf=1.96):\n",
    "    return \"%0.4f (+/- %0.4f)\" % (mean, std * conf)\n",
    "\n",
    "def strScoreCI(mean, std, conf=1.96, n=10):\n",
    "    SE = std/math.sqrt(n)\n",
    "    return \"%0.4f (+/- %0.4f)\" % (mean, SE * conf)#\"95%% CI: [%0.4f, %0.4f]\" % (mean - conf*SE, mean + conf*SE)\n",
    "\n",
    "models_df_rf = pd.DataFrame({  \n",
    "  'Model': ['RandForest'],\n",
    "  'Accuracy' : [strScoreConf(scores_rf.mean(), scores_rf.std())],\n",
    "  'Precision': [strScoreConf(scores_rf_p.mean(), scores_rf_p.std())],\n",
    "  'Recall' : [strScoreConf(scores_rf_r.mean(), scores_rf_r.std())],\n",
    "  'F1' : [strScoreConf(scores_rf_f.mean(), scores_rf_f.std())]\n",
    "})\n",
    "\n",
    "models_df_rf_CI = pd.DataFrame({  \n",
    "  'Model': ['RandForest'],\n",
    "  'Accuracy' : [strScoreCI(scores_rf.mean(), scores_rf.std())],\n",
    "  'Precision': [strScoreCI(scores_rf_p.mean(), scores_rf_p.std())],\n",
    "  'Recall' : [strScoreCI(scores_rf_r.mean(), scores_rf_r.std())],\n",
    "  'F1' : [strScoreCI(scores_rf_f.mean(), scores_rf_f.std())]\n",
    "})\n",
    "models_df_rf"
   ]
  },
  {
   "cell_type": "code",
   "execution_count": 19,
   "metadata": {},
   "outputs": [
    {
     "data": {
      "text/html": [
       "<div>\n",
       "<style scoped>\n",
       "    .dataframe tbody tr th:only-of-type {\n",
       "        vertical-align: middle;\n",
       "    }\n",
       "\n",
       "    .dataframe tbody tr th {\n",
       "        vertical-align: top;\n",
       "    }\n",
       "\n",
       "    .dataframe thead th {\n",
       "        text-align: right;\n",
       "    }\n",
       "</style>\n",
       "<table border=\"1\" class=\"dataframe\">\n",
       "  <thead>\n",
       "    <tr style=\"text-align: right;\">\n",
       "      <th></th>\n",
       "      <th>Model</th>\n",
       "      <th>Accuracy</th>\n",
       "      <th>Precision</th>\n",
       "      <th>Recall</th>\n",
       "      <th>F1</th>\n",
       "    </tr>\n",
       "  </thead>\n",
       "  <tbody>\n",
       "    <tr>\n",
       "      <th>0</th>\n",
       "      <td>RandForest</td>\n",
       "      <td>0.8571 (+/- 0.0056)</td>\n",
       "      <td>0.8862 (+/- 0.0062)</td>\n",
       "      <td>0.8937 (+/- 0.0067)</td>\n",
       "      <td>0.8921 (+/- 0.0036)</td>\n",
       "    </tr>\n",
       "  </tbody>\n",
       "</table>\n",
       "</div>"
      ],
      "text/plain": [
       "        Model             Accuracy            Precision               Recall  \\\n",
       "0  RandForest  0.8571 (+/- 0.0056)  0.8862 (+/- 0.0062)  0.8937 (+/- 0.0067)   \n",
       "\n",
       "                    F1  \n",
       "0  0.8921 (+/- 0.0036)  "
      ]
     },
     "execution_count": 19,
     "metadata": {},
     "output_type": "execute_result"
    }
   ],
   "source": [
    "models_df_rf_CI"
   ]
  },
  {
   "cell_type": "code",
   "execution_count": 20,
   "metadata": {},
   "outputs": [
    {
     "name": "stdout",
     "output_type": "stream",
     "text": [
      "95% CI: [0.8515, 0.8626]\n"
     ]
    }
   ],
   "source": [
    "print(\"95%% CI: [%0.4f, %0.4f]\" % (scores_rf.mean() - 1.96*scores_rf.std()/math.sqrt(10), scores_rf.mean() + 1.96*scores_rf.std()/math.sqrt(10)))"
   ]
  },
  {
   "cell_type": "markdown",
   "metadata": {
    "slideshow": {
     "slide_type": "slide"
    }
   },
   "source": [
    "## Logistic Regression"
   ]
  },
  {
   "cell_type": "code",
   "execution_count": 21,
   "metadata": {
    "slideshow": {
     "slide_type": "subslide"
    }
   },
   "outputs": [
    {
     "name": "stderr",
     "output_type": "stream",
     "text": [
      "C:\\Users\\ailin\\Anaconda3\\envs\\gdal_env\\lib\\site-packages\\sklearn\\linear_model\\logistic.py:432: FutureWarning: Default solver will be changed to 'lbfgs' in 0.22. Specify a solver to silence this warning.\n",
      "  FutureWarning)\n"
     ]
    },
    {
     "data": {
      "text/plain": [
       "0.8320068832006883"
      ]
     },
     "execution_count": 21,
     "metadata": {},
     "output_type": "execute_result"
    }
   ],
   "source": [
    "lr = LogisticRegression()\n",
    "lr.fit(X_train, y_train)\n",
    "y_predict = lr.predict(X_test)\n",
    "lr.score(X_test, y_test)"
   ]
  },
  {
   "cell_type": "code",
   "execution_count": 22,
   "metadata": {
    "slideshow": {
     "slide_type": "subslide"
    }
   },
   "outputs": [
    {
     "name": "stdout",
     "output_type": "stream",
     "text": [
      "Confusion matrix, without normalization\n",
      "[[1105  561]\n",
      " [ 220 2763]]\n",
      "Normalized confusion matrix\n",
      "[[0.66326531 0.33673469]\n",
      " [0.07375126 0.92624874]]\n"
     ]
    },
    {
     "data": {
      "image/png": "[encoded data removed]",
      "text/plain": [
       "<Figure size 720x720 with 2 Axes>"
      ]
     },
     "metadata": {
      "needs_background": "light"
     },
     "output_type": "display_data"
    },
    {
     "data": {
      "image/png": "[encoded data removed]",
      "text/plain": [
       "<Figure size 720x720 with 2 Axes>"
      ]
     },
     "metadata": {
      "needs_background": "light"
     },
     "output_type": "display_data"
    }
   ],
   "source": [
    "# Plot non-normalized confusion matrix\n",
    "ax1 = plot_confusion_matrix(y_test, y_predict, classes=class_names,\n",
    "                      title='Confusion matrix, without normalization')\n",
    "\n",
    "# Plot normalized confusion matrix\n",
    "ax2 = plot_confusion_matrix(y_test, y_predict, classes=class_names, normalize=True,\n",
    "                      title='Normalized confusion matrix')\n",
    "\n",
    "plt.show()"
   ]
  },
  {
   "cell_type": "code",
   "execution_count": 23,
   "metadata": {},
   "outputs": [
    {
     "data": {
      "image/png": "[encoded data removed]",
      "text/plain": [
       "<Figure size 288x288 with 2 Axes>"
      ]
     },
     "metadata": {
      "needs_background": "light"
     },
     "output_type": "display_data"
    }
   ],
   "source": [
    "plot_cm(y_test, y_predict, figsize=(4,4), classes=class_names, figname=\"results/bin_lr_cm.png\")"
   ]
  },
  {
   "cell_type": "code",
   "execution_count": 24,
   "metadata": {
    "slideshow": {
     "slide_type": "subslide"
    }
   },
   "outputs": [
    {
     "name": "stdout",
     "output_type": "stream",
     "text": [
      "\t(tn, fp, fn, tp) = (1105, 561, 220, 2763)\n",
      "\tAccuracy = 83.20%\n",
      "\tMisclassification Rate = 16.80%\n",
      "\tPrecision = 83.12%\n",
      "\tRecall = 92.62%\n",
      "\tF1-Score = 87.62%\n"
     ]
    }
   ],
   "source": [
    "print_scores(y_test, y_predict)"
   ]
  },
  {
   "cell_type": "markdown",
   "metadata": {},
   "source": [
    "#### Cross Validation"
   ]
  },
  {
   "cell_type": "code",
   "execution_count": 25,
   "metadata": {},
   "outputs": [
    {
     "name": "stderr",
     "output_type": "stream",
     "text": [
      "C:\\Users\\ailin\\Anaconda3\\envs\\gdal_env\\lib\\site-packages\\sklearn\\linear_model\\logistic.py:432: FutureWarning: Default solver will be changed to 'lbfgs' in 0.22. Specify a solver to silence this warning.\n",
      "  FutureWarning)\n",
      "C:\\Users\\ailin\\Anaconda3\\envs\\gdal_env\\lib\\site-packages\\sklearn\\linear_model\\logistic.py:432: FutureWarning: Default solver will be changed to 'lbfgs' in 0.22. Specify a solver to silence this warning.\n",
      "  FutureWarning)\n",
      "C:\\Users\\ailin\\Anaconda3\\envs\\gdal_env\\lib\\site-packages\\sklearn\\linear_model\\logistic.py:432: FutureWarning: Default solver will be changed to 'lbfgs' in 0.22. Specify a solver to silence this warning.\n",
      "  FutureWarning)\n",
      "C:\\Users\\ailin\\Anaconda3\\envs\\gdal_env\\lib\\site-packages\\sklearn\\linear_model\\logistic.py:432: FutureWarning: Default solver will be changed to 'lbfgs' in 0.22. Specify a solver to silence this warning.\n",
      "  FutureWarning)\n",
      "C:\\Users\\ailin\\Anaconda3\\envs\\gdal_env\\lib\\site-packages\\sklearn\\linear_model\\logistic.py:432: FutureWarning: Default solver will be changed to 'lbfgs' in 0.22. Specify a solver to silence this warning.\n",
      "  FutureWarning)\n",
      "C:\\Users\\ailin\\Anaconda3\\envs\\gdal_env\\lib\\site-packages\\sklearn\\linear_model\\logistic.py:432: FutureWarning: Default solver will be changed to 'lbfgs' in 0.22. Specify a solver to silence this warning.\n",
      "  FutureWarning)\n",
      "C:\\Users\\ailin\\Anaconda3\\envs\\gdal_env\\lib\\site-packages\\sklearn\\linear_model\\logistic.py:432: FutureWarning: Default solver will be changed to 'lbfgs' in 0.22. Specify a solver to silence this warning.\n",
      "  FutureWarning)\n",
      "C:\\Users\\ailin\\Anaconda3\\envs\\gdal_env\\lib\\site-packages\\sklearn\\linear_model\\logistic.py:432: FutureWarning: Default solver will be changed to 'lbfgs' in 0.22. Specify a solver to silence this warning.\n",
      "  FutureWarning)\n",
      "C:\\Users\\ailin\\Anaconda3\\envs\\gdal_env\\lib\\site-packages\\sklearn\\linear_model\\logistic.py:432: FutureWarning: Default solver will be changed to 'lbfgs' in 0.22. Specify a solver to silence this warning.\n",
      "  FutureWarning)\n",
      "C:\\Users\\ailin\\Anaconda3\\envs\\gdal_env\\lib\\site-packages\\sklearn\\linear_model\\logistic.py:432: FutureWarning: Default solver will be changed to 'lbfgs' in 0.22. Specify a solver to silence this warning.\n",
      "  FutureWarning)\n",
      "C:\\Users\\ailin\\Anaconda3\\envs\\gdal_env\\lib\\site-packages\\sklearn\\linear_model\\logistic.py:432: FutureWarning: Default solver will be changed to 'lbfgs' in 0.22. Specify a solver to silence this warning.\n",
      "  FutureWarning)\n",
      "C:\\Users\\ailin\\Anaconda3\\envs\\gdal_env\\lib\\site-packages\\sklearn\\linear_model\\logistic.py:432: FutureWarning: Default solver will be changed to 'lbfgs' in 0.22. Specify a solver to silence this warning.\n",
      "  FutureWarning)\n",
      "C:\\Users\\ailin\\Anaconda3\\envs\\gdal_env\\lib\\site-packages\\sklearn\\linear_model\\logistic.py:432: FutureWarning: Default solver will be changed to 'lbfgs' in 0.22. Specify a solver to silence this warning.\n",
      "  FutureWarning)\n",
      "C:\\Users\\ailin\\Anaconda3\\envs\\gdal_env\\lib\\site-packages\\sklearn\\linear_model\\logistic.py:432: FutureWarning: Default solver will be changed to 'lbfgs' in 0.22. Specify a solver to silence this warning.\n",
      "  FutureWarning)\n",
      "C:\\Users\\ailin\\Anaconda3\\envs\\gdal_env\\lib\\site-packages\\sklearn\\linear_model\\logistic.py:432: FutureWarning: Default solver will be changed to 'lbfgs' in 0.22. Specify a solver to silence this warning.\n",
      "  FutureWarning)\n",
      "C:\\Users\\ailin\\Anaconda3\\envs\\gdal_env\\lib\\site-packages\\sklearn\\linear_model\\logistic.py:432: FutureWarning: Default solver will be changed to 'lbfgs' in 0.22. Specify a solver to silence this warning.\n",
      "  FutureWarning)\n",
      "C:\\Users\\ailin\\Anaconda3\\envs\\gdal_env\\lib\\site-packages\\sklearn\\linear_model\\logistic.py:432: FutureWarning: Default solver will be changed to 'lbfgs' in 0.22. Specify a solver to silence this warning.\n",
      "  FutureWarning)\n",
      "C:\\Users\\ailin\\Anaconda3\\envs\\gdal_env\\lib\\site-packages\\sklearn\\linear_model\\logistic.py:432: FutureWarning: Default solver will be changed to 'lbfgs' in 0.22. Specify a solver to silence this warning.\n",
      "  FutureWarning)\n",
      "C:\\Users\\ailin\\Anaconda3\\envs\\gdal_env\\lib\\site-packages\\sklearn\\linear_model\\logistic.py:432: FutureWarning: Default solver will be changed to 'lbfgs' in 0.22. Specify a solver to silence this warning.\n",
      "  FutureWarning)\n",
      "C:\\Users\\ailin\\Anaconda3\\envs\\gdal_env\\lib\\site-packages\\sklearn\\linear_model\\logistic.py:432: FutureWarning: Default solver will be changed to 'lbfgs' in 0.22. Specify a solver to silence this warning.\n",
      "  FutureWarning)\n",
      "C:\\Users\\ailin\\Anaconda3\\envs\\gdal_env\\lib\\site-packages\\sklearn\\linear_model\\logistic.py:432: FutureWarning: Default solver will be changed to 'lbfgs' in 0.22. Specify a solver to silence this warning.\n",
      "  FutureWarning)\n",
      "C:\\Users\\ailin\\Anaconda3\\envs\\gdal_env\\lib\\site-packages\\sklearn\\linear_model\\logistic.py:432: FutureWarning: Default solver will be changed to 'lbfgs' in 0.22. Specify a solver to silence this warning.\n",
      "  FutureWarning)\n",
      "C:\\Users\\ailin\\Anaconda3\\envs\\gdal_env\\lib\\site-packages\\sklearn\\linear_model\\logistic.py:432: FutureWarning: Default solver will be changed to 'lbfgs' in 0.22. Specify a solver to silence this warning.\n",
      "  FutureWarning)\n",
      "C:\\Users\\ailin\\Anaconda3\\envs\\gdal_env\\lib\\site-packages\\sklearn\\linear_model\\logistic.py:432: FutureWarning: Default solver will be changed to 'lbfgs' in 0.22. Specify a solver to silence this warning.\n",
      "  FutureWarning)\n",
      "C:\\Users\\ailin\\Anaconda3\\envs\\gdal_env\\lib\\site-packages\\sklearn\\linear_model\\logistic.py:432: FutureWarning: Default solver will be changed to 'lbfgs' in 0.22. Specify a solver to silence this warning.\n",
      "  FutureWarning)\n",
      "C:\\Users\\ailin\\Anaconda3\\envs\\gdal_env\\lib\\site-packages\\sklearn\\linear_model\\logistic.py:432: FutureWarning: Default solver will be changed to 'lbfgs' in 0.22. Specify a solver to silence this warning.\n",
      "  FutureWarning)\n",
      "C:\\Users\\ailin\\Anaconda3\\envs\\gdal_env\\lib\\site-packages\\sklearn\\linear_model\\logistic.py:432: FutureWarning: Default solver will be changed to 'lbfgs' in 0.22. Specify a solver to silence this warning.\n",
      "  FutureWarning)\n",
      "C:\\Users\\ailin\\Anaconda3\\envs\\gdal_env\\lib\\site-packages\\sklearn\\linear_model\\logistic.py:432: FutureWarning: Default solver will be changed to 'lbfgs' in 0.22. Specify a solver to silence this warning.\n",
      "  FutureWarning)\n",
      "C:\\Users\\ailin\\Anaconda3\\envs\\gdal_env\\lib\\site-packages\\sklearn\\linear_model\\logistic.py:432: FutureWarning: Default solver will be changed to 'lbfgs' in 0.22. Specify a solver to silence this warning.\n",
      "  FutureWarning)\n",
      "C:\\Users\\ailin\\Anaconda3\\envs\\gdal_env\\lib\\site-packages\\sklearn\\linear_model\\logistic.py:432: FutureWarning: Default solver will be changed to 'lbfgs' in 0.22. Specify a solver to silence this warning.\n",
      "  FutureWarning)\n",
      "C:\\Users\\ailin\\Anaconda3\\envs\\gdal_env\\lib\\site-packages\\sklearn\\linear_model\\logistic.py:432: FutureWarning: Default solver will be changed to 'lbfgs' in 0.22. Specify a solver to silence this warning.\n",
      "  FutureWarning)\n",
      "C:\\Users\\ailin\\Anaconda3\\envs\\gdal_env\\lib\\site-packages\\sklearn\\linear_model\\logistic.py:432: FutureWarning: Default solver will be changed to 'lbfgs' in 0.22. Specify a solver to silence this warning.\n",
      "  FutureWarning)\n",
      "C:\\Users\\ailin\\Anaconda3\\envs\\gdal_env\\lib\\site-packages\\sklearn\\linear_model\\logistic.py:432: FutureWarning: Default solver will be changed to 'lbfgs' in 0.22. Specify a solver to silence this warning.\n",
      "  FutureWarning)\n",
      "C:\\Users\\ailin\\Anaconda3\\envs\\gdal_env\\lib\\site-packages\\sklearn\\linear_model\\logistic.py:432: FutureWarning: Default solver will be changed to 'lbfgs' in 0.22. Specify a solver to silence this warning.\n",
      "  FutureWarning)\n",
      "C:\\Users\\ailin\\Anaconda3\\envs\\gdal_env\\lib\\site-packages\\sklearn\\linear_model\\logistic.py:432: FutureWarning: Default solver will be changed to 'lbfgs' in 0.22. Specify a solver to silence this warning.\n",
      "  FutureWarning)\n",
      "C:\\Users\\ailin\\Anaconda3\\envs\\gdal_env\\lib\\site-packages\\sklearn\\linear_model\\logistic.py:432: FutureWarning: Default solver will be changed to 'lbfgs' in 0.22. Specify a solver to silence this warning.\n",
      "  FutureWarning)\n",
      "C:\\Users\\ailin\\Anaconda3\\envs\\gdal_env\\lib\\site-packages\\sklearn\\linear_model\\logistic.py:432: FutureWarning: Default solver will be changed to 'lbfgs' in 0.22. Specify a solver to silence this warning.\n",
      "  FutureWarning)\n",
      "C:\\Users\\ailin\\Anaconda3\\envs\\gdal_env\\lib\\site-packages\\sklearn\\linear_model\\logistic.py:432: FutureWarning: Default solver will be changed to 'lbfgs' in 0.22. Specify a solver to silence this warning.\n",
      "  FutureWarning)\n"
     ]
    },
    {
     "name": "stderr",
     "output_type": "stream",
     "text": [
      "C:\\Users\\ailin\\Anaconda3\\envs\\gdal_env\\lib\\site-packages\\sklearn\\linear_model\\logistic.py:432: FutureWarning: Default solver will be changed to 'lbfgs' in 0.22. Specify a solver to silence this warning.\n",
      "  FutureWarning)\n",
      "C:\\Users\\ailin\\Anaconda3\\envs\\gdal_env\\lib\\site-packages\\sklearn\\linear_model\\logistic.py:432: FutureWarning: Default solver will be changed to 'lbfgs' in 0.22. Specify a solver to silence this warning.\n",
      "  FutureWarning)\n"
     ]
    },
    {
     "data": {
      "text/plain": [
       "array([0.83068783, 0.82415254, 0.81355932, 0.82521186, 0.85063559,\n",
       "       0.82838983, 0.84941676, 0.81866384, 0.83244963, 0.83987275])"
      ]
     },
     "execution_count": 25,
     "metadata": {},
     "output_type": "execute_result"
    }
   ],
   "source": [
    "scores_lr = cross_val_score(lr, X_train, y_train, cv=10)\n",
    "scores_lr_p = cross_val_score(lr, X_train, y_train, scoring='precision', cv=10)\n",
    "scores_lr_r = cross_val_score(lr, X_train, y_train, scoring='recall', cv=10)\n",
    "scores_lr_f = cross_val_score(lr, X_train, y_train, scoring='f1', cv=10)\n",
    "scores_lr"
   ]
  },
  {
   "cell_type": "code",
   "execution_count": 26,
   "metadata": {},
   "outputs": [
    {
     "data": {
      "text/html": [
       "<div>\n",
       "<style scoped>\n",
       "    .dataframe tbody tr th:only-of-type {\n",
       "        vertical-align: middle;\n",
       "    }\n",
       "\n",
       "    .dataframe tbody tr th {\n",
       "        vertical-align: top;\n",
       "    }\n",
       "\n",
       "    .dataframe thead th {\n",
       "        text-align: right;\n",
       "    }\n",
       "</style>\n",
       "<table border=\"1\" class=\"dataframe\">\n",
       "  <thead>\n",
       "    <tr style=\"text-align: right;\">\n",
       "      <th></th>\n",
       "      <th>Model</th>\n",
       "      <th>Accuracy</th>\n",
       "      <th>Precision</th>\n",
       "      <th>Recall</th>\n",
       "      <th>F1</th>\n",
       "    </tr>\n",
       "  </thead>\n",
       "  <tbody>\n",
       "    <tr>\n",
       "      <th>0</th>\n",
       "      <td>LogReg</td>\n",
       "      <td>0.8313 (+/- 0.0228)</td>\n",
       "      <td>0.8360 (+/- 0.0239)</td>\n",
       "      <td>0.9173 (+/- 0.0241)</td>\n",
       "      <td>0.8747 (+/- 0.0164)</td>\n",
       "    </tr>\n",
       "  </tbody>\n",
       "</table>\n",
       "</div>"
      ],
      "text/plain": [
       "    Model             Accuracy            Precision               Recall  \\\n",
       "0  LogReg  0.8313 (+/- 0.0228)  0.8360 (+/- 0.0239)  0.9173 (+/- 0.0241)   \n",
       "\n",
       "                    F1  \n",
       "0  0.8747 (+/- 0.0164)  "
      ]
     },
     "execution_count": 26,
     "metadata": {},
     "output_type": "execute_result"
    }
   ],
   "source": [
    "models_df_lr = pd.DataFrame({\n",
    "  'Model': ['LogReg'],\n",
    "  'Accuracy' : [strScoreConf(scores_lr.mean(), scores_lr.std())],\n",
    "  'Precision': [strScoreConf(scores_lr_p.mean(), scores_lr_p.std())],\n",
    "  'Recall' : [strScoreConf(scores_lr_r.mean(), scores_lr_r.std())],\n",
    "  'F1' : [strScoreConf(scores_lr_f.mean(), scores_lr_f.std())]\n",
    "})\n",
    "models_df_lr"
   ]
  },
  {
   "cell_type": "markdown",
   "metadata": {
    "slideshow": {
     "slide_type": "slide"
    }
   },
   "source": [
    "## Naive Bayes"
   ]
  },
  {
   "cell_type": "markdown",
   "metadata": {
    "slideshow": {
     "slide_type": "slide"
    }
   },
   "source": [
    "### Gaussian NB"
   ]
  },
  {
   "cell_type": "code",
   "execution_count": 27,
   "metadata": {
    "slideshow": {
     "slide_type": "subslide"
    }
   },
   "outputs": [
    {
     "data": {
      "text/plain": [
       "0.804258980425898"
      ]
     },
     "execution_count": 27,
     "metadata": {},
     "output_type": "execute_result"
    }
   ],
   "source": [
    "gnb = GaussianNB()\n",
    "gnb.fit(X_train, y_train)\n",
    "y_predict = gnb.predict(X_test)\n",
    "gnb.score(X_test, y_test)"
   ]
  },
  {
   "cell_type": "code",
   "execution_count": 28,
   "metadata": {
    "slideshow": {
     "slide_type": "subslide"
    }
   },
   "outputs": [
    {
     "name": "stdout",
     "output_type": "stream",
     "text": [
      "Confusion matrix, without normalization\n",
      "[[1095  571]\n",
      " [ 339 2644]]\n",
      "Normalized confusion matrix\n",
      "[[0.65726291 0.34273709]\n",
      " [0.11364398 0.88635602]]\n"
     ]
    },
    {
     "data": {
      "image/png": "[encoded data removed]",
      "text/plain": [
       "<Figure size 720x720 with 2 Axes>"
      ]
     },
     "metadata": {
      "needs_background": "light"
     },
     "output_type": "display_data"
    },
    {
     "data": {
      "image/png": "[encoded data removed]",
      "text/plain": [
       "<Figure size 720x720 with 2 Axes>"
      ]
     },
     "metadata": {
      "needs_background": "light"
     },
     "output_type": "display_data"
    }
   ],
   "source": [
    "# Plot non-normalized confusion matrix\n",
    "ax1 = plot_confusion_matrix(y_test, y_predict, classes=class_names,\n",
    "                      title='Confusion matrix, without normalization')\n",
    "\n",
    "# Plot normalized confusion matrix\n",
    "ax2 = plot_confusion_matrix(y_test, y_predict, classes=class_names, normalize=True,\n",
    "                      title='Normalized confusion matrix')\n",
    "\n",
    "plt.show()"
   ]
  },
  {
   "cell_type": "code",
   "execution_count": 29,
   "metadata": {},
   "outputs": [
    {
     "data": {
      "image/png": "[encoded data removed]",
      "text/plain": [
       "<Figure size 288x288 with 2 Axes>"
      ]
     },
     "metadata": {
      "needs_background": "light"
     },
     "output_type": "display_data"
    }
   ],
   "source": [
    "plot_cm(y_test, y_predict, figsize=(4,4), classes=class_names, figname=\"results/bin_gnb_cm.png\")"
   ]
  },
  {
   "cell_type": "code",
   "execution_count": 30,
   "metadata": {
    "slideshow": {
     "slide_type": "subslide"
    }
   },
   "outputs": [
    {
     "name": "stdout",
     "output_type": "stream",
     "text": [
      "\t(tn, fp, fn, tp) = (1095, 571, 339, 2644)\n",
      "\tAccuracy = 80.43%\n",
      "\tMisclassification Rate = 19.57%\n",
      "\tPrecision = 82.24%\n",
      "\tRecall = 88.64%\n",
      "\tF1-Score = 85.32%\n"
     ]
    }
   ],
   "source": [
    "print_scores(y_test, y_predict)"
   ]
  },
  {
   "cell_type": "markdown",
   "metadata": {},
   "source": [
    "#### Cross-validation"
   ]
  },
  {
   "cell_type": "code",
   "execution_count": 31,
   "metadata": {},
   "outputs": [
    {
     "data": {
      "text/plain": [
       "array([0.81904762, 0.8220339 , 0.80508475, 0.80720339, 0.8125    ,\n",
       "       0.8125    , 0.83138918, 0.80593849, 0.81866384, 0.79427359])"
      ]
     },
     "execution_count": 31,
     "metadata": {},
     "output_type": "execute_result"
    }
   ],
   "source": [
    "scores_gnb = cross_val_score(gnb, X_train, y_train, cv=10)\n",
    "scores_gnb_p = cross_val_score(gnb, X_train, y_train, scoring='precision', cv=10)\n",
    "scores_gnb_r = cross_val_score(gnb, X_train, y_train, scoring='recall', cv=10)\n",
    "scores_gnb_f = cross_val_score(gnb, X_train, y_train, scoring='f1', cv=10)\n",
    "scores_gnb"
   ]
  },
  {
   "cell_type": "code",
   "execution_count": 32,
   "metadata": {},
   "outputs": [
    {
     "data": {
      "text/html": [
       "<div>\n",
       "<style scoped>\n",
       "    .dataframe tbody tr th:only-of-type {\n",
       "        vertical-align: middle;\n",
       "    }\n",
       "\n",
       "    .dataframe tbody tr th {\n",
       "        vertical-align: top;\n",
       "    }\n",
       "\n",
       "    .dataframe thead th {\n",
       "        text-align: right;\n",
       "    }\n",
       "</style>\n",
       "<table border=\"1\" class=\"dataframe\">\n",
       "  <thead>\n",
       "    <tr style=\"text-align: right;\">\n",
       "      <th></th>\n",
       "      <th>Model</th>\n",
       "      <th>Accuracy</th>\n",
       "      <th>Precision</th>\n",
       "      <th>Recall</th>\n",
       "      <th>F1</th>\n",
       "    </tr>\n",
       "  </thead>\n",
       "  <tbody>\n",
       "    <tr>\n",
       "      <th>0</th>\n",
       "      <td>GaussNB</td>\n",
       "      <td>0.8129 (+/- 0.0195)</td>\n",
       "      <td>0.8364 (+/- 0.0225)</td>\n",
       "      <td>0.8809 (+/- 0.0204)</td>\n",
       "      <td>0.8580 (+/- 0.0141)</td>\n",
       "    </tr>\n",
       "  </tbody>\n",
       "</table>\n",
       "</div>"
      ],
      "text/plain": [
       "     Model             Accuracy            Precision               Recall  \\\n",
       "0  GaussNB  0.8129 (+/- 0.0195)  0.8364 (+/- 0.0225)  0.8809 (+/- 0.0204)   \n",
       "\n",
       "                    F1  \n",
       "0  0.8580 (+/- 0.0141)  "
      ]
     },
     "execution_count": 32,
     "metadata": {},
     "output_type": "execute_result"
    }
   ],
   "source": [
    "models_df_gnb = pd.DataFrame({  \n",
    "  'Model': ['GaussNB'],\n",
    "  'Accuracy' : [strScoreConf(scores_gnb.mean(), scores_gnb.std())],\n",
    "  'Precision': [strScoreConf(scores_gnb_p.mean(), scores_gnb_p.std())],\n",
    "  'Recall' : [strScoreConf(scores_gnb_r.mean(), scores_gnb_r.std())],\n",
    "  'F1' : [strScoreConf(scores_gnb_f.mean(), scores_gnb_f.std())]\n",
    "})\n",
    "models_df_gnb"
   ]
  },
  {
   "cell_type": "markdown",
   "metadata": {
    "slideshow": {
     "slide_type": "slide"
    }
   },
   "source": [
    "### Bernoulli NB"
   ]
  },
  {
   "cell_type": "code",
   "execution_count": 33,
   "metadata": {
    "slideshow": {
     "slide_type": "subslide"
    }
   },
   "outputs": [
    {
     "data": {
      "text/plain": [
       "0.7526349752634975"
      ]
     },
     "execution_count": 33,
     "metadata": {},
     "output_type": "execute_result"
    }
   ],
   "source": [
    "bnb = BernoulliNB()\n",
    "bnb.fit(X_train, y_train)\n",
    "y_predict = bnb.predict(X_test)\n",
    "bnb.score(X_test, y_test)"
   ]
  },
  {
   "cell_type": "code",
   "execution_count": 34,
   "metadata": {
    "slideshow": {
     "slide_type": "subslide"
    }
   },
   "outputs": [
    {
     "name": "stdout",
     "output_type": "stream",
     "text": [
      "Confusion matrix, without normalization\n",
      "[[ 725  941]\n",
      " [ 209 2774]]\n",
      "Normalized confusion matrix\n",
      "[[0.43517407 0.56482593]\n",
      " [0.07006369 0.92993631]]\n"
     ]
    },
    {
     "data": {
      "image/png": "[encoded data removed]",
      "text/plain": [
       "<Figure size 720x720 with 2 Axes>"
      ]
     },
     "metadata": {
      "needs_background": "light"
     },
     "output_type": "display_data"
    },
    {
     "data": {
      "image/png": "[encoded data removed]",
      "text/plain": [
       "<Figure size 720x720 with 2 Axes>"
      ]
     },
     "metadata": {
      "needs_background": "light"
     },
     "output_type": "display_data"
    }
   ],
   "source": [
    "# Plot non-normalized confusion matrix\n",
    "ax1 = plot_confusion_matrix(y_test, y_predict, classes=class_names,\n",
    "                      title='Confusion matrix, without normalization')\n",
    "\n",
    "# Plot normalized confusion matrix\n",
    "ax2 = plot_confusion_matrix(y_test, y_predict, classes=class_names, normalize=True,\n",
    "                      title='Normalized confusion matrix')\n",
    "\n",
    "plt.show()"
   ]
  },
  {
   "cell_type": "code",
   "execution_count": 35,
   "metadata": {},
   "outputs": [
    {
     "data": {
      "image/png": "[encoded data removed]",
      "text/plain": [
       "<Figure size 288x288 with 2 Axes>"
      ]
     },
     "metadata": {
      "needs_background": "light"
     },
     "output_type": "display_data"
    }
   ],
   "source": [
    "plot_cm(y_test, y_predict, figsize=(4,4), classes=class_names, figname=\"results/bin_bnb_cm.png\")"
   ]
  },
  {
   "cell_type": "code",
   "execution_count": 36,
   "metadata": {
    "slideshow": {
     "slide_type": "subslide"
    }
   },
   "outputs": [
    {
     "name": "stdout",
     "output_type": "stream",
     "text": [
      "\t(tn, fp, fn, tp) = (725, 941, 209, 2774)\n",
      "\tAccuracy = 75.26%\n",
      "\tMisclassification Rate = 24.74%\n",
      "\tPrecision = 74.67%\n",
      "\tRecall = 92.99%\n",
      "\tF1-Score = 82.83%\n"
     ]
    }
   ],
   "source": [
    "print_scores(y_test, y_predict)"
   ]
  },
  {
   "cell_type": "markdown",
   "metadata": {},
   "source": [
    "#### Cross-validation"
   ]
  },
  {
   "cell_type": "code",
   "execution_count": 37,
   "metadata": {},
   "outputs": [
    {
     "data": {
      "text/plain": [
       "array([0.76613757, 0.76694915, 0.74364407, 0.74470339, 0.77118644,\n",
       "       0.7690678 , 0.7592789 , 0.76776246, 0.75185578, 0.76670201])"
      ]
     },
     "execution_count": 37,
     "metadata": {},
     "output_type": "execute_result"
    }
   ],
   "source": [
    "scores_bnb = cross_val_score(bnb, X_train, y_train, cv=10)\n",
    "scores_bnb_p = cross_val_score(bnb, X_train, y_train, scoring='precision', cv=10)\n",
    "scores_bnb_r = cross_val_score(bnb, X_train, y_train, scoring='recall', cv=10)\n",
    "scores_bnb_f = cross_val_score(bnb, X_train, y_train, scoring='f1', cv=10)\n",
    "scores_bnb"
   ]
  },
  {
   "cell_type": "code",
   "execution_count": 38,
   "metadata": {},
   "outputs": [
    {
     "data": {
      "text/html": [
       "<div>\n",
       "<style scoped>\n",
       "    .dataframe tbody tr th:only-of-type {\n",
       "        vertical-align: middle;\n",
       "    }\n",
       "\n",
       "    .dataframe tbody tr th {\n",
       "        vertical-align: top;\n",
       "    }\n",
       "\n",
       "    .dataframe thead th {\n",
       "        text-align: right;\n",
       "    }\n",
       "</style>\n",
       "<table border=\"1\" class=\"dataframe\">\n",
       "  <thead>\n",
       "    <tr style=\"text-align: right;\">\n",
       "      <th></th>\n",
       "      <th>Model</th>\n",
       "      <th>Accuracy</th>\n",
       "      <th>Precision</th>\n",
       "      <th>Recall</th>\n",
       "      <th>F1</th>\n",
       "    </tr>\n",
       "  </thead>\n",
       "  <tbody>\n",
       "    <tr>\n",
       "      <th>0</th>\n",
       "      <td>BernNB</td>\n",
       "      <td>0.7607 (+/- 0.0192)</td>\n",
       "      <td>0.7528 (+/- 0.0184)</td>\n",
       "      <td>0.9341 (+/- 0.0141)</td>\n",
       "      <td>0.8337 (+/- 0.0115)</td>\n",
       "    </tr>\n",
       "  </tbody>\n",
       "</table>\n",
       "</div>"
      ],
      "text/plain": [
       "    Model             Accuracy            Precision               Recall  \\\n",
       "0  BernNB  0.7607 (+/- 0.0192)  0.7528 (+/- 0.0184)  0.9341 (+/- 0.0141)   \n",
       "\n",
       "                    F1  \n",
       "0  0.8337 (+/- 0.0115)  "
      ]
     },
     "execution_count": 38,
     "metadata": {},
     "output_type": "execute_result"
    }
   ],
   "source": [
    "models_df_bnb = pd.DataFrame({  \n",
    "  'Model': ['BernNB'],\n",
    "  'Accuracy' : [strScoreConf(scores_bnb.mean(), scores_bnb.std())],\n",
    "  'Precision': [strScoreConf(scores_bnb_p.mean(), scores_bnb_p.std())],\n",
    "  'Recall' : [strScoreConf(scores_bnb_r.mean(), scores_bnb_r.std())],\n",
    "  'F1' : [strScoreConf(scores_bnb_f.mean(), scores_bnb_f.std())]\n",
    "})\n",
    "models_df_bnb"
   ]
  },
  {
   "cell_type": "markdown",
   "metadata": {
    "slideshow": {
     "slide_type": "slide"
    }
   },
   "source": [
    "## Stochastic Gradient Descent (SGD)"
   ]
  },
  {
   "cell_type": "code",
   "execution_count": 39,
   "metadata": {
    "scrolled": true,
    "slideshow": {
     "slide_type": "subslide"
    }
   },
   "outputs": [
    {
     "data": {
      "text/plain": [
       "0.7726392772639278"
      ]
     },
     "execution_count": 39,
     "metadata": {},
     "output_type": "execute_result"
    }
   ],
   "source": [
    "sgd = linear_model.SGDClassifier()\n",
    "sgd.fit(X_train, y_train)\n",
    "y_predict = sgd.predict(X_test)\n",
    "sgd.score(X_test, y_test) #around 72-78%"
   ]
  },
  {
   "cell_type": "code",
   "execution_count": 40,
   "metadata": {
    "slideshow": {
     "slide_type": "subslide"
    }
   },
   "outputs": [
    {
     "name": "stdout",
     "output_type": "stream",
     "text": [
      "Confusion matrix, without normalization\n",
      "[[1097  569]\n",
      " [ 488 2495]]\n",
      "Normalized confusion matrix\n",
      "[[0.65846339 0.34153661]\n",
      " [0.1635937  0.8364063 ]]\n"
     ]
    },
    {
     "data": {
      "image/png": "[encoded data removed]",
      "text/plain": [
       "<Figure size 720x720 with 2 Axes>"
      ]
     },
     "metadata": {
      "needs_background": "light"
     },
     "output_type": "display_data"
    },
    {
     "data": {
      "image/png": "[encoded data removed]",
      "text/plain": [
       "<Figure size 720x720 with 2 Axes>"
      ]
     },
     "metadata": {
      "needs_background": "light"
     },
     "output_type": "display_data"
    }
   ],
   "source": [
    "# Plot non-normalized confusion matrix\n",
    "ax1 = plot_confusion_matrix(y_test, y_predict, classes=class_names,\n",
    "                      title='Confusion matrix, without normalization')\n",
    "\n",
    "# Plot normalized confusion matrix\n",
    "ax2 = plot_confusion_matrix(y_test, y_predict, classes=class_names, normalize=True,\n",
    "                      title='Normalized confusion matrix')\n",
    "\n",
    "plt.show()"
   ]
  },
  {
   "cell_type": "code",
   "execution_count": 41,
   "metadata": {},
   "outputs": [
    {
     "data": {
      "image/png": "[encoded data removed]",
      "text/plain": [
       "<Figure size 288x288 with 2 Axes>"
      ]
     },
     "metadata": {
      "needs_background": "light"
     },
     "output_type": "display_data"
    }
   ],
   "source": [
    "plot_cm(y_test, y_predict, figsize=(4,4), classes=class_names, figname=\"results/bin_sgd_cm.png\")"
   ]
  },
  {
   "cell_type": "code",
   "execution_count": 42,
   "metadata": {
    "slideshow": {
     "slide_type": "subslide"
    }
   },
   "outputs": [
    {
     "name": "stdout",
     "output_type": "stream",
     "text": [
      "\t(tn, fp, fn, tp) = (1097, 569, 488, 2495)\n",
      "\tAccuracy = 77.26%\n",
      "\tMisclassification Rate = 22.74%\n",
      "\tPrecision = 81.43%\n",
      "\tRecall = 83.64%\n",
      "\tF1-Score = 82.52%\n"
     ]
    }
   ],
   "source": [
    "print_scores(y_test, y_predict)"
   ]
  },
  {
   "cell_type": "markdown",
   "metadata": {},
   "source": [
    "#### Cross-validation"
   ]
  },
  {
   "cell_type": "code",
   "execution_count": 43,
   "metadata": {},
   "outputs": [
    {
     "data": {
      "text/plain": [
       "array([0.79365079, 0.77648305, 0.7595339 , 0.78283898, 0.76800847,\n",
       "       0.78707627, 0.7804878 , 0.76776246, 0.75397667, 0.7359491 ])"
      ]
     },
     "execution_count": 43,
     "metadata": {},
     "output_type": "execute_result"
    }
   ],
   "source": [
    "scores_sgd = cross_val_score(sgd, X_train, y_train, cv=10)\n",
    "scores_sgd_p = cross_val_score(sgd, X_train, y_train, scoring='precision', cv=10)\n",
    "scores_sgd_r = cross_val_score(sgd, X_train, y_train, scoring='recall', cv=10)\n",
    "scores_sgd_f = cross_val_score(sgd, X_train, y_train, scoring='f1', cv=10)\n",
    "scores_sgd"
   ]
  },
  {
   "cell_type": "code",
   "execution_count": 44,
   "metadata": {},
   "outputs": [
    {
     "data": {
      "text/html": [
       "<div>\n",
       "<style scoped>\n",
       "    .dataframe tbody tr th:only-of-type {\n",
       "        vertical-align: middle;\n",
       "    }\n",
       "\n",
       "    .dataframe tbody tr th {\n",
       "        vertical-align: top;\n",
       "    }\n",
       "\n",
       "    .dataframe thead th {\n",
       "        text-align: right;\n",
       "    }\n",
       "</style>\n",
       "<table border=\"1\" class=\"dataframe\">\n",
       "  <thead>\n",
       "    <tr style=\"text-align: right;\">\n",
       "      <th></th>\n",
       "      <th>Model</th>\n",
       "      <th>Accuracy</th>\n",
       "      <th>Precision</th>\n",
       "      <th>Recall</th>\n",
       "      <th>F1</th>\n",
       "    </tr>\n",
       "  </thead>\n",
       "  <tbody>\n",
       "    <tr>\n",
       "      <th>0</th>\n",
       "      <td>SGD</td>\n",
       "      <td>0.7706 (+/- 0.0322)</td>\n",
       "      <td>0.8371 (+/- 0.1322)</td>\n",
       "      <td>0.8240 (+/- 0.3171)</td>\n",
       "      <td>0.6925 (+/- 0.4422)</td>\n",
       "    </tr>\n",
       "  </tbody>\n",
       "</table>\n",
       "</div>"
      ],
      "text/plain": [
       "  Model             Accuracy            Precision               Recall  \\\n",
       "0   SGD  0.7706 (+/- 0.0322)  0.8371 (+/- 0.1322)  0.8240 (+/- 0.3171)   \n",
       "\n",
       "                    F1  \n",
       "0  0.6925 (+/- 0.4422)  "
      ]
     },
     "execution_count": 44,
     "metadata": {},
     "output_type": "execute_result"
    }
   ],
   "source": [
    "models_df_sgd = pd.DataFrame({  \n",
    "  'Model': ['SGD'],\n",
    "  'Accuracy' : [strScoreConf(scores_sgd.mean(), scores_sgd.std())],\n",
    "  'Precision': [strScoreConf(scores_sgd_p.mean(), scores_sgd_p.std())],\n",
    "  'Recall' : [strScoreConf(scores_sgd_r.mean(), scores_sgd_r.std())],\n",
    "  'F1' : [strScoreConf(scores_sgd_f.mean(), scores_sgd_f.std())]\n",
    "})\n",
    "models_df_sgd"
   ]
  },
  {
   "cell_type": "markdown",
   "metadata": {
    "slideshow": {
     "slide_type": "slide"
    }
   },
   "source": [
    "## K-Nearest Neighbors"
   ]
  },
  {
   "cell_type": "code",
   "execution_count": 45,
   "metadata": {
    "slideshow": {
     "slide_type": "subslide"
    }
   },
   "outputs": [
    {
     "data": {
      "text/plain": [
       "0.8354484835448484"
      ]
     },
     "execution_count": 45,
     "metadata": {},
     "output_type": "execute_result"
    }
   ],
   "source": [
    "knn = KNeighborsClassifier() # n = 5\n",
    "knn.fit(X_train, y_train)\n",
    "y_predict = knn.predict(X_test)\n",
    "knn.score(X_test, y_test)"
   ]
  },
  {
   "cell_type": "code",
   "execution_count": 46,
   "metadata": {
    "slideshow": {
     "slide_type": "subslide"
    }
   },
   "outputs": [
    {
     "name": "stdout",
     "output_type": "stream",
     "text": [
      "Confusion matrix, without normalization\n",
      "[[1193  473]\n",
      " [ 292 2691]]\n",
      "Normalized confusion matrix\n",
      "[[0.71608643 0.28391357]\n",
      " [0.09788803 0.90211197]]\n"
     ]
    },
    {
     "data": {
      "image/png": "[encoded data removed]",
      "text/plain": [
       "<Figure size 720x720 with 2 Axes>"
      ]
     },
     "metadata": {
      "needs_background": "light"
     },
     "output_type": "display_data"
    },
    {
     "data": {
      "image/png": "[encoded data removed]",
      "text/plain": [
       "<Figure size 720x720 with 2 Axes>"
      ]
     },
     "metadata": {
      "needs_background": "light"
     },
     "output_type": "display_data"
    }
   ],
   "source": [
    "# Plot non-normalized confusion matrix\n",
    "ax1 = plot_confusion_matrix(y_test, y_predict, classes=class_names,\n",
    "                      title='Confusion matrix, without normalization')\n",
    "\n",
    "# Plot normalized confusion matrix\n",
    "ax2 = plot_confusion_matrix(y_test, y_predict, classes=class_names, normalize=True,\n",
    "                      title='Normalized confusion matrix')\n",
    "\n",
    "plt.show()"
   ]
  },
  {
   "cell_type": "code",
   "execution_count": 47,
   "metadata": {},
   "outputs": [
    {
     "data": {
      "image/png": "[encoded data removed]",
      "text/plain": [
       "<Figure size 288x288 with 2 Axes>"
      ]
     },
     "metadata": {
      "needs_background": "light"
     },
     "output_type": "display_data"
    }
   ],
   "source": [
    "plot_cm(y_test, y_predict, figsize=(4,4), classes=class_names, figname=\"results/bin_knn_cm.png\")"
   ]
  },
  {
   "cell_type": "code",
   "execution_count": 48,
   "metadata": {
    "slideshow": {
     "slide_type": "subslide"
    }
   },
   "outputs": [
    {
     "name": "stdout",
     "output_type": "stream",
     "text": [
      "\t(tn, fp, fn, tp) = (1193, 473, 292, 2691)\n",
      "\tAccuracy = 83.54%\n",
      "\tMisclassification Rate = 16.46%\n",
      "\tPrecision = 85.05%\n",
      "\tRecall = 90.21%\n",
      "\tF1-Score = 87.55%\n"
     ]
    }
   ],
   "source": [
    "print_scores(y_test, y_predict)"
   ]
  },
  {
   "cell_type": "markdown",
   "metadata": {},
   "source": [
    "#### Cross-validation"
   ]
  },
  {
   "cell_type": "code",
   "execution_count": 49,
   "metadata": {},
   "outputs": [
    {
     "data": {
      "text/plain": [
       "array([0.83492063, 0.82627119, 0.81567797, 0.83368644, 0.84322034,\n",
       "       0.83580508, 0.83351007, 0.82820785, 0.84305408, 0.83563097])"
      ]
     },
     "execution_count": 49,
     "metadata": {},
     "output_type": "execute_result"
    }
   ],
   "source": [
    "scores_knn = cross_val_score(knn, X_train, y_train, cv=10)\n",
    "scores_knn_p = cross_val_score(knn, X_train, y_train, scoring='precision', cv=10)\n",
    "scores_knn_r = cross_val_score(knn, X_train, y_train, scoring='recall', cv=10)\n",
    "scores_knn_f = cross_val_score(knn, X_train, y_train, scoring='f1', cv=10)\n",
    "scores_knn"
   ]
  },
  {
   "cell_type": "code",
   "execution_count": 50,
   "metadata": {},
   "outputs": [
    {
     "data": {
      "text/html": [
       "<div>\n",
       "<style scoped>\n",
       "    .dataframe tbody tr th:only-of-type {\n",
       "        vertical-align: middle;\n",
       "    }\n",
       "\n",
       "    .dataframe tbody tr th {\n",
       "        vertical-align: top;\n",
       "    }\n",
       "\n",
       "    .dataframe thead th {\n",
       "        text-align: right;\n",
       "    }\n",
       "</style>\n",
       "<table border=\"1\" class=\"dataframe\">\n",
       "  <thead>\n",
       "    <tr style=\"text-align: right;\">\n",
       "      <th></th>\n",
       "      <th>Model</th>\n",
       "      <th>Accuracy</th>\n",
       "      <th>Precision</th>\n",
       "      <th>Recall</th>\n",
       "      <th>F1</th>\n",
       "    </tr>\n",
       "  </thead>\n",
       "  <tbody>\n",
       "    <tr>\n",
       "      <th>0</th>\n",
       "      <td>KNN</td>\n",
       "      <td>0.8330 (+/- 0.0151)</td>\n",
       "      <td>0.8515 (+/- 0.0149)</td>\n",
       "      <td>0.8963 (+/- 0.0317)</td>\n",
       "      <td>0.8732 (+/- 0.0131)</td>\n",
       "    </tr>\n",
       "  </tbody>\n",
       "</table>\n",
       "</div>"
      ],
      "text/plain": [
       "  Model             Accuracy            Precision               Recall  \\\n",
       "0   KNN  0.8330 (+/- 0.0151)  0.8515 (+/- 0.0149)  0.8963 (+/- 0.0317)   \n",
       "\n",
       "                    F1  \n",
       "0  0.8732 (+/- 0.0131)  "
      ]
     },
     "execution_count": 50,
     "metadata": {},
     "output_type": "execute_result"
    }
   ],
   "source": [
    "models_df_knn = pd.DataFrame({  \n",
    "  'Model': ['KNN'],\n",
    "  'Accuracy' : [strScoreConf(scores_knn.mean(), scores_knn.std())],\n",
    "  'Precision': [strScoreConf(scores_knn_p.mean(), scores_knn_p.std())],\n",
    "  'Recall' : [strScoreConf(scores_knn_r.mean(), scores_knn_r.std())],\n",
    "  'F1' : [strScoreConf(scores_knn_f.mean(), scores_knn_f.std())]\n",
    "})\n",
    "models_df_knn"
   ]
  },
  {
   "cell_type": "markdown",
   "metadata": {
    "slideshow": {
     "slide_type": "slide"
    }
   },
   "source": [
    "## Decision Tree"
   ]
  },
  {
   "cell_type": "code",
   "execution_count": 51,
   "metadata": {
    "slideshow": {
     "slide_type": "subslide"
    }
   },
   "outputs": [
    {
     "data": {
      "text/plain": [
       "0.8038287803828781"
      ]
     },
     "execution_count": 51,
     "metadata": {},
     "output_type": "execute_result"
    }
   ],
   "source": [
    "dtc = DecisionTreeClassifier()\n",
    "dtc.fit(X_train, y_train)\n",
    "y_predict = dtc.predict(X_test)\n",
    "dtc.score(X_test, y_test)"
   ]
  },
  {
   "cell_type": "code",
   "execution_count": 52,
   "metadata": {
    "slideshow": {
     "slide_type": "subslide"
    }
   },
   "outputs": [
    {
     "name": "stdout",
     "output_type": "stream",
     "text": [
      "Confusion matrix, without normalization\n",
      "[[1229  437]\n",
      " [ 475 2508]]\n",
      "Normalized confusion matrix\n",
      "[[0.73769508 0.26230492]\n",
      " [0.15923567 0.84076433]]\n"
     ]
    },
    {
     "data": {
      "image/png": "[encoded data removed]",
      "text/plain": [
       "<Figure size 720x720 with 2 Axes>"
      ]
     },
     "metadata": {
      "needs_background": "light"
     },
     "output_type": "display_data"
    },
    {
     "data": {
      "image/png": "[encoded data removed]",
      "text/plain": [
       "<Figure size 720x720 with 2 Axes>"
      ]
     },
     "metadata": {
      "needs_background": "light"
     },
     "output_type": "display_data"
    }
   ],
   "source": [
    "# Plot non-normalized confusion matrix\n",
    "ax1 = plot_confusion_matrix(y_test, y_predict, classes=class_names,\n",
    "                      title='Confusion matrix, without normalization')\n",
    "\n",
    "# Plot normalized confusion matrix\n",
    "ax2 = plot_confusion_matrix(y_test, y_predict, classes=class_names, normalize=True,\n",
    "                      title='Normalized confusion matrix')\n",
    "\n",
    "plt.show()"
   ]
  },
  {
   "cell_type": "code",
   "execution_count": 53,
   "metadata": {},
   "outputs": [
    {
     "data": {
      "image/png": "[encoded data removed]",
      "text/plain": [
       "<Figure size 288x288 with 2 Axes>"
      ]
     },
     "metadata": {
      "needs_background": "light"
     },
     "output_type": "display_data"
    }
   ],
   "source": [
    "plot_cm(y_test, y_predict, figsize=(4,4), classes=class_names, figname=\"results/bin_dtc_cm.png\")"
   ]
  },
  {
   "cell_type": "code",
   "execution_count": 54,
   "metadata": {
    "slideshow": {
     "slide_type": "subslide"
    }
   },
   "outputs": [
    {
     "name": "stdout",
     "output_type": "stream",
     "text": [
      "\t(tn, fp, fn, tp) = (1229, 437, 475, 2508)\n",
      "\tAccuracy = 80.38%\n",
      "\tMisclassification Rate = 19.62%\n",
      "\tPrecision = 85.16%\n",
      "\tRecall = 84.08%\n",
      "\tF1-Score = 84.62%\n"
     ]
    }
   ],
   "source": [
    "print_scores(y_test, y_predict)"
   ]
  },
  {
   "cell_type": "markdown",
   "metadata": {},
   "source": [
    "#### Cross-validation"
   ]
  },
  {
   "cell_type": "code",
   "execution_count": 55,
   "metadata": {},
   "outputs": [
    {
     "data": {
      "text/plain": [
       "array([0.7968254 , 0.80826271, 0.78072034, 0.7934322 , 0.82521186,\n",
       "       0.80402542, 0.80699894, 0.81124072, 0.79957582, 0.80699894])"
      ]
     },
     "execution_count": 55,
     "metadata": {},
     "output_type": "execute_result"
    }
   ],
   "source": [
    "scores_dtc = cross_val_score(dtc, X_train, y_train, cv=10)\n",
    "scores_dtc_p = cross_val_score(dtc, X_train, y_train, scoring='precision', cv=10)\n",
    "scores_dtc_r = cross_val_score(dtc, X_train, y_train, scoring='recall', cv=10)\n",
    "scores_dtc_f = cross_val_score(dtc, X_train, y_train, scoring='f1', cv=10)\n",
    "scores_dtc"
   ]
  },
  {
   "cell_type": "code",
   "execution_count": 56,
   "metadata": {},
   "outputs": [
    {
     "data": {
      "text/html": [
       "<div>\n",
       "<style scoped>\n",
       "    .dataframe tbody tr th:only-of-type {\n",
       "        vertical-align: middle;\n",
       "    }\n",
       "\n",
       "    .dataframe tbody tr th {\n",
       "        vertical-align: top;\n",
       "    }\n",
       "\n",
       "    .dataframe thead th {\n",
       "        text-align: right;\n",
       "    }\n",
       "</style>\n",
       "<table border=\"1\" class=\"dataframe\">\n",
       "  <thead>\n",
       "    <tr style=\"text-align: right;\">\n",
       "      <th></th>\n",
       "      <th>Model</th>\n",
       "      <th>Accuracy</th>\n",
       "      <th>Precision</th>\n",
       "      <th>Recall</th>\n",
       "      <th>F1</th>\n",
       "    </tr>\n",
       "  </thead>\n",
       "  <tbody>\n",
       "    <tr>\n",
       "      <th>0</th>\n",
       "      <td>DecnTree</td>\n",
       "      <td>0.8033 (+/- 0.0220)</td>\n",
       "      <td>0.8473 (+/- 0.0122)</td>\n",
       "      <td>0.8463 (+/- 0.0243)</td>\n",
       "      <td>0.8470 (+/- 0.0089)</td>\n",
       "    </tr>\n",
       "  </tbody>\n",
       "</table>\n",
       "</div>"
      ],
      "text/plain": [
       "      Model             Accuracy            Precision               Recall  \\\n",
       "0  DecnTree  0.8033 (+/- 0.0220)  0.8473 (+/- 0.0122)  0.8463 (+/- 0.0243)   \n",
       "\n",
       "                    F1  \n",
       "0  0.8470 (+/- 0.0089)  "
      ]
     },
     "execution_count": 56,
     "metadata": {},
     "output_type": "execute_result"
    }
   ],
   "source": [
    "models_df_dtc = pd.DataFrame({  \n",
    "  'Model': ['DecnTree'],\n",
    "  'Accuracy' : [strScoreConf(scores_dtc.mean(), scores_dtc.std())],\n",
    "  'Precision': [strScoreConf(scores_dtc_p.mean(), scores_dtc_p.std())],\n",
    "  'Recall' : [strScoreConf(scores_dtc_r.mean(), scores_dtc_r.std())],\n",
    "  'F1' : [strScoreConf(scores_dtc_f.mean(), scores_dtc_f.std())]\n",
    "})\n",
    "models_df_dtc"
   ]
  },
  {
   "cell_type": "markdown",
   "metadata": {
    "slideshow": {
     "slide_type": "slide"
    }
   },
   "source": [
    "## SVM"
   ]
  },
  {
   "cell_type": "code",
   "execution_count": 57,
   "metadata": {
    "slideshow": {
     "slide_type": "subslide"
    }
   },
   "outputs": [
    {
     "name": "stderr",
     "output_type": "stream",
     "text": [
      "C:\\Users\\ailin\\Anaconda3\\envs\\gdal_env\\lib\\site-packages\\sklearn\\svm\\base.py:193: FutureWarning: The default value of gamma will change from 'auto' to 'scale' in version 0.22 to account better for unscaled features. Set gamma explicitly to 'auto' or 'scale' to avoid this warning.\n",
      "  \"avoid this warning.\", FutureWarning)\n"
     ]
    },
    {
     "data": {
      "text/plain": [
       "SVC(C=1.0, cache_size=200, class_weight=None, coef0=0.0,\n",
       "    decision_function_shape='ovr', degree=3, gamma='auto_deprecated',\n",
       "    kernel='rbf', max_iter=-1, probability=False, random_state=None,\n",
       "    shrinking=True, tol=0.001, verbose=False)"
      ]
     },
     "execution_count": 57,
     "metadata": {},
     "output_type": "execute_result"
    }
   ],
   "source": [
    "#Support Vector Classifier\n",
    "#svc_lin = svm.SVC(kernel='linear')\n",
    "svc_rbf = svm.SVC(kernel='rbf')\n",
    "#svc_poly = svm.SVC(kernel='poly')\n",
    "\n",
    "#svc_lin.fit(X_train, y_train)\n",
    "svc_rbf.fit(X_train, y_train)\n",
    "#svc_poly.fit(X_train, y_train)"
   ]
  },
  {
   "cell_type": "code",
   "execution_count": 58,
   "metadata": {
    "slideshow": {
     "slide_type": "subslide"
    }
   },
   "outputs": [],
   "source": [
    "#y_pred_l = svc_lin.predict(X_test)\n",
    "y_pred_r = svc_rbf.predict(X_test)\n",
    "#y_pred_p = svc_poly.predict(X_test)"
   ]
  },
  {
   "cell_type": "markdown",
   "metadata": {
    "slideshow": {
     "slide_type": "slide"
    }
   },
   "source": [
    "#### Results SVC linear kernel"
   ]
  },
  {
   "cell_type": "code",
   "execution_count": 93,
   "metadata": {
    "slideshow": {
     "slide_type": "subslide"
    }
   },
   "outputs": [
    {
     "name": "stdout",
     "output_type": "stream",
     "text": [
      "[[1064  602]\n",
      " [ 198 2785]]\n",
      "\t(tn, fp, fn, tp) = (1064, 602, 198, 2785)\n",
      "\tAccuracy = 82.79%\n",
      "\tMisclassification Rate = 17.21%\n",
      "\tPrecision = 82.23%\n",
      "\tRecall = 93.36%\n",
      "\tF1-Score = 87.44%\n"
     ]
    }
   ],
   "source": [
    "# print(confusion_matrix(y_test, y_pred_l))\n",
    "# print_scores(y_test, y_pred_l)"
   ]
  },
  {
   "cell_type": "markdown",
   "metadata": {
    "slideshow": {
     "slide_type": "subslide"
    }
   },
   "source": [
    "#### Results SVC RBF kernel"
   ]
  },
  {
   "cell_type": "code",
   "execution_count": 59,
   "metadata": {},
   "outputs": [
    {
     "name": "stdout",
     "output_type": "stream",
     "text": [
      "Confusion matrix, without normalization\n",
      "[[ 439 1227]\n",
      " [  90 2893]]\n",
      "Normalized confusion matrix\n",
      "[[0.2635054  0.7364946 ]\n",
      " [0.03017097 0.96982903]]\n"
     ]
    },
    {
     "data": {
      "image/png": "[encoded data removed]",
      "text/plain": [
       "<Figure size 720x720 with 2 Axes>"
      ]
     },
     "metadata": {
      "needs_background": "light"
     },
     "output_type": "display_data"
    },
    {
     "data": {
      "image/png": "[encoded data removed]",
      "text/plain": [
       "<Figure size 720x720 with 2 Axes>"
      ]
     },
     "metadata": {
      "needs_background": "light"
     },
     "output_type": "display_data"
    }
   ],
   "source": [
    "# Plot non-normalized confusion matrix\n",
    "ax1 = plot_confusion_matrix(y_test, y_pred_r, classes=class_names,\n",
    "                      title='Confusion matrix, without normalization')\n",
    "\n",
    "# Plot normalized confusion matrix\n",
    "ax2 = plot_confusion_matrix(y_test, y_pred_r, classes=class_names, normalize=True,\n",
    "                      title='Normalized confusion matrix')\n",
    "\n",
    "plt.show()"
   ]
  },
  {
   "cell_type": "code",
   "execution_count": 65,
   "metadata": {},
   "outputs": [
    {
     "data": {
      "image/png": "[encoded data removed]",
      "text/plain": [
       "<Figure size 288x288 with 2 Axes>"
      ]
     },
     "metadata": {
      "needs_background": "light"
     },
     "output_type": "display_data"
    }
   ],
   "source": [
    "plot_cm(y_test, y_pred_r, figsize=(4,4), classes=class_names, figname=\"results/bin_svm_cm.png\")\n"
   ]
  },
  {
   "cell_type": "code",
   "execution_count": 60,
   "metadata": {
    "slideshow": {
     "slide_type": "subslide"
    }
   },
   "outputs": [
    {
     "name": "stdout",
     "output_type": "stream",
     "text": [
      "\t(tn, fp, fn, tp) = (439, 1227, 90, 2893)\n",
      "\tAccuracy = 71.67%\n",
      "\tMisclassification Rate = 28.33%\n",
      "\tPrecision = 70.22%\n",
      "\tRecall = 96.98%\n",
      "\tF1-Score = 81.46%\n"
     ]
    }
   ],
   "source": [
    "#print(confusion_matrix(y_test, y_pred_r))\n",
    "print_scores(y_test, y_pred_r)"
   ]
  },
  {
   "cell_type": "markdown",
   "metadata": {
    "slideshow": {
     "slide_type": "subslide"
    }
   },
   "source": [
    "#### Results SVC polynomial kernel"
   ]
  },
  {
   "cell_type": "code",
   "execution_count": 95,
   "metadata": {
    "slideshow": {
     "slide_type": "subslide"
    }
   },
   "outputs": [
    {
     "name": "stdout",
     "output_type": "stream",
     "text": [
      "[[1216  450]\n",
      " [ 233 2750]]\n",
      "\t(tn, fp, fn, tp) = (1216, 450, 233, 2750)\n",
      "\tAccuracy = 85.31%\n",
      "\tMisclassification Rate = 14.69%\n",
      "\tPrecision = 85.94%\n",
      "\tRecall = 92.19%\n",
      "\tF1-Score = 88.95%\n"
     ]
    }
   ],
   "source": [
    "# print(confusion_matrix(y_test, y_pred_p))\n",
    "# print_scores(y_test, y_pred_p)"
   ]
  },
  {
   "cell_type": "markdown",
   "metadata": {},
   "source": [
    "#### Cross-validation"
   ]
  },
  {
   "cell_type": "code",
   "execution_count": 61,
   "metadata": {},
   "outputs": [
    {
     "name": "stderr",
     "output_type": "stream",
     "text": [
      "C:\\Users\\ailin\\Anaconda3\\envs\\gdal_env\\lib\\site-packages\\sklearn\\svm\\base.py:193: FutureWarning: The default value of gamma will change from 'auto' to 'scale' in version 0.22 to account better for unscaled features. Set gamma explicitly to 'auto' or 'scale' to avoid this warning.\n",
      "  \"avoid this warning.\", FutureWarning)\n",
      "C:\\Users\\ailin\\Anaconda3\\envs\\gdal_env\\lib\\site-packages\\sklearn\\svm\\base.py:241: ConvergenceWarning: Solver terminated early (max_iter=10000).  Consider pre-processing your data with StandardScaler or MinMaxScaler.\n",
      "  % self.max_iter, ConvergenceWarning)\n",
      "C:\\Users\\ailin\\Anaconda3\\envs\\gdal_env\\lib\\site-packages\\sklearn\\svm\\base.py:193: FutureWarning: The default value of gamma will change from 'auto' to 'scale' in version 0.22 to account better for unscaled features. Set gamma explicitly to 'auto' or 'scale' to avoid this warning.\n",
      "  \"avoid this warning.\", FutureWarning)\n",
      "C:\\Users\\ailin\\Anaconda3\\envs\\gdal_env\\lib\\site-packages\\sklearn\\svm\\base.py:241: ConvergenceWarning: Solver terminated early (max_iter=10000).  Consider pre-processing your data with StandardScaler or MinMaxScaler.\n",
      "  % self.max_iter, ConvergenceWarning)\n",
      "C:\\Users\\ailin\\Anaconda3\\envs\\gdal_env\\lib\\site-packages\\sklearn\\svm\\base.py:193: FutureWarning: The default value of gamma will change from 'auto' to 'scale' in version 0.22 to account better for unscaled features. Set gamma explicitly to 'auto' or 'scale' to avoid this warning.\n",
      "  \"avoid this warning.\", FutureWarning)\n",
      "C:\\Users\\ailin\\Anaconda3\\envs\\gdal_env\\lib\\site-packages\\sklearn\\svm\\base.py:241: ConvergenceWarning: Solver terminated early (max_iter=10000).  Consider pre-processing your data with StandardScaler or MinMaxScaler.\n",
      "  % self.max_iter, ConvergenceWarning)\n",
      "C:\\Users\\ailin\\Anaconda3\\envs\\gdal_env\\lib\\site-packages\\sklearn\\svm\\base.py:193: FutureWarning: The default value of gamma will change from 'auto' to 'scale' in version 0.22 to account better for unscaled features. Set gamma explicitly to 'auto' or 'scale' to avoid this warning.\n",
      "  \"avoid this warning.\", FutureWarning)\n",
      "C:\\Users\\ailin\\Anaconda3\\envs\\gdal_env\\lib\\site-packages\\sklearn\\svm\\base.py:241: ConvergenceWarning: Solver terminated early (max_iter=10000).  Consider pre-processing your data with StandardScaler or MinMaxScaler.\n",
      "  % self.max_iter, ConvergenceWarning)\n",
      "C:\\Users\\ailin\\Anaconda3\\envs\\gdal_env\\lib\\site-packages\\sklearn\\svm\\base.py:193: FutureWarning: The default value of gamma will change from 'auto' to 'scale' in version 0.22 to account better for unscaled features. Set gamma explicitly to 'auto' or 'scale' to avoid this warning.\n",
      "  \"avoid this warning.\", FutureWarning)\n",
      "C:\\Users\\ailin\\Anaconda3\\envs\\gdal_env\\lib\\site-packages\\sklearn\\svm\\base.py:241: ConvergenceWarning: Solver terminated early (max_iter=10000).  Consider pre-processing your data with StandardScaler or MinMaxScaler.\n",
      "  % self.max_iter, ConvergenceWarning)\n",
      "C:\\Users\\ailin\\Anaconda3\\envs\\gdal_env\\lib\\site-packages\\sklearn\\svm\\base.py:193: FutureWarning: The default value of gamma will change from 'auto' to 'scale' in version 0.22 to account better for unscaled features. Set gamma explicitly to 'auto' or 'scale' to avoid this warning.\n",
      "  \"avoid this warning.\", FutureWarning)\n",
      "C:\\Users\\ailin\\Anaconda3\\envs\\gdal_env\\lib\\site-packages\\sklearn\\svm\\base.py:241: ConvergenceWarning: Solver terminated early (max_iter=10000).  Consider pre-processing your data with StandardScaler or MinMaxScaler.\n",
      "  % self.max_iter, ConvergenceWarning)\n",
      "C:\\Users\\ailin\\Anaconda3\\envs\\gdal_env\\lib\\site-packages\\sklearn\\svm\\base.py:193: FutureWarning: The default value of gamma will change from 'auto' to 'scale' in version 0.22 to account better for unscaled features. Set gamma explicitly to 'auto' or 'scale' to avoid this warning.\n",
      "  \"avoid this warning.\", FutureWarning)\n",
      "C:\\Users\\ailin\\Anaconda3\\envs\\gdal_env\\lib\\site-packages\\sklearn\\svm\\base.py:241: ConvergenceWarning: Solver terminated early (max_iter=10000).  Consider pre-processing your data with StandardScaler or MinMaxScaler.\n",
      "  % self.max_iter, ConvergenceWarning)\n",
      "C:\\Users\\ailin\\Anaconda3\\envs\\gdal_env\\lib\\site-packages\\sklearn\\svm\\base.py:193: FutureWarning: The default value of gamma will change from 'auto' to 'scale' in version 0.22 to account better for unscaled features. Set gamma explicitly to 'auto' or 'scale' to avoid this warning.\n",
      "  \"avoid this warning.\", FutureWarning)\n",
      "C:\\Users\\ailin\\Anaconda3\\envs\\gdal_env\\lib\\site-packages\\sklearn\\svm\\base.py:241: ConvergenceWarning: Solver terminated early (max_iter=10000).  Consider pre-processing your data with StandardScaler or MinMaxScaler.\n",
      "  % self.max_iter, ConvergenceWarning)\n",
      "C:\\Users\\ailin\\Anaconda3\\envs\\gdal_env\\lib\\site-packages\\sklearn\\svm\\base.py:193: FutureWarning: The default value of gamma will change from 'auto' to 'scale' in version 0.22 to account better for unscaled features. Set gamma explicitly to 'auto' or 'scale' to avoid this warning.\n",
      "  \"avoid this warning.\", FutureWarning)\n",
      "C:\\Users\\ailin\\Anaconda3\\envs\\gdal_env\\lib\\site-packages\\sklearn\\svm\\base.py:241: ConvergenceWarning: Solver terminated early (max_iter=10000).  Consider pre-processing your data with StandardScaler or MinMaxScaler.\n",
      "  % self.max_iter, ConvergenceWarning)\n",
      "C:\\Users\\ailin\\Anaconda3\\envs\\gdal_env\\lib\\site-packages\\sklearn\\svm\\base.py:193: FutureWarning: The default value of gamma will change from 'auto' to 'scale' in version 0.22 to account better for unscaled features. Set gamma explicitly to 'auto' or 'scale' to avoid this warning.\n",
      "  \"avoid this warning.\", FutureWarning)\n",
      "C:\\Users\\ailin\\Anaconda3\\envs\\gdal_env\\lib\\site-packages\\sklearn\\svm\\base.py:241: ConvergenceWarning: Solver terminated early (max_iter=10000).  Consider pre-processing your data with StandardScaler or MinMaxScaler.\n",
      "  % self.max_iter, ConvergenceWarning)\n"
     ]
    },
    {
     "data": {
      "text/plain": [
       "array([0.70687831, 0.72033898, 0.68432203, 0.72139831, 0.71292373,\n",
       "       0.70762712, 0.72216331, 0.70307529, 0.7126193 , 0.71792153])"
      ]
     },
     "execution_count": 61,
     "metadata": {},
     "output_type": "execute_result"
    }
   ],
   "source": [
    "# #trying RBF since it is the default parameter\n",
    "scores_svc = cross_val_score(svm.SVC(max_iter=10000), X_train, y_train, cv=10)\n",
    "\n",
    "scores_svc"
   ]
  },
  {
   "cell_type": "code",
   "execution_count": 63,
   "metadata": {},
   "outputs": [
    {
     "name": "stderr",
     "output_type": "stream",
     "text": [
      "C:\\Users\\ailin\\Anaconda3\\envs\\gdal_env\\lib\\site-packages\\sklearn\\svm\\base.py:193: FutureWarning: The default value of gamma will change from 'auto' to 'scale' in version 0.22 to account better for unscaled features. Set gamma explicitly to 'auto' or 'scale' to avoid this warning.\n",
      "  \"avoid this warning.\", FutureWarning)\n",
      "C:\\Users\\ailin\\Anaconda3\\envs\\gdal_env\\lib\\site-packages\\sklearn\\svm\\base.py:241: ConvergenceWarning: Solver terminated early (max_iter=10000).  Consider pre-processing your data with StandardScaler or MinMaxScaler.\n",
      "  % self.max_iter, ConvergenceWarning)\n",
      "C:\\Users\\ailin\\Anaconda3\\envs\\gdal_env\\lib\\site-packages\\sklearn\\svm\\base.py:193: FutureWarning: The default value of gamma will change from 'auto' to 'scale' in version 0.22 to account better for unscaled features. Set gamma explicitly to 'auto' or 'scale' to avoid this warning.\n",
      "  \"avoid this warning.\", FutureWarning)\n",
      "C:\\Users\\ailin\\Anaconda3\\envs\\gdal_env\\lib\\site-packages\\sklearn\\svm\\base.py:241: ConvergenceWarning: Solver terminated early (max_iter=10000).  Consider pre-processing your data with StandardScaler or MinMaxScaler.\n",
      "  % self.max_iter, ConvergenceWarning)\n",
      "C:\\Users\\ailin\\Anaconda3\\envs\\gdal_env\\lib\\site-packages\\sklearn\\svm\\base.py:193: FutureWarning: The default value of gamma will change from 'auto' to 'scale' in version 0.22 to account better for unscaled features. Set gamma explicitly to 'auto' or 'scale' to avoid this warning.\n",
      "  \"avoid this warning.\", FutureWarning)\n",
      "C:\\Users\\ailin\\Anaconda3\\envs\\gdal_env\\lib\\site-packages\\sklearn\\svm\\base.py:241: ConvergenceWarning: Solver terminated early (max_iter=10000).  Consider pre-processing your data with StandardScaler or MinMaxScaler.\n",
      "  % self.max_iter, ConvergenceWarning)\n",
      "C:\\Users\\ailin\\Anaconda3\\envs\\gdal_env\\lib\\site-packages\\sklearn\\svm\\base.py:193: FutureWarning: The default value of gamma will change from 'auto' to 'scale' in version 0.22 to account better for unscaled features. Set gamma explicitly to 'auto' or 'scale' to avoid this warning.\n",
      "  \"avoid this warning.\", FutureWarning)\n",
      "C:\\Users\\ailin\\Anaconda3\\envs\\gdal_env\\lib\\site-packages\\sklearn\\svm\\base.py:241: ConvergenceWarning: Solver terminated early (max_iter=10000).  Consider pre-processing your data with StandardScaler or MinMaxScaler.\n",
      "  % self.max_iter, ConvergenceWarning)\n",
      "C:\\Users\\ailin\\Anaconda3\\envs\\gdal_env\\lib\\site-packages\\sklearn\\svm\\base.py:193: FutureWarning: The default value of gamma will change from 'auto' to 'scale' in version 0.22 to account better for unscaled features. Set gamma explicitly to 'auto' or 'scale' to avoid this warning.\n",
      "  \"avoid this warning.\", FutureWarning)\n",
      "C:\\Users\\ailin\\Anaconda3\\envs\\gdal_env\\lib\\site-packages\\sklearn\\svm\\base.py:241: ConvergenceWarning: Solver terminated early (max_iter=10000).  Consider pre-processing your data with StandardScaler or MinMaxScaler.\n",
      "  % self.max_iter, ConvergenceWarning)\n",
      "C:\\Users\\ailin\\Anaconda3\\envs\\gdal_env\\lib\\site-packages\\sklearn\\svm\\base.py:193: FutureWarning: The default value of gamma will change from 'auto' to 'scale' in version 0.22 to account better for unscaled features. Set gamma explicitly to 'auto' or 'scale' to avoid this warning.\n",
      "  \"avoid this warning.\", FutureWarning)\n",
      "C:\\Users\\ailin\\Anaconda3\\envs\\gdal_env\\lib\\site-packages\\sklearn\\svm\\base.py:241: ConvergenceWarning: Solver terminated early (max_iter=10000).  Consider pre-processing your data with StandardScaler or MinMaxScaler.\n",
      "  % self.max_iter, ConvergenceWarning)\n",
      "C:\\Users\\ailin\\Anaconda3\\envs\\gdal_env\\lib\\site-packages\\sklearn\\svm\\base.py:193: FutureWarning: The default value of gamma will change from 'auto' to 'scale' in version 0.22 to account better for unscaled features. Set gamma explicitly to 'auto' or 'scale' to avoid this warning.\n",
      "  \"avoid this warning.\", FutureWarning)\n",
      "C:\\Users\\ailin\\Anaconda3\\envs\\gdal_env\\lib\\site-packages\\sklearn\\svm\\base.py:241: ConvergenceWarning: Solver terminated early (max_iter=10000).  Consider pre-processing your data with StandardScaler or MinMaxScaler.\n",
      "  % self.max_iter, ConvergenceWarning)\n",
      "C:\\Users\\ailin\\Anaconda3\\envs\\gdal_env\\lib\\site-packages\\sklearn\\svm\\base.py:193: FutureWarning: The default value of gamma will change from 'auto' to 'scale' in version 0.22 to account better for unscaled features. Set gamma explicitly to 'auto' or 'scale' to avoid this warning.\n",
      "  \"avoid this warning.\", FutureWarning)\n",
      "C:\\Users\\ailin\\Anaconda3\\envs\\gdal_env\\lib\\site-packages\\sklearn\\svm\\base.py:241: ConvergenceWarning: Solver terminated early (max_iter=10000).  Consider pre-processing your data with StandardScaler or MinMaxScaler.\n",
      "  % self.max_iter, ConvergenceWarning)\n",
      "C:\\Users\\ailin\\Anaconda3\\envs\\gdal_env\\lib\\site-packages\\sklearn\\svm\\base.py:193: FutureWarning: The default value of gamma will change from 'auto' to 'scale' in version 0.22 to account better for unscaled features. Set gamma explicitly to 'auto' or 'scale' to avoid this warning.\n",
      "  \"avoid this warning.\", FutureWarning)\n",
      "C:\\Users\\ailin\\Anaconda3\\envs\\gdal_env\\lib\\site-packages\\sklearn\\svm\\base.py:241: ConvergenceWarning: Solver terminated early (max_iter=10000).  Consider pre-processing your data with StandardScaler or MinMaxScaler.\n",
      "  % self.max_iter, ConvergenceWarning)\n",
      "C:\\Users\\ailin\\Anaconda3\\envs\\gdal_env\\lib\\site-packages\\sklearn\\svm\\base.py:193: FutureWarning: The default value of gamma will change from 'auto' to 'scale' in version 0.22 to account better for unscaled features. Set gamma explicitly to 'auto' or 'scale' to avoid this warning.\n",
      "  \"avoid this warning.\", FutureWarning)\n",
      "C:\\Users\\ailin\\Anaconda3\\envs\\gdal_env\\lib\\site-packages\\sklearn\\svm\\base.py:241: ConvergenceWarning: Solver terminated early (max_iter=10000).  Consider pre-processing your data with StandardScaler or MinMaxScaler.\n",
      "  % self.max_iter, ConvergenceWarning)\n",
      "C:\\Users\\ailin\\Anaconda3\\envs\\gdal_env\\lib\\site-packages\\sklearn\\svm\\base.py:193: FutureWarning: The default value of gamma will change from 'auto' to 'scale' in version 0.22 to account better for unscaled features. Set gamma explicitly to 'auto' or 'scale' to avoid this warning.\n",
      "  \"avoid this warning.\", FutureWarning)\n",
      "C:\\Users\\ailin\\Anaconda3\\envs\\gdal_env\\lib\\site-packages\\sklearn\\svm\\base.py:241: ConvergenceWarning: Solver terminated early (max_iter=10000).  Consider pre-processing your data with StandardScaler or MinMaxScaler.\n",
      "  % self.max_iter, ConvergenceWarning)\n",
      "C:\\Users\\ailin\\Anaconda3\\envs\\gdal_env\\lib\\site-packages\\sklearn\\svm\\base.py:193: FutureWarning: The default value of gamma will change from 'auto' to 'scale' in version 0.22 to account better for unscaled features. Set gamma explicitly to 'auto' or 'scale' to avoid this warning.\n",
      "  \"avoid this warning.\", FutureWarning)\n",
      "C:\\Users\\ailin\\Anaconda3\\envs\\gdal_env\\lib\\site-packages\\sklearn\\svm\\base.py:241: ConvergenceWarning: Solver terminated early (max_iter=10000).  Consider pre-processing your data with StandardScaler or MinMaxScaler.\n",
      "  % self.max_iter, ConvergenceWarning)\n",
      "C:\\Users\\ailin\\Anaconda3\\envs\\gdal_env\\lib\\site-packages\\sklearn\\svm\\base.py:193: FutureWarning: The default value of gamma will change from 'auto' to 'scale' in version 0.22 to account better for unscaled features. Set gamma explicitly to 'auto' or 'scale' to avoid this warning.\n",
      "  \"avoid this warning.\", FutureWarning)\n",
      "C:\\Users\\ailin\\Anaconda3\\envs\\gdal_env\\lib\\site-packages\\sklearn\\svm\\base.py:241: ConvergenceWarning: Solver terminated early (max_iter=10000).  Consider pre-processing your data with StandardScaler or MinMaxScaler.\n",
      "  % self.max_iter, ConvergenceWarning)\n",
      "C:\\Users\\ailin\\Anaconda3\\envs\\gdal_env\\lib\\site-packages\\sklearn\\svm\\base.py:193: FutureWarning: The default value of gamma will change from 'auto' to 'scale' in version 0.22 to account better for unscaled features. Set gamma explicitly to 'auto' or 'scale' to avoid this warning.\n",
      "  \"avoid this warning.\", FutureWarning)\n",
      "C:\\Users\\ailin\\Anaconda3\\envs\\gdal_env\\lib\\site-packages\\sklearn\\svm\\base.py:241: ConvergenceWarning: Solver terminated early (max_iter=10000).  Consider pre-processing your data with StandardScaler or MinMaxScaler.\n",
      "  % self.max_iter, ConvergenceWarning)\n",
      "C:\\Users\\ailin\\Anaconda3\\envs\\gdal_env\\lib\\site-packages\\sklearn\\svm\\base.py:193: FutureWarning: The default value of gamma will change from 'auto' to 'scale' in version 0.22 to account better for unscaled features. Set gamma explicitly to 'auto' or 'scale' to avoid this warning.\n",
      "  \"avoid this warning.\", FutureWarning)\n"
     ]
    },
    {
     "name": "stderr",
     "output_type": "stream",
     "text": [
      "C:\\Users\\ailin\\Anaconda3\\envs\\gdal_env\\lib\\site-packages\\sklearn\\svm\\base.py:241: ConvergenceWarning: Solver terminated early (max_iter=10000).  Consider pre-processing your data with StandardScaler or MinMaxScaler.\n",
      "  % self.max_iter, ConvergenceWarning)\n",
      "C:\\Users\\ailin\\Anaconda3\\envs\\gdal_env\\lib\\site-packages\\sklearn\\svm\\base.py:193: FutureWarning: The default value of gamma will change from 'auto' to 'scale' in version 0.22 to account better for unscaled features. Set gamma explicitly to 'auto' or 'scale' to avoid this warning.\n",
      "  \"avoid this warning.\", FutureWarning)\n",
      "C:\\Users\\ailin\\Anaconda3\\envs\\gdal_env\\lib\\site-packages\\sklearn\\svm\\base.py:241: ConvergenceWarning: Solver terminated early (max_iter=10000).  Consider pre-processing your data with StandardScaler or MinMaxScaler.\n",
      "  % self.max_iter, ConvergenceWarning)\n",
      "C:\\Users\\ailin\\Anaconda3\\envs\\gdal_env\\lib\\site-packages\\sklearn\\svm\\base.py:193: FutureWarning: The default value of gamma will change from 'auto' to 'scale' in version 0.22 to account better for unscaled features. Set gamma explicitly to 'auto' or 'scale' to avoid this warning.\n",
      "  \"avoid this warning.\", FutureWarning)\n",
      "C:\\Users\\ailin\\Anaconda3\\envs\\gdal_env\\lib\\site-packages\\sklearn\\svm\\base.py:241: ConvergenceWarning: Solver terminated early (max_iter=10000).  Consider pre-processing your data with StandardScaler or MinMaxScaler.\n",
      "  % self.max_iter, ConvergenceWarning)\n",
      "C:\\Users\\ailin\\Anaconda3\\envs\\gdal_env\\lib\\site-packages\\sklearn\\svm\\base.py:193: FutureWarning: The default value of gamma will change from 'auto' to 'scale' in version 0.22 to account better for unscaled features. Set gamma explicitly to 'auto' or 'scale' to avoid this warning.\n",
      "  \"avoid this warning.\", FutureWarning)\n",
      "C:\\Users\\ailin\\Anaconda3\\envs\\gdal_env\\lib\\site-packages\\sklearn\\svm\\base.py:241: ConvergenceWarning: Solver terminated early (max_iter=10000).  Consider pre-processing your data with StandardScaler or MinMaxScaler.\n",
      "  % self.max_iter, ConvergenceWarning)\n",
      "C:\\Users\\ailin\\Anaconda3\\envs\\gdal_env\\lib\\site-packages\\sklearn\\svm\\base.py:193: FutureWarning: The default value of gamma will change from 'auto' to 'scale' in version 0.22 to account better for unscaled features. Set gamma explicitly to 'auto' or 'scale' to avoid this warning.\n",
      "  \"avoid this warning.\", FutureWarning)\n",
      "C:\\Users\\ailin\\Anaconda3\\envs\\gdal_env\\lib\\site-packages\\sklearn\\svm\\base.py:241: ConvergenceWarning: Solver terminated early (max_iter=10000).  Consider pre-processing your data with StandardScaler or MinMaxScaler.\n",
      "  % self.max_iter, ConvergenceWarning)\n",
      "C:\\Users\\ailin\\Anaconda3\\envs\\gdal_env\\lib\\site-packages\\sklearn\\svm\\base.py:193: FutureWarning: The default value of gamma will change from 'auto' to 'scale' in version 0.22 to account better for unscaled features. Set gamma explicitly to 'auto' or 'scale' to avoid this warning.\n",
      "  \"avoid this warning.\", FutureWarning)\n",
      "C:\\Users\\ailin\\Anaconda3\\envs\\gdal_env\\lib\\site-packages\\sklearn\\svm\\base.py:241: ConvergenceWarning: Solver terminated early (max_iter=10000).  Consider pre-processing your data with StandardScaler or MinMaxScaler.\n",
      "  % self.max_iter, ConvergenceWarning)\n",
      "C:\\Users\\ailin\\Anaconda3\\envs\\gdal_env\\lib\\site-packages\\sklearn\\svm\\base.py:193: FutureWarning: The default value of gamma will change from 'auto' to 'scale' in version 0.22 to account better for unscaled features. Set gamma explicitly to 'auto' or 'scale' to avoid this warning.\n",
      "  \"avoid this warning.\", FutureWarning)\n",
      "C:\\Users\\ailin\\Anaconda3\\envs\\gdal_env\\lib\\site-packages\\sklearn\\svm\\base.py:241: ConvergenceWarning: Solver terminated early (max_iter=10000).  Consider pre-processing your data with StandardScaler or MinMaxScaler.\n",
      "  % self.max_iter, ConvergenceWarning)\n",
      "C:\\Users\\ailin\\Anaconda3\\envs\\gdal_env\\lib\\site-packages\\sklearn\\svm\\base.py:193: FutureWarning: The default value of gamma will change from 'auto' to 'scale' in version 0.22 to account better for unscaled features. Set gamma explicitly to 'auto' or 'scale' to avoid this warning.\n",
      "  \"avoid this warning.\", FutureWarning)\n",
      "C:\\Users\\ailin\\Anaconda3\\envs\\gdal_env\\lib\\site-packages\\sklearn\\svm\\base.py:241: ConvergenceWarning: Solver terminated early (max_iter=10000).  Consider pre-processing your data with StandardScaler or MinMaxScaler.\n",
      "  % self.max_iter, ConvergenceWarning)\n",
      "C:\\Users\\ailin\\Anaconda3\\envs\\gdal_env\\lib\\site-packages\\sklearn\\svm\\base.py:193: FutureWarning: The default value of gamma will change from 'auto' to 'scale' in version 0.22 to account better for unscaled features. Set gamma explicitly to 'auto' or 'scale' to avoid this warning.\n",
      "  \"avoid this warning.\", FutureWarning)\n",
      "C:\\Users\\ailin\\Anaconda3\\envs\\gdal_env\\lib\\site-packages\\sklearn\\svm\\base.py:241: ConvergenceWarning: Solver terminated early (max_iter=10000).  Consider pre-processing your data with StandardScaler or MinMaxScaler.\n",
      "  % self.max_iter, ConvergenceWarning)\n",
      "C:\\Users\\ailin\\Anaconda3\\envs\\gdal_env\\lib\\site-packages\\sklearn\\svm\\base.py:193: FutureWarning: The default value of gamma will change from 'auto' to 'scale' in version 0.22 to account better for unscaled features. Set gamma explicitly to 'auto' or 'scale' to avoid this warning.\n",
      "  \"avoid this warning.\", FutureWarning)\n",
      "C:\\Users\\ailin\\Anaconda3\\envs\\gdal_env\\lib\\site-packages\\sklearn\\svm\\base.py:241: ConvergenceWarning: Solver terminated early (max_iter=10000).  Consider pre-processing your data with StandardScaler or MinMaxScaler.\n",
      "  % self.max_iter, ConvergenceWarning)\n",
      "C:\\Users\\ailin\\Anaconda3\\envs\\gdal_env\\lib\\site-packages\\sklearn\\svm\\base.py:193: FutureWarning: The default value of gamma will change from 'auto' to 'scale' in version 0.22 to account better for unscaled features. Set gamma explicitly to 'auto' or 'scale' to avoid this warning.\n",
      "  \"avoid this warning.\", FutureWarning)\n",
      "C:\\Users\\ailin\\Anaconda3\\envs\\gdal_env\\lib\\site-packages\\sklearn\\svm\\base.py:241: ConvergenceWarning: Solver terminated early (max_iter=10000).  Consider pre-processing your data with StandardScaler or MinMaxScaler.\n",
      "  % self.max_iter, ConvergenceWarning)\n",
      "C:\\Users\\ailin\\Anaconda3\\envs\\gdal_env\\lib\\site-packages\\sklearn\\svm\\base.py:193: FutureWarning: The default value of gamma will change from 'auto' to 'scale' in version 0.22 to account better for unscaled features. Set gamma explicitly to 'auto' or 'scale' to avoid this warning.\n",
      "  \"avoid this warning.\", FutureWarning)\n",
      "C:\\Users\\ailin\\Anaconda3\\envs\\gdal_env\\lib\\site-packages\\sklearn\\svm\\base.py:241: ConvergenceWarning: Solver terminated early (max_iter=10000).  Consider pre-processing your data with StandardScaler or MinMaxScaler.\n",
      "  % self.max_iter, ConvergenceWarning)\n",
      "C:\\Users\\ailin\\Anaconda3\\envs\\gdal_env\\lib\\site-packages\\sklearn\\svm\\base.py:193: FutureWarning: The default value of gamma will change from 'auto' to 'scale' in version 0.22 to account better for unscaled features. Set gamma explicitly to 'auto' or 'scale' to avoid this warning.\n",
      "  \"avoid this warning.\", FutureWarning)\n",
      "C:\\Users\\ailin\\Anaconda3\\envs\\gdal_env\\lib\\site-packages\\sklearn\\svm\\base.py:241: ConvergenceWarning: Solver terminated early (max_iter=10000).  Consider pre-processing your data with StandardScaler or MinMaxScaler.\n",
      "  % self.max_iter, ConvergenceWarning)\n",
      "C:\\Users\\ailin\\Anaconda3\\envs\\gdal_env\\lib\\site-packages\\sklearn\\svm\\base.py:193: FutureWarning: The default value of gamma will change from 'auto' to 'scale' in version 0.22 to account better for unscaled features. Set gamma explicitly to 'auto' or 'scale' to avoid this warning.\n",
      "  \"avoid this warning.\", FutureWarning)\n",
      "C:\\Users\\ailin\\Anaconda3\\envs\\gdal_env\\lib\\site-packages\\sklearn\\svm\\base.py:241: ConvergenceWarning: Solver terminated early (max_iter=10000).  Consider pre-processing your data with StandardScaler or MinMaxScaler.\n",
      "  % self.max_iter, ConvergenceWarning)\n",
      "C:\\Users\\ailin\\Anaconda3\\envs\\gdal_env\\lib\\site-packages\\sklearn\\svm\\base.py:193: FutureWarning: The default value of gamma will change from 'auto' to 'scale' in version 0.22 to account better for unscaled features. Set gamma explicitly to 'auto' or 'scale' to avoid this warning.\n",
      "  \"avoid this warning.\", FutureWarning)\n",
      "C:\\Users\\ailin\\Anaconda3\\envs\\gdal_env\\lib\\site-packages\\sklearn\\svm\\base.py:241: ConvergenceWarning: Solver terminated early (max_iter=10000).  Consider pre-processing your data with StandardScaler or MinMaxScaler.\n",
      "  % self.max_iter, ConvergenceWarning)\n"
     ]
    },
    {
     "name": "stderr",
     "output_type": "stream",
     "text": [
      "C:\\Users\\ailin\\Anaconda3\\envs\\gdal_env\\lib\\site-packages\\sklearn\\svm\\base.py:193: FutureWarning: The default value of gamma will change from 'auto' to 'scale' in version 0.22 to account better for unscaled features. Set gamma explicitly to 'auto' or 'scale' to avoid this warning.\n",
      "  \"avoid this warning.\", FutureWarning)\n",
      "C:\\Users\\ailin\\Anaconda3\\envs\\gdal_env\\lib\\site-packages\\sklearn\\svm\\base.py:241: ConvergenceWarning: Solver terminated early (max_iter=10000).  Consider pre-processing your data with StandardScaler or MinMaxScaler.\n",
      "  % self.max_iter, ConvergenceWarning)\n"
     ]
    }
   ],
   "source": [
    "scores_svc_p = cross_val_score(svm.SVC(max_iter=10000), X_train, y_train, scoring='precision', cv=10)\n",
    "scores_svc_r = cross_val_score(svm.SVC(max_iter=10000), X_train, y_train, scoring='recall', cv=10)\n",
    "scores_svc_f = cross_val_score(svm.SVC(max_iter=10000), X_train, y_train, scoring='f1', cv=10)"
   ]
  },
  {
   "cell_type": "code",
   "execution_count": 64,
   "metadata": {},
   "outputs": [
    {
     "data": {
      "text/html": [
       "<div>\n",
       "<style scoped>\n",
       "    .dataframe tbody tr th:only-of-type {\n",
       "        vertical-align: middle;\n",
       "    }\n",
       "\n",
       "    .dataframe tbody tr th {\n",
       "        vertical-align: top;\n",
       "    }\n",
       "\n",
       "    .dataframe thead th {\n",
       "        text-align: right;\n",
       "    }\n",
       "</style>\n",
       "<table border=\"1\" class=\"dataframe\">\n",
       "  <thead>\n",
       "    <tr style=\"text-align: right;\">\n",
       "      <th></th>\n",
       "      <th>Model</th>\n",
       "      <th>Accuracy</th>\n",
       "      <th>Precision</th>\n",
       "      <th>Recall</th>\n",
       "      <th>F1</th>\n",
       "    </tr>\n",
       "  </thead>\n",
       "  <tbody>\n",
       "    <tr>\n",
       "      <th>0</th>\n",
       "      <td>SVM</td>\n",
       "      <td>0.7109 (+/- 0.0213)</td>\n",
       "      <td>0.6971 (+/- 0.0134)</td>\n",
       "      <td>0.9721 (+/- 0.0194)</td>\n",
       "      <td>0.8119 (+/- 0.0136)</td>\n",
       "    </tr>\n",
       "  </tbody>\n",
       "</table>\n",
       "</div>"
      ],
      "text/plain": [
       "  Model             Accuracy            Precision               Recall  \\\n",
       "0   SVM  0.7109 (+/- 0.0213)  0.6971 (+/- 0.0134)  0.9721 (+/- 0.0194)   \n",
       "\n",
       "                    F1  \n",
       "0  0.8119 (+/- 0.0136)  "
      ]
     },
     "execution_count": 64,
     "metadata": {},
     "output_type": "execute_result"
    }
   ],
   "source": [
    "models_df_svc = pd.DataFrame({  \n",
    "  'Model': ['SVM'],\n",
    "  'Accuracy' : [strScoreConf(scores_svc.mean(), scores_svc.std())],\n",
    "  'Precision': [strScoreConf(scores_svc_p.mean(), scores_svc_p.std())],\n",
    "  'Recall' : [strScoreConf(scores_svc_r.mean(), scores_svc_r.std())],\n",
    "  'F1' : [strScoreConf(scores_svc_f.mean(), scores_svc_f.std())]\n",
    "})\n",
    "models_df_svc"
   ]
  },
  {
   "cell_type": "markdown",
   "metadata": {},
   "source": [
    "## ANN - Multi-layer Perceptron Classifier (MLP)"
   ]
  },
  {
   "cell_type": "code",
   "execution_count": 66,
   "metadata": {},
   "outputs": [
    {
     "data": {
      "text/plain": [
       "0.8494299849429985"
      ]
     },
     "execution_count": 66,
     "metadata": {},
     "output_type": "execute_result"
    }
   ],
   "source": [
    "mlp = MLPClassifier()\n",
    "mlp.fit(X_train, y_train)\n",
    "y_predict = mlp.predict(X_test)\n",
    "mlp.score(X_test, y_test)"
   ]
  },
  {
   "cell_type": "code",
   "execution_count": 67,
   "metadata": {},
   "outputs": [
    {
     "name": "stdout",
     "output_type": "stream",
     "text": [
      "Confusion matrix, without normalization\n",
      "[[1315  351]\n",
      " [ 349 2634]]\n",
      "Normalized confusion matrix\n",
      "[[0.78931573 0.21068427]\n",
      " [0.11699631 0.88300369]]\n"
     ]
    },
    {
     "data": {
      "image/png": "[encoded data removed]",
      "text/plain": [
       "<Figure size 720x720 with 2 Axes>"
      ]
     },
     "metadata": {
      "needs_background": "light"
     },
     "output_type": "display_data"
    },
    {
     "data": {
      "image/png": "[encoded data removed]",
      "text/plain": [
       "<Figure size 720x720 with 2 Axes>"
      ]
     },
     "metadata": {
      "needs_background": "light"
     },
     "output_type": "display_data"
    }
   ],
   "source": [
    "# Plot non-normalized confusion matrix\n",
    "ax1 = plot_confusion_matrix(y_test, y_predict, classes=class_names,\n",
    "                      title='Confusion matrix, without normalization')\n",
    "\n",
    "# Plot normalized confusion matrix\n",
    "ax2 = plot_confusion_matrix(y_test, y_predict, classes=class_names, normalize=True,\n",
    "                      title='Normalized confusion matrix')\n",
    "\n",
    "plt.show()"
   ]
  },
  {
   "cell_type": "code",
   "execution_count": 68,
   "metadata": {},
   "outputs": [
    {
     "data": {
      "image/png": "[encoded data removed]",
      "text/plain": [
       "<Figure size 288x288 with 2 Axes>"
      ]
     },
     "metadata": {
      "needs_background": "light"
     },
     "output_type": "display_data"
    }
   ],
   "source": [
    "plot_cm(y_test, y_predict, figsize=(4,4), classes=class_names, figname=\"results/bin_mlp_cm.png\")"
   ]
  },
  {
   "cell_type": "code",
   "execution_count": 69,
   "metadata": {},
   "outputs": [
    {
     "name": "stdout",
     "output_type": "stream",
     "text": [
      "\t(tn, fp, fn, tp) = (1315, 351, 349, 2634)\n",
      "\tAccuracy = 84.94%\n",
      "\tMisclassification Rate = 15.06%\n",
      "\tPrecision = 88.24%\n",
      "\tRecall = 88.30%\n",
      "\tF1-Score = 88.27%\n"
     ]
    }
   ],
   "source": [
    "print_scores(y_test, y_predict)"
   ]
  },
  {
   "cell_type": "markdown",
   "metadata": {},
   "source": [
    "#### Cross-validation"
   ]
  },
  {
   "cell_type": "code",
   "execution_count": 70,
   "metadata": {},
   "outputs": [
    {
     "data": {
      "text/plain": [
       "array([0.83068783, 0.83368644, 0.8315678 , 0.85063559, 0.84322034,\n",
       "       0.84216102, 0.8621421 , 0.83138918, 0.84623542, 0.85153765])"
      ]
     },
     "execution_count": 70,
     "metadata": {},
     "output_type": "execute_result"
    }
   ],
   "source": [
    "scores_mlp = cross_val_score(mlp, X_train, y_train, cv=10)\n",
    "scores_mlp_p = cross_val_score(mlp, X_train, y_train, scoring='precision', cv=10)\n",
    "scores_mlp_r = cross_val_score(mlp, X_train, y_train, scoring='recall', cv=10)\n",
    "scores_mlp_f = cross_val_score(mlp, X_train, y_train, scoring='f1', cv=10)\n",
    "scores_mlp"
   ]
  },
  {
   "cell_type": "code",
   "execution_count": 71,
   "metadata": {},
   "outputs": [
    {
     "data": {
      "text/html": [
       "<div>\n",
       "<style scoped>\n",
       "    .dataframe tbody tr th:only-of-type {\n",
       "        vertical-align: middle;\n",
       "    }\n",
       "\n",
       "    .dataframe tbody tr th {\n",
       "        vertical-align: top;\n",
       "    }\n",
       "\n",
       "    .dataframe thead th {\n",
       "        text-align: right;\n",
       "    }\n",
       "</style>\n",
       "<table border=\"1\" class=\"dataframe\">\n",
       "  <thead>\n",
       "    <tr style=\"text-align: right;\">\n",
       "      <th></th>\n",
       "      <th>Model</th>\n",
       "      <th>Accuracy</th>\n",
       "      <th>Precision</th>\n",
       "      <th>Recall</th>\n",
       "      <th>F1</th>\n",
       "    </tr>\n",
       "  </thead>\n",
       "  <tbody>\n",
       "    <tr>\n",
       "      <th>0</th>\n",
       "      <td>ANN-MLP</td>\n",
       "      <td>0.8423 (+/- 0.0197)</td>\n",
       "      <td>0.8702 (+/- 0.0533)</td>\n",
       "      <td>0.9127 (+/- 0.1215)</td>\n",
       "      <td>0.8760 (+/- 0.0427)</td>\n",
       "    </tr>\n",
       "  </tbody>\n",
       "</table>\n",
       "</div>"
      ],
      "text/plain": [
       "     Model             Accuracy            Precision               Recall  \\\n",
       "0  ANN-MLP  0.8423 (+/- 0.0197)  0.8702 (+/- 0.0533)  0.9127 (+/- 0.1215)   \n",
       "\n",
       "                    F1  \n",
       "0  0.8760 (+/- 0.0427)  "
      ]
     },
     "execution_count": 71,
     "metadata": {},
     "output_type": "execute_result"
    }
   ],
   "source": [
    "models_df_mlp = pd.DataFrame({  \n",
    "  'Model': ['ANN-MLP'],\n",
    "  'Accuracy' : [strScoreConf(scores_mlp.mean(), scores_mlp.std())],\n",
    "  'Precision': [strScoreConf(scores_mlp_p.mean(), scores_mlp_p.std())],\n",
    "  'Recall' : [strScoreConf(scores_mlp_r.mean(), scores_mlp_r.std())],\n",
    "  'F1' : [strScoreConf(scores_mlp_f.mean(), scores_mlp_f.std())]\n",
    "})\n",
    "models_df_mlp"
   ]
  },
  {
   "cell_type": "markdown",
   "metadata": {},
   "source": [
    "#### Save models via Pickle"
   ]
  },
  {
   "cell_type": "code",
   "execution_count": 103,
   "metadata": {
    "collapsed": true
   },
   "outputs": [],
   "source": [
    "import pickle\n",
    "filepath = Path(\"./models\")"
   ]
  },
  {
   "cell_type": "code",
   "execution_count": 104,
   "metadata": {
    "collapsed": true
   },
   "outputs": [],
   "source": [
    "#random forest\n",
    "filenameRF = filepath / \"randomForest_default_v2.sav\"\n",
    "pickle.dump(rf, open(filenameRF, 'wb'))"
   ]
  },
  {
   "cell_type": "code",
   "execution_count": 105,
   "metadata": {
    "collapsed": true
   },
   "outputs": [],
   "source": [
    "#logistic regression\n",
    "filenameLR = filepath / \"logisticRegression_default_v2.sav\"\n",
    "pickle.dump(lr, open(filenameLR, 'wb'))"
   ]
  },
  {
   "cell_type": "code",
   "execution_count": 106,
   "metadata": {
    "collapsed": true
   },
   "outputs": [],
   "source": [
    "#Gaussian Naive Bayes\n",
    "filenameGNB = filepath / \"gaussNB_default_v2.sav\"\n",
    "pickle.dump(gnb, open(filenameGNB, 'wb'))\n",
    "\n",
    "#Bernoulli Naive Bayes\n",
    "filenameBNB = filepath / \"bernNB_default_v2.sav\"\n",
    "pickle.dump(bnb, open(filenameBNB, 'wb'))"
   ]
  },
  {
   "cell_type": "code",
   "execution_count": 107,
   "metadata": {
    "collapsed": true
   },
   "outputs": [],
   "source": [
    "#Stochastic Gradient Descent\n",
    "filenameSGD = filepath / \"stochGradDesc_default_v2.sav\"\n",
    "pickle.dump(sgd, open(filenameSGD, 'wb'))"
   ]
  },
  {
   "cell_type": "code",
   "execution_count": 108,
   "metadata": {
    "collapsed": true
   },
   "outputs": [],
   "source": [
    "#K-Nearest Neighbors - k=5\n",
    "filenameKNN = filepath / \"kNearestNeigh_default_v2.sav\"\n",
    "pickle.dump(knn, open(filenameKNN, 'wb'))"
   ]
  },
  {
   "cell_type": "code",
   "execution_count": 109,
   "metadata": {
    "collapsed": true
   },
   "outputs": [],
   "source": [
    "#Decision Tree Classifier\n",
    "filenameDTC = filepath / \"decisionTree_default_v2.sav\"\n",
    "pickle.dump(dtc, open(filenameDTC, 'wb'))"
   ]
  },
  {
   "cell_type": "code",
   "execution_count": 110,
   "metadata": {
    "collapsed": true
   },
   "outputs": [],
   "source": [
    "#Support Vector Machine - Linear Kernel\n",
    "filenameSVCLin = filepath / \"svm_lin_default_v2.sav\"\n",
    "pickle.dump(svc_lin, open(filenameSVCLin, 'wb'))\n",
    "\n",
    "#Support Vector Machine - Radial Basis Function (RBF) Kernel\n",
    "filenameSVCRbf = filepath / \"svm_rbf_default_v2.sav\"\n",
    "pickle.dump(svc_rbf, open(filenameSVCRbf, 'wb'))\n",
    "\n",
    "#Support Vector Machine - Polynomial Kernel\n",
    "filenameSVCPoly = filepath / \"svm_poly_default_v2.sav\"\n",
    "pickle.dump(svc_poly, open(filenameSVCPoly, 'wb'))"
   ]
  },
  {
   "cell_type": "code",
   "execution_count": 111,
   "metadata": {
    "collapsed": true
   },
   "outputs": [],
   "source": [
    "#Multi-Layer Perceptron Network (MLP)\n",
    "filenameMLP = filepath / \"mlp_default_v2.sav\"\n",
    "pickle.dump(mlp, open(filenameMLP, 'wb'))"
   ]
  },
  {
   "cell_type": "code",
   "execution_count": 112,
   "metadata": {
    "collapsed": true
   },
   "outputs": [],
   "source": [
    "#save X and y numpy arrays\n",
    "filepathData = Path(\"./data\")\n",
    "np.save(filepathData / \"X_v2.npy\", X)\n",
    "np.save(filepathData / \"y_v2.npy\", y)"
   ]
  },
  {
   "cell_type": "markdown",
   "metadata": {},
   "source": [
    "## Cross-validation metrics"
   ]
  },
  {
   "cell_type": "code",
   "execution_count": 72,
   "metadata": {},
   "outputs": [
    {
     "data": {
      "text/html": [
       "<div>\n",
       "<style scoped>\n",
       "    .dataframe tbody tr th:only-of-type {\n",
       "        vertical-align: middle;\n",
       "    }\n",
       "\n",
       "    .dataframe tbody tr th {\n",
       "        vertical-align: top;\n",
       "    }\n",
       "\n",
       "    .dataframe thead th {\n",
       "        text-align: right;\n",
       "    }\n",
       "</style>\n",
       "<table border=\"1\" class=\"dataframe\">\n",
       "  <thead>\n",
       "    <tr style=\"text-align: right;\">\n",
       "      <th></th>\n",
       "      <th>Model</th>\n",
       "      <th>Accuracy</th>\n",
       "      <th>Precision</th>\n",
       "      <th>Recall</th>\n",
       "      <th>F1</th>\n",
       "    </tr>\n",
       "  </thead>\n",
       "  <tbody>\n",
       "    <tr>\n",
       "      <th>0</th>\n",
       "      <td>RandForest</td>\n",
       "      <td>0.8571 (+/- 0.0176)</td>\n",
       "      <td>0.8862 (+/- 0.0197)</td>\n",
       "      <td>0.8937 (+/- 0.0212)</td>\n",
       "      <td>0.8921 (+/- 0.0113)</td>\n",
       "    </tr>\n",
       "    <tr>\n",
       "      <th>0</th>\n",
       "      <td>ANN-MLP</td>\n",
       "      <td>0.8423 (+/- 0.0197)</td>\n",
       "      <td>0.8702 (+/- 0.0533)</td>\n",
       "      <td>0.9127 (+/- 0.1215)</td>\n",
       "      <td>0.8760 (+/- 0.0427)</td>\n",
       "    </tr>\n",
       "    <tr>\n",
       "      <th>0</th>\n",
       "      <td>KNN</td>\n",
       "      <td>0.8330 (+/- 0.0151)</td>\n",
       "      <td>0.8515 (+/- 0.0149)</td>\n",
       "      <td>0.8963 (+/- 0.0317)</td>\n",
       "      <td>0.8732 (+/- 0.0131)</td>\n",
       "    </tr>\n",
       "    <tr>\n",
       "      <th>0</th>\n",
       "      <td>DecnTree</td>\n",
       "      <td>0.8033 (+/- 0.0220)</td>\n",
       "      <td>0.8473 (+/- 0.0122)</td>\n",
       "      <td>0.8463 (+/- 0.0243)</td>\n",
       "      <td>0.8470 (+/- 0.0089)</td>\n",
       "    </tr>\n",
       "    <tr>\n",
       "      <th>0</th>\n",
       "      <td>SGD</td>\n",
       "      <td>0.7706 (+/- 0.0322)</td>\n",
       "      <td>0.8371 (+/- 0.1322)</td>\n",
       "      <td>0.8240 (+/- 0.3171)</td>\n",
       "      <td>0.6925 (+/- 0.4422)</td>\n",
       "    </tr>\n",
       "    <tr>\n",
       "      <th>0</th>\n",
       "      <td>GaussNB</td>\n",
       "      <td>0.8129 (+/- 0.0195)</td>\n",
       "      <td>0.8364 (+/- 0.0225)</td>\n",
       "      <td>0.8809 (+/- 0.0204)</td>\n",
       "      <td>0.8580 (+/- 0.0141)</td>\n",
       "    </tr>\n",
       "    <tr>\n",
       "      <th>0</th>\n",
       "      <td>LogReg</td>\n",
       "      <td>0.8313 (+/- 0.0228)</td>\n",
       "      <td>0.8360 (+/- 0.0239)</td>\n",
       "      <td>0.9173 (+/- 0.0241)</td>\n",
       "      <td>0.8747 (+/- 0.0164)</td>\n",
       "    </tr>\n",
       "    <tr>\n",
       "      <th>0</th>\n",
       "      <td>BernNB</td>\n",
       "      <td>0.7607 (+/- 0.0192)</td>\n",
       "      <td>0.7528 (+/- 0.0184)</td>\n",
       "      <td>0.9341 (+/- 0.0141)</td>\n",
       "      <td>0.8337 (+/- 0.0115)</td>\n",
       "    </tr>\n",
       "    <tr>\n",
       "      <th>0</th>\n",
       "      <td>SVM</td>\n",
       "      <td>0.7109 (+/- 0.0213)</td>\n",
       "      <td>0.6971 (+/- 0.0134)</td>\n",
       "      <td>0.9721 (+/- 0.0194)</td>\n",
       "      <td>0.8119 (+/- 0.0136)</td>\n",
       "    </tr>\n",
       "  </tbody>\n",
       "</table>\n",
       "</div>"
      ],
      "text/plain": [
       "        Model             Accuracy            Precision               Recall  \\\n",
       "0  RandForest  0.8571 (+/- 0.0176)  0.8862 (+/- 0.0197)  0.8937 (+/- 0.0212)   \n",
       "0     ANN-MLP  0.8423 (+/- 0.0197)  0.8702 (+/- 0.0533)  0.9127 (+/- 0.1215)   \n",
       "0         KNN  0.8330 (+/- 0.0151)  0.8515 (+/- 0.0149)  0.8963 (+/- 0.0317)   \n",
       "0    DecnTree  0.8033 (+/- 0.0220)  0.8473 (+/- 0.0122)  0.8463 (+/- 0.0243)   \n",
       "0         SGD  0.7706 (+/- 0.0322)  0.8371 (+/- 0.1322)  0.8240 (+/- 0.3171)   \n",
       "0     GaussNB  0.8129 (+/- 0.0195)  0.8364 (+/- 0.0225)  0.8809 (+/- 0.0204)   \n",
       "0      LogReg  0.8313 (+/- 0.0228)  0.8360 (+/- 0.0239)  0.9173 (+/- 0.0241)   \n",
       "0      BernNB  0.7607 (+/- 0.0192)  0.7528 (+/- 0.0184)  0.9341 (+/- 0.0141)   \n",
       "0         SVM  0.7109 (+/- 0.0213)  0.6971 (+/- 0.0134)  0.9721 (+/- 0.0194)   \n",
       "\n",
       "                    F1  \n",
       "0  0.8921 (+/- 0.0113)  \n",
       "0  0.8760 (+/- 0.0427)  \n",
       "0  0.8732 (+/- 0.0131)  \n",
       "0  0.8470 (+/- 0.0089)  \n",
       "0  0.6925 (+/- 0.4422)  \n",
       "0  0.8580 (+/- 0.0141)  \n",
       "0  0.8747 (+/- 0.0164)  \n",
       "0  0.8337 (+/- 0.0115)  \n",
       "0  0.8119 (+/- 0.0136)  "
      ]
     },
     "execution_count": 72,
     "metadata": {},
     "output_type": "execute_result"
    }
   ],
   "source": [
    "models_df = pd.concat([models_df_rf, models_df_lr, models_df_gnb, models_df_bnb,\n",
    "                       models_df_sgd, models_df_knn, models_df_dtc, models_df_svc, models_df_mlp])\n",
    "models_df.sort_values(by='Precision', ascending=False)"
   ]
  },
  {
   "cell_type": "code",
   "execution_count": null,
   "metadata": {
    "collapsed": true
   },
   "outputs": [],
   "source": []
  }
 ],
 "metadata": {
  "celltoolbar": "Slideshow",
  "kernelspec": {
   "display_name": "Python 3",
   "language": "python",
   "name": "python3"
  },
  "language_info": {
   "codemirror_mode": {
    "name": "ipython",
    "version": 3
   },
   "file_extension": ".py",
   "mimetype": "text/x-python",
   "name": "python",
   "nbconvert_exporter": "python",
   "pygments_lexer": "ipython3",
   "version": "3.6.5"
  }
 },
 "nbformat": 4,
 "nbformat_minor": 2
}
