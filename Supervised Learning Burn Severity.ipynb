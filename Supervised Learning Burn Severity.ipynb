{
 "cells": [
  {
   "cell_type": "markdown",
   "metadata": {
    "slideshow": {
     "slide_type": "slide"
    }
   },
   "source": [
    "# Supervised Learning Burn Severity"
   ]
  },
  {
   "cell_type": "code",
   "execution_count": 147,
   "metadata": {
    "scrolled": true,
    "slideshow": {
     "slide_type": "skip"
    }
   },
   "outputs": [
    {
     "name": "stdout",
     "output_type": "stream",
     "text": [
      "The autoreload extension is already loaded. To reload it, use:\n",
      "  %reload_ext autoreload\n"
     ]
    }
   ],
   "source": [
    "%load_ext autoreload"
   ]
  },
  {
   "cell_type": "code",
   "execution_count": 148,
   "metadata": {
    "slideshow": {
     "slide_type": "skip"
    }
   },
   "outputs": [],
   "source": [
    "#load in modules\n",
    "%autoreload 2\n",
    "from wildfireassessment.ops import * #my package\n",
    "from wildfireassessment.plots import * #my package\n",
    "import geopandas as gpd\n",
    "import numpy as np\n",
    "import numpy.ma as ma\n",
    "from sklearn.model_selection import train_test_split\n",
    "from sklearn.ensemble import RandomForestClassifier\n",
    "from sklearn.linear_model import LogisticRegression\n",
    "from sklearn.naive_bayes import GaussianNB, BernoulliNB\n",
    "from sklearn import linear_model\n",
    "from sklearn.neighbors import KNeighborsClassifier\n",
    "from sklearn.tree import DecisionTreeClassifier\n",
    "from sklearn import svm\n",
    "from sklearn.neural_network import MLPClassifier\n",
    "from sklearn.metrics import confusion_matrix, recall_score, precision_score, accuracy_score, f1_score\n",
    "from sklearn.cross_validation import cross_val_score\n",
    "import matplotlib.pyplot as plt\n",
    "from pathlib import Path\n",
    "%matplotlib inline"
   ]
  },
  {
   "cell_type": "markdown",
   "metadata": {
    "slideshow": {
     "slide_type": "slide"
    }
   },
   "source": [
    "## Load segments\n",
    "Read vector files into geodataframes. Then will convert to Numpy matrix X and y"
   ]
  },
  {
   "cell_type": "code",
   "execution_count": 3,
   "metadata": {
    "slideshow": {
     "slide_type": "skip"
    }
   },
   "outputs": [],
   "source": [
    "#read in datapaths of labelled data\n",
    "filepaths = [Path(\"./data/shapefiles/segments_2011023_0.shp\"), Path(\"./data/shapefiles/segments_2011201_0.shp\"),\n",
    "             Path(\"./data/shapefiles/segments_2011203_0.shp\"), Path(\"./data/shapefiles/segments_2010133_0.shp\"),\n",
    "             Path(\"./data/shapefiles/segments_2011200_0.shp\")]"
   ]
  },
  {
   "cell_type": "code",
   "execution_count": 4,
   "metadata": {
    "slideshow": {
     "slide_type": "subslide"
    }
   },
   "outputs": [
    {
     "data": {
      "text/html": [
       "<div>\n",
       "<style scoped>\n",
       "    .dataframe tbody tr th:only-of-type {\n",
       "        vertical-align: middle;\n",
       "    }\n",
       "\n",
       "    .dataframe tbody tr th {\n",
       "        vertical-align: top;\n",
       "    }\n",
       "\n",
       "    .dataframe thead th {\n",
       "        text-align: right;\n",
       "    }\n",
       "</style>\n",
       "<table border=\"1\" class=\"dataframe\">\n",
       "  <thead>\n",
       "    <tr style=\"text-align: right;\">\n",
       "      <th></th>\n",
       "      <th>seg_index</th>\n",
       "      <th>area_m</th>\n",
       "      <th>blue_value</th>\n",
       "      <th>blue_val_1</th>\n",
       "      <th>green_valu</th>\n",
       "      <th>green_va_1</th>\n",
       "      <th>nir_value</th>\n",
       "      <th>nir_value_</th>\n",
       "      <th>red_value</th>\n",
       "      <th>red_value_</th>\n",
       "      <th>...</th>\n",
       "      <th>dSI_rb</th>\n",
       "      <th>dSI_br</th>\n",
       "      <th>dSI_gb</th>\n",
       "      <th>dSI_nr</th>\n",
       "      <th>dSI_rn</th>\n",
       "      <th>dSI_ng</th>\n",
       "      <th>dSI_bn</th>\n",
       "      <th>land_class</th>\n",
       "      <th>burn_class</th>\n",
       "      <th>geometry</th>\n",
       "    </tr>\n",
       "  </thead>\n",
       "  <tbody>\n",
       "    <tr>\n",
       "      <th>0</th>\n",
       "      <td>17</td>\n",
       "      <td>3265.85</td>\n",
       "      <td>97.024300</td>\n",
       "      <td>72.765828</td>\n",
       "      <td>65.335643</td>\n",
       "      <td>50.062458</td>\n",
       "      <td>57.833333</td>\n",
       "      <td>99.000000</td>\n",
       "      <td>80.725107</td>\n",
       "      <td>56.197437</td>\n",
       "      <td>...</td>\n",
       "      <td>0.036776</td>\n",
       "      <td>-0.036776</td>\n",
       "      <td>-0.010337</td>\n",
       "      <td>-0.441008</td>\n",
       "      <td>0.441008</td>\n",
       "      <td>-0.389213</td>\n",
       "      <td>0.405810</td>\n",
       "      <td>forest</td>\n",
       "      <td>0</td>\n",
       "      <td>POLYGON ((-121.5388488769531 39.7265625, -121....</td>\n",
       "    </tr>\n",
       "    <tr>\n",
       "      <th>1</th>\n",
       "      <td>37</td>\n",
       "      <td>2659.18</td>\n",
       "      <td>94.475519</td>\n",
       "      <td>59.952203</td>\n",
       "      <td>63.518769</td>\n",
       "      <td>39.916764</td>\n",
       "      <td>45.800000</td>\n",
       "      <td>90.250000</td>\n",
       "      <td>79.149569</td>\n",
       "      <td>43.251224</td>\n",
       "      <td>...</td>\n",
       "      <td>0.073555</td>\n",
       "      <td>-0.073555</td>\n",
       "      <td>0.004681</td>\n",
       "      <td>-0.618952</td>\n",
       "      <td>0.618952</td>\n",
       "      <td>-0.548766</td>\n",
       "      <td>0.548713</td>\n",
       "      <td>forest</td>\n",
       "      <td>0</td>\n",
       "      <td>POLYGON ((-121.5206954058479 39.7265625, -121....</td>\n",
       "    </tr>\n",
       "    <tr>\n",
       "      <th>2</th>\n",
       "      <td>3</td>\n",
       "      <td>2894.16</td>\n",
       "      <td>86.018102</td>\n",
       "      <td>90.460690</td>\n",
       "      <td>65.027849</td>\n",
       "      <td>68.429520</td>\n",
       "      <td>20.533333</td>\n",
       "      <td>70.666667</td>\n",
       "      <td>75.688196</td>\n",
       "      <td>87.232648</td>\n",
       "      <td>...</td>\n",
       "      <td>-0.045714</td>\n",
       "      <td>0.045714</td>\n",
       "      <td>-0.000309</td>\n",
       "      <td>-0.468292</td>\n",
       "      <td>0.468292</td>\n",
       "      <td>-0.536115</td>\n",
       "      <td>0.491737</td>\n",
       "      <td>forest</td>\n",
       "      <td>1</td>\n",
       "      <td>POLYGON ((-121.5505308263442 39.7265625, -121....</td>\n",
       "    </tr>\n",
       "    <tr>\n",
       "      <th>3</th>\n",
       "      <td>27</td>\n",
       "      <td>5323.94</td>\n",
       "      <td>79.441831</td>\n",
       "      <td>94.398626</td>\n",
       "      <td>56.938570</td>\n",
       "      <td>64.188483</td>\n",
       "      <td>22.166667</td>\n",
       "      <td>87.633333</td>\n",
       "      <td>73.195121</td>\n",
       "      <td>77.480319</td>\n",
       "      <td>...</td>\n",
       "      <td>0.057506</td>\n",
       "      <td>-0.057506</td>\n",
       "      <td>0.025492</td>\n",
       "      <td>-0.596595</td>\n",
       "      <td>0.596595</td>\n",
       "      <td>-0.593989</td>\n",
       "      <td>0.526519</td>\n",
       "      <td>forest</td>\n",
       "      <td>0</td>\n",
       "      <td>POLYGON ((-121.5298865823185 39.7265625, -121....</td>\n",
       "    </tr>\n",
       "    <tr>\n",
       "      <th>4</th>\n",
       "      <td>47</td>\n",
       "      <td>2805.50</td>\n",
       "      <td>98.464530</td>\n",
       "      <td>62.863757</td>\n",
       "      <td>62.296575</td>\n",
       "      <td>42.170497</td>\n",
       "      <td>71.461538</td>\n",
       "      <td>92.846154</td>\n",
       "      <td>71.210939</td>\n",
       "      <td>45.611160</td>\n",
       "      <td>...</td>\n",
       "      <td>-0.001575</td>\n",
       "      <td>0.001575</td>\n",
       "      <td>-0.027965</td>\n",
       "      <td>-0.339396</td>\n",
       "      <td>0.339396</td>\n",
       "      <td>-0.306810</td>\n",
       "      <td>0.351463</td>\n",
       "      <td>forest</td>\n",
       "      <td>0</td>\n",
       "      <td>POLYGON ((-121.5225444120519 39.72651762120864...</td>\n",
       "    </tr>\n",
       "  </tbody>\n",
       "</table>\n",
       "<p>5 rows × 49 columns</p>\n",
       "</div>"
      ],
      "text/plain": [
       "   seg_index   area_m  blue_value  blue_val_1  green_valu  green_va_1  \\\n",
       "0         17  3265.85   97.024300   72.765828   65.335643   50.062458   \n",
       "1         37  2659.18   94.475519   59.952203   63.518769   39.916764   \n",
       "2          3  2894.16   86.018102   90.460690   65.027849   68.429520   \n",
       "3         27  5323.94   79.441831   94.398626   56.938570   64.188483   \n",
       "4         47  2805.50   98.464530   62.863757   62.296575   42.170497   \n",
       "\n",
       "   nir_value  nir_value_  red_value  red_value_  ...    dSI_rb    dSI_br  \\\n",
       "0  57.833333   99.000000  80.725107   56.197437  ...  0.036776 -0.036776   \n",
       "1  45.800000   90.250000  79.149569   43.251224  ...  0.073555 -0.073555   \n",
       "2  20.533333   70.666667  75.688196   87.232648  ... -0.045714  0.045714   \n",
       "3  22.166667   87.633333  73.195121   77.480319  ...  0.057506 -0.057506   \n",
       "4  71.461538   92.846154  71.210939   45.611160  ... -0.001575  0.001575   \n",
       "\n",
       "     dSI_gb    dSI_nr    dSI_rn    dSI_ng    dSI_bn  land_class  burn_class  \\\n",
       "0 -0.010337 -0.441008  0.441008 -0.389213  0.405810      forest           0   \n",
       "1  0.004681 -0.618952  0.618952 -0.548766  0.548713      forest           0   \n",
       "2 -0.000309 -0.468292  0.468292 -0.536115  0.491737      forest           1   \n",
       "3  0.025492 -0.596595  0.596595 -0.593989  0.526519      forest           0   \n",
       "4 -0.027965 -0.339396  0.339396 -0.306810  0.351463      forest           0   \n",
       "\n",
       "                                            geometry  \n",
       "0  POLYGON ((-121.5388488769531 39.7265625, -121....  \n",
       "1  POLYGON ((-121.5206954058479 39.7265625, -121....  \n",
       "2  POLYGON ((-121.5505308263442 39.7265625, -121....  \n",
       "3  POLYGON ((-121.5298865823185 39.7265625, -121....  \n",
       "4  POLYGON ((-121.5225444120519 39.72651762120864...  \n",
       "\n",
       "[5 rows x 49 columns]"
      ]
     },
     "execution_count": 4,
     "metadata": {},
     "output_type": "execute_result"
    }
   ],
   "source": [
    "gdfs = []\n",
    "for filepath in filepaths:\n",
    "    gdfs.append(gpd.read_file(filepath))\n",
    "gdfs[0].head()"
   ]
  },
  {
   "cell_type": "code",
   "execution_count": 5,
   "metadata": {
    "slideshow": {
     "slide_type": "subslide"
    }
   },
   "outputs": [
    {
     "data": {
      "text/plain": [
       "Index(['seg_index', 'area_m', 'blue_value', 'blue_val_1', 'green_valu',\n",
       "       'green_va_1', 'nir_value', 'nir_value_', 'red_value', 'red_value_',\n",
       "       'SI_bg_post', 'SI_br_post', 'SI_bn_post', 'SI_gb_post', 'SI_gr_post',\n",
       "       'SI_gn_post', 'SI_rb_post', 'SI_rg_post', 'SI_rn_post', 'SI_nb_post',\n",
       "       'SI_ng_post', 'SI_nr_post', 'SI_bg_pre', 'SI_br_pre', 'SI_bn_pre',\n",
       "       'SI_gb_pre', 'SI_gr_pre', 'SI_gn_pre', 'SI_rb_pre', 'SI_rg_pre',\n",
       "       'SI_rn_pre', 'SI_nb_pre', 'SI_ng_pre', 'SI_nr_pre', 'dSI_nb', 'dSI_rg',\n",
       "       'dSI_bg', 'dSI_gr', 'dSI_gn', 'dSI_rb', 'dSI_br', 'dSI_gb', 'dSI_nr',\n",
       "       'dSI_rn', 'dSI_ng', 'dSI_bn', 'land_class', 'burn_class', 'geometry'],\n",
       "      dtype='object')"
      ]
     },
     "execution_count": 5,
     "metadata": {},
     "output_type": "execute_result"
    }
   ],
   "source": [
    "#'Blue_value' - 'dSI_bn' will be X, y is 'burn_class' \n",
    "gdfs[0].keys()"
   ]
  },
  {
   "cell_type": "markdown",
   "metadata": {
    "slideshow": {
     "slide_type": "slide"
    }
   },
   "source": [
    "### Read as Numpy array and clean data of missing values"
   ]
  },
  {
   "cell_type": "code",
   "execution_count": 6,
   "metadata": {
    "slideshow": {
     "slide_type": "skip"
    }
   },
   "outputs": [],
   "source": [
    "#build X and y\n",
    "X = gdfs[0].loc[:, 'blue_value':'dSI_bn'].to_numpy()\n",
    "y = gdfs[0]['burn_class'].to_numpy().astype(int)\n",
    "\n",
    "for i in range(1, len(gdfs)):\n",
    "    X_1 = gdfs[i].loc[:,'blue_value':'dSI_bn'].to_numpy()\n",
    "    X = np.vstack((X, X_1))\n",
    "    \n",
    "    y_1 = gdfs[i]['burn_class'].to_numpy().astype(int)\n",
    "    y = np.hstack((y, y_1))\n",
    "    \n"
   ]
  },
  {
   "cell_type": "code",
   "execution_count": 7,
   "metadata": {
    "slideshow": {
     "slide_type": "skip"
    }
   },
   "outputs": [
    {
     "data": {
      "text/plain": [
       "(14086,)"
      ]
     },
     "execution_count": 7,
     "metadata": {},
     "output_type": "execute_result"
    }
   ],
   "source": [
    "#rows where the labels are. will remove these rows with minimum int label.\n",
    "locsMins = np.where(y != np.iinfo(np.int32).min)[0]\n",
    "locsMins.shape"
   ]
  },
  {
   "cell_type": "code",
   "execution_count": 8,
   "metadata": {
    "slideshow": {
     "slide_type": "subslide"
    }
   },
   "outputs": [
    {
     "name": "stdout",
     "output_type": "stream",
     "text": [
      "rows/col of X:  (14086, 44)\n",
      "# target values:  (14086,)\n",
      "labels for burn_class:  [0 1]\n"
     ]
    }
   ],
   "source": [
    "#remove the non-labels\n",
    "X = X[locsMins]\n",
    "y = y[locsMins]\n",
    "\n",
    "print(\"rows/col of X: \", X.shape)\n",
    "print(\"# target values: \", y.shape)\n",
    "print(\"labels for burn_class: \", np.unique(y))"
   ]
  },
  {
   "cell_type": "code",
   "execution_count": 9,
   "metadata": {
    "slideshow": {
     "slide_type": "skip"
    }
   },
   "outputs": [
    {
     "data": {
      "text/plain": [
       "array(['non-burnt', 'burnt'], dtype='<U9')"
      ]
     },
     "execution_count": 9,
     "metadata": {},
     "output_type": "execute_result"
    }
   ],
   "source": [
    "class_names = np.where(np.unique(y) == 1, \"burnt\", \"non-burnt\")\n",
    "class_names"
   ]
  },
  {
   "cell_type": "markdown",
   "metadata": {
    "slideshow": {
     "slide_type": "slide"
    }
   },
   "source": [
    "### X y shuffled train-test split 67/33"
   ]
  },
  {
   "cell_type": "code",
   "execution_count": 10,
   "metadata": {
    "slideshow": {
     "slide_type": "subslide"
    }
   },
   "outputs": [],
   "source": [
    "X_train, X_test, y_train, y_test = train_test_split(X, y, test_size=0.33, random_state=42, shuffle=True, stratify=y)"
   ]
  },
  {
   "cell_type": "code",
   "execution_count": 11,
   "metadata": {
    "slideshow": {
     "slide_type": "subslide"
    }
   },
   "outputs": [
    {
     "name": "stdout",
     "output_type": "stream",
     "text": [
      "train shape:  (9437, 44)\n",
      "test shape:  (4649, 44)\n",
      "\n",
      "# of burn labels in train:  6056\n",
      "# of non-burn labels in train:  3381\n",
      "# of burn labels in test:  2983\n",
      "# of non-burn labels in test:  1666\n"
     ]
    }
   ],
   "source": [
    "print(\"train shape: \", X_train.shape)\n",
    "print(\"test shape: \", X_test.shape)\n",
    "\n",
    "print(\"\\n# of burn labels in train: \", np.count_nonzero(y_train))\n",
    "print(\"# of non-burn labels in train: \", y_train.shape[0]-np.count_nonzero(y_train))\n",
    "print(\"# of burn labels in test: \", np.count_nonzero(y_test))\n",
    "print(\"# of non-burn labels in test: \", y_test.shape[0]-np.count_nonzero(y_test))"
   ]
  },
  {
   "cell_type": "markdown",
   "metadata": {
    "slideshow": {
     "slide_type": "slide"
    }
   },
   "source": [
    "# Binary Classification Burnt/Non-Burnt"
   ]
  },
  {
   "cell_type": "markdown",
   "metadata": {
    "slideshow": {
     "slide_type": "slide"
    }
   },
   "source": [
    "## Random Forest Classifier"
   ]
  },
  {
   "cell_type": "code",
   "execution_count": 66,
   "metadata": {
    "slideshow": {
     "slide_type": "subslide"
    }
   },
   "outputs": [
    {
     "data": {
      "text/plain": [
       "0.8584641858464186"
      ]
     },
     "execution_count": 66,
     "metadata": {},
     "output_type": "execute_result"
    }
   ],
   "source": [
    "rf = RandomForestClassifier()\n",
    "rf.fit(X_train, y_train)\n",
    "y_predict = rf.predict(X_test)\n",
    "rf.score(X_test, y_test)"
   ]
  },
  {
   "cell_type": "code",
   "execution_count": 67,
   "metadata": {
    "scrolled": true,
    "slideshow": {
     "slide_type": "subslide"
    }
   },
   "outputs": [
    {
     "name": "stdout",
     "output_type": "stream",
     "text": [
      "Confusion matrix, without normalization\n",
      "[[1312  354]\n",
      " [ 304 2679]]\n",
      "Normalized confusion matrix\n",
      "[[0.78751501 0.21248499]\n",
      " [0.10191083 0.89808917]]\n"
     ]
    },
    {
     "data": {
      "image/png": "[encoded data removed]",
      "text/plain": [
       "<Figure size 360x360 with 2 Axes>"
      ]
     },
     "metadata": {
      "needs_background": "light"
     },
     "output_type": "display_data"
    },
    {
     "data": {
      "image/png": "[encoded data removed]",
      "text/plain": [
       "<Figure size 360x360 with 2 Axes>"
      ]
     },
     "metadata": {
      "needs_background": "light"
     },
     "output_type": "display_data"
    }
   ],
   "source": [
    "# Plot non-normalized confusion matrix\n",
    "ax1 = plot_confusion_matrix(y_test, y_predict, classes=class_names,\n",
    "                      title='Confusion matrix, without normalization')\n",
    "\n",
    "# Plot normalized confusion matrix\n",
    "ax2 = plot_confusion_matrix(y_test, y_predict, classes=class_names, normalize=True,\n",
    "                      title='Normalized confusion matrix')\n",
    "\n",
    "plt.show()"
   ]
  },
  {
   "cell_type": "code",
   "execution_count": 68,
   "metadata": {
    "scrolled": true,
    "slideshow": {
     "slide_type": "subslide"
    }
   },
   "outputs": [
    {
     "name": "stdout",
     "output_type": "stream",
     "text": [
      "\t(tn, fp, fn, tp) = (1312, 354, 304, 2679)\n",
      "\tAccuracy = 85.85%\n",
      "\tMisclassification Rate = 14.15%\n",
      "\tPrecision = 88.33%\n",
      "\tRecall = 89.81%\n",
      "\tF1-Score = 89.06%\n"
     ]
    }
   ],
   "source": [
    "print_scores(y_test, y_predict)"
   ]
  },
  {
   "cell_type": "markdown",
   "metadata": {},
   "source": [
    "#### Cross_val_score"
   ]
  },
  {
   "cell_type": "code",
   "execution_count": 107,
   "metadata": {
    "scrolled": true
   },
   "outputs": [
    {
     "data": {
      "text/plain": [
       "array([0.85714286, 0.86440678, 0.85169492, 0.85699153, 0.87182203,\n",
       "       0.84957627, 0.86744433, 0.85471898, 0.8621421 , 0.85896076])"
      ]
     },
     "execution_count": 107,
     "metadata": {},
     "output_type": "execute_result"
    }
   ],
   "source": [
    "scores_rf = cross_val_score(rf, X_train, y_train, cv=10)\n",
    "scores_rf_p = cross_val_score(rf, X_train, y_train, scoring='precision', cv=10)\n",
    "scores_rf_r = cross_val_score(rf, X_train, y_train, scoring='recall', cv=10)\n",
    "scores_rf_f = cross_val_score(rf, X_train, y_train, scoring='f1', cv=10)\n",
    "scores_rf"
   ]
  },
  {
   "cell_type": "code",
   "execution_count": 119,
   "metadata": {},
   "outputs": [
    {
     "data": {
      "text/html": [
       "<div>\n",
       "<style scoped>\n",
       "    .dataframe tbody tr th:only-of-type {\n",
       "        vertical-align: middle;\n",
       "    }\n",
       "\n",
       "    .dataframe tbody tr th {\n",
       "        vertical-align: top;\n",
       "    }\n",
       "\n",
       "    .dataframe thead th {\n",
       "        text-align: right;\n",
       "    }\n",
       "</style>\n",
       "<table border=\"1\" class=\"dataframe\">\n",
       "  <thead>\n",
       "    <tr style=\"text-align: right;\">\n",
       "      <th></th>\n",
       "      <th>Model</th>\n",
       "      <th>Accuracy</th>\n",
       "      <th>Precision</th>\n",
       "      <th>recall</th>\n",
       "      <th>F1</th>\n",
       "    </tr>\n",
       "  </thead>\n",
       "  <tbody>\n",
       "    <tr>\n",
       "      <th>0</th>\n",
       "      <td>RandForest</td>\n",
       "      <td>0.8595 (+/- 0.0130)</td>\n",
       "      <td>0.8821 (+/- 0.0264)</td>\n",
       "      <td>0.8885 (+/- 0.0168)</td>\n",
       "      <td>0.8919 (+/- 0.0114)</td>\n",
       "    </tr>\n",
       "  </tbody>\n",
       "</table>\n",
       "</div>"
      ],
      "text/plain": [
       "        Model             Accuracy            Precision               recall  \\\n",
       "0  RandForest  0.8595 (+/- 0.0130)  0.8821 (+/- 0.0264)  0.8885 (+/- 0.0168)   \n",
       "\n",
       "                    F1  \n",
       "0  0.8919 (+/- 0.0114)  "
      ]
     },
     "execution_count": 119,
     "metadata": {},
     "output_type": "execute_result"
    }
   ],
   "source": [
    "def strScoreConf(mean, std, conf=1.96):\n",
    "    return \"%0.4f (+/- %0.4f)\" % (mean, std * 1.96)\n",
    "\n",
    "models_df_rf = pd.DataFrame({  \n",
    "  'Model': ['RandForest'],\n",
    "  'Accuracy' : [strScoreConf(scores_rf.mean(), scores_rf.std())],\n",
    "  'Precision': [strScoreConf(scores_rf_p.mean(), scores_rf_p.std())],\n",
    "  'recall' : [strScoreConf(scores_rf_r.mean(), scores_rf_r.std())],\n",
    "  'F1' : [strScoreConf(scores_rf_f.mean(), scores_rf_f.std())]\n",
    "})\n",
    "models_df_rf"
   ]
  },
  {
   "cell_type": "markdown",
   "metadata": {
    "slideshow": {
     "slide_type": "slide"
    }
   },
   "source": [
    "## Logistic Regression"
   ]
  },
  {
   "cell_type": "code",
   "execution_count": 15,
   "metadata": {
    "slideshow": {
     "slide_type": "subslide"
    }
   },
   "outputs": [
    {
     "data": {
      "text/plain": [
       "0.8337276833727684"
      ]
     },
     "execution_count": 15,
     "metadata": {},
     "output_type": "execute_result"
    }
   ],
   "source": [
    "lr = LogisticRegression()\n",
    "lr.fit(X_train, y_train)\n",
    "y_predict = lr.predict(X_test)\n",
    "lr.score(X_test, y_test)"
   ]
  },
  {
   "cell_type": "code",
   "execution_count": 16,
   "metadata": {
    "slideshow": {
     "slide_type": "subslide"
    }
   },
   "outputs": [
    {
     "name": "stdout",
     "output_type": "stream",
     "text": [
      "Confusion matrix, without normalization\n",
      "[[1112  554]\n",
      " [ 219 2764]]\n",
      "Normalized confusion matrix\n",
      "[[0.66746699 0.33253301]\n",
      " [0.07341602 0.92658398]]\n"
     ]
    },
    {
     "data": {
      "image/png": "[encoded data removed]",
      "text/plain": [
       "<Figure size 360x360 with 2 Axes>"
      ]
     },
     "metadata": {
      "needs_background": "light"
     },
     "output_type": "display_data"
    },
    {
     "data": {
      "image/png": "[encoded data removed]",
      "text/plain": [
       "<Figure size 360x360 with 2 Axes>"
      ]
     },
     "metadata": {
      "needs_background": "light"
     },
     "output_type": "display_data"
    }
   ],
   "source": [
    "# Plot non-normalized confusion matrix\n",
    "ax1 = plot_confusion_matrix(y_test, y_predict, classes=class_names,\n",
    "                      title='Confusion matrix, without normalization')\n",
    "\n",
    "# Plot normalized confusion matrix\n",
    "ax2 = plot_confusion_matrix(y_test, y_predict, classes=class_names, normalize=True,\n",
    "                      title='Normalized confusion matrix')\n",
    "\n",
    "plt.show()"
   ]
  },
  {
   "cell_type": "code",
   "execution_count": 17,
   "metadata": {
    "slideshow": {
     "slide_type": "subslide"
    }
   },
   "outputs": [
    {
     "name": "stdout",
     "output_type": "stream",
     "text": [
      "\t(tn, fp, fn, tp) = (1112, 554, 219, 2764)\n",
      "\tAccuracy = 83.37%\n",
      "\tMisclassification Rate = 16.63%\n",
      "\tPrecision = 83.30%\n",
      "\tRecall = 92.66%\n",
      "\tF1-Score = 87.73%\n"
     ]
    }
   ],
   "source": [
    "print_scores(y_test, y_predict)"
   ]
  },
  {
   "cell_type": "markdown",
   "metadata": {},
   "source": [
    "#### Cross Validation"
   ]
  },
  {
   "cell_type": "code",
   "execution_count": 109,
   "metadata": {},
   "outputs": [
    {
     "data": {
      "text/plain": [
       "array([0.83068783, 0.82733051, 0.81885593, 0.82309322, 0.8559322 ,\n",
       "       0.83686441, 0.85896076, 0.82078473, 0.82926829, 0.83669141])"
      ]
     },
     "execution_count": 109,
     "metadata": {},
     "output_type": "execute_result"
    }
   ],
   "source": [
    "scores_lr = cross_val_score(lr, X_train, y_train, cv=10)\n",
    "scores_lr_p = cross_val_score(lr, X_train, y_train, scoring='precision', cv=10)\n",
    "scores_lr_r = cross_val_score(lr, X_train, y_train, scoring='recall', cv=10)\n",
    "scores_lr_f = cross_val_score(lr, X_train, y_train, scoring='f1', cv=10)\n",
    "scores_lr"
   ]
  },
  {
   "cell_type": "code",
   "execution_count": 120,
   "metadata": {},
   "outputs": [
    {
     "data": {
      "text/html": [
       "<div>\n",
       "<style scoped>\n",
       "    .dataframe tbody tr th:only-of-type {\n",
       "        vertical-align: middle;\n",
       "    }\n",
       "\n",
       "    .dataframe tbody tr th {\n",
       "        vertical-align: top;\n",
       "    }\n",
       "\n",
       "    .dataframe thead th {\n",
       "        text-align: right;\n",
       "    }\n",
       "</style>\n",
       "<table border=\"1\" class=\"dataframe\">\n",
       "  <thead>\n",
       "    <tr style=\"text-align: right;\">\n",
       "      <th></th>\n",
       "      <th>Model</th>\n",
       "      <th>Accuracy</th>\n",
       "      <th>Precision</th>\n",
       "      <th>recall</th>\n",
       "      <th>F1</th>\n",
       "    </tr>\n",
       "  </thead>\n",
       "  <tbody>\n",
       "    <tr>\n",
       "      <th>0</th>\n",
       "      <td>LogReg</td>\n",
       "      <td>0.8338 (+/- 0.0257)</td>\n",
       "      <td>0.8384 (+/- 0.0267)</td>\n",
       "      <td>0.9184 (+/- 0.0216)</td>\n",
       "      <td>0.8765 (+/- 0.0183)</td>\n",
       "    </tr>\n",
       "  </tbody>\n",
       "</table>\n",
       "</div>"
      ],
      "text/plain": [
       "    Model             Accuracy            Precision               recall  \\\n",
       "0  LogReg  0.8338 (+/- 0.0257)  0.8384 (+/- 0.0267)  0.9184 (+/- 0.0216)   \n",
       "\n",
       "                    F1  \n",
       "0  0.8765 (+/- 0.0183)  "
      ]
     },
     "execution_count": 120,
     "metadata": {},
     "output_type": "execute_result"
    }
   ],
   "source": [
    "models_df_lr = pd.DataFrame({\n",
    "  'Model': ['LogReg'],\n",
    "  'Accuracy' : [strScoreConf(scores_lr.mean(), scores_lr.std())],\n",
    "  'Precision': [strScoreConf(scores_lr_p.mean(), scores_lr_p.std())],\n",
    "  'recall' : [strScoreConf(scores_lr_r.mean(), scores_lr_r.std())],\n",
    "  'F1' : [strScoreConf(scores_lr_f.mean(), scores_lr_f.std())]\n",
    "})\n",
    "models_df_lr"
   ]
  },
  {
   "cell_type": "markdown",
   "metadata": {
    "slideshow": {
     "slide_type": "slide"
    }
   },
   "source": [
    "## Naive Bayes"
   ]
  },
  {
   "cell_type": "markdown",
   "metadata": {
    "slideshow": {
     "slide_type": "slide"
    }
   },
   "source": [
    "### Gaussian NB"
   ]
  },
  {
   "cell_type": "code",
   "execution_count": 18,
   "metadata": {
    "slideshow": {
     "slide_type": "subslide"
    }
   },
   "outputs": [
    {
     "data": {
      "text/plain": [
       "0.8115723811572381"
      ]
     },
     "execution_count": 18,
     "metadata": {},
     "output_type": "execute_result"
    }
   ],
   "source": [
    "gnb = GaussianNB()\n",
    "gnb.fit(X_train, y_train)\n",
    "y_predict = gnb.predict(X_test)\n",
    "gnb.score(X_test, y_test)"
   ]
  },
  {
   "cell_type": "code",
   "execution_count": 19,
   "metadata": {
    "slideshow": {
     "slide_type": "subslide"
    }
   },
   "outputs": [
    {
     "name": "stdout",
     "output_type": "stream",
     "text": [
      "Confusion matrix, without normalization\n",
      "[[1118  548]\n",
      " [ 328 2655]]\n",
      "Normalized confusion matrix\n",
      "[[0.67106843 0.32893157]\n",
      " [0.10995642 0.89004358]]\n"
     ]
    },
    {
     "data": {
      "image/png": "[encoded data removed]",
      "text/plain": [
       "<Figure size 360x360 with 2 Axes>"
      ]
     },
     "metadata": {
      "needs_background": "light"
     },
     "output_type": "display_data"
    },
    {
     "data": {
      "image/png": "[encoded data removed]",
      "text/plain": [
       "<Figure size 360x360 with 2 Axes>"
      ]
     },
     "metadata": {
      "needs_background": "light"
     },
     "output_type": "display_data"
    }
   ],
   "source": [
    "# Plot non-normalized confusion matrix\n",
    "ax1 = plot_confusion_matrix(y_test, y_predict, classes=class_names,\n",
    "                      title='Confusion matrix, without normalization')\n",
    "\n",
    "# Plot normalized confusion matrix\n",
    "ax2 = plot_confusion_matrix(y_test, y_predict, classes=class_names, normalize=True,\n",
    "                      title='Normalized confusion matrix')\n",
    "\n",
    "plt.show()"
   ]
  },
  {
   "cell_type": "code",
   "execution_count": 20,
   "metadata": {
    "slideshow": {
     "slide_type": "subslide"
    }
   },
   "outputs": [
    {
     "name": "stdout",
     "output_type": "stream",
     "text": [
      "\t(tn, fp, fn, tp) = (1118, 548, 328, 2655)\n",
      "\tAccuracy = 81.16%\n",
      "\tMisclassification Rate = 18.84%\n",
      "\tPrecision = 82.89%\n",
      "\tRecall = 89.00%\n",
      "\tF1-Score = 85.84%\n"
     ]
    }
   ],
   "source": [
    "print_scores(y_test, y_predict)"
   ]
  },
  {
   "cell_type": "markdown",
   "metadata": {},
   "source": [
    "#### Cross-validation"
   ]
  },
  {
   "cell_type": "code",
   "execution_count": 121,
   "metadata": {},
   "outputs": [
    {
     "data": {
      "text/plain": [
       "array([0.82116402, 0.81567797, 0.8029661 , 0.81567797, 0.82309322,\n",
       "       0.81673729, 0.83032874, 0.81018028, 0.82502651, 0.80275716])"
      ]
     },
     "execution_count": 121,
     "metadata": {},
     "output_type": "execute_result"
    }
   ],
   "source": [
    "scores_gnb = cross_val_score(gnb, X_train, y_train, cv=10)\n",
    "scores_gnb_p = cross_val_score(gnb, X_train, y_train, scoring='precision', cv=10)\n",
    "scores_gnb_r = cross_val_score(gnb, X_train, y_train, scoring='recall', cv=10)\n",
    "scores_gnb_f = cross_val_score(gnb, X_train, y_train, scoring='f1', cv=10)\n",
    "scores_gnb"
   ]
  },
  {
   "cell_type": "code",
   "execution_count": 122,
   "metadata": {},
   "outputs": [
    {
     "data": {
      "text/html": [
       "<div>\n",
       "<style scoped>\n",
       "    .dataframe tbody tr th:only-of-type {\n",
       "        vertical-align: middle;\n",
       "    }\n",
       "\n",
       "    .dataframe tbody tr th {\n",
       "        vertical-align: top;\n",
       "    }\n",
       "\n",
       "    .dataframe thead th {\n",
       "        text-align: right;\n",
       "    }\n",
       "</style>\n",
       "<table border=\"1\" class=\"dataframe\">\n",
       "  <thead>\n",
       "    <tr style=\"text-align: right;\">\n",
       "      <th></th>\n",
       "      <th>Model</th>\n",
       "      <th>Accuracy</th>\n",
       "      <th>Precision</th>\n",
       "      <th>recall</th>\n",
       "      <th>F1</th>\n",
       "    </tr>\n",
       "  </thead>\n",
       "  <tbody>\n",
       "    <tr>\n",
       "      <th>0</th>\n",
       "      <td>GaussNB</td>\n",
       "      <td>0.8164 (+/- 0.0169)</td>\n",
       "      <td>0.8396 (+/- 0.0201)</td>\n",
       "      <td>0.8826 (+/- 0.0167)</td>\n",
       "      <td>0.8605 (+/- 0.0120)</td>\n",
       "    </tr>\n",
       "  </tbody>\n",
       "</table>\n",
       "</div>"
      ],
      "text/plain": [
       "     Model             Accuracy            Precision               recall  \\\n",
       "0  GaussNB  0.8164 (+/- 0.0169)  0.8396 (+/- 0.0201)  0.8826 (+/- 0.0167)   \n",
       "\n",
       "                    F1  \n",
       "0  0.8605 (+/- 0.0120)  "
      ]
     },
     "execution_count": 122,
     "metadata": {},
     "output_type": "execute_result"
    }
   ],
   "source": [
    "models_df_gnb = pd.DataFrame({  \n",
    "  'Model': ['GaussNB'],\n",
    "  'Accuracy' : [strScoreConf(scores_gnb.mean(), scores_gnb.std())],\n",
    "  'Precision': [strScoreConf(scores_gnb_p.mean(), scores_gnb_p.std())],\n",
    "  'recall' : [strScoreConf(scores_gnb_r.mean(), scores_gnb_r.std())],\n",
    "  'F1' : [strScoreConf(scores_gnb_f.mean(), scores_gnb_f.std())]\n",
    "})\n",
    "models_df_gnb"
   ]
  },
  {
   "cell_type": "markdown",
   "metadata": {
    "slideshow": {
     "slide_type": "slide"
    }
   },
   "source": [
    "### Bernoulli NB"
   ]
  },
  {
   "cell_type": "code",
   "execution_count": 21,
   "metadata": {
    "slideshow": {
     "slide_type": "subslide"
    }
   },
   "outputs": [
    {
     "data": {
      "text/plain": [
       "0.7515594751559476"
      ]
     },
     "execution_count": 21,
     "metadata": {},
     "output_type": "execute_result"
    }
   ],
   "source": [
    "bnb = BernoulliNB()\n",
    "bnb.fit(X_train, y_train)\n",
    "y_predict = bnb.predict(X_test)\n",
    "bnb.score(X_test, y_test)"
   ]
  },
  {
   "cell_type": "code",
   "execution_count": 22,
   "metadata": {
    "slideshow": {
     "slide_type": "subslide"
    }
   },
   "outputs": [
    {
     "name": "stdout",
     "output_type": "stream",
     "text": [
      "Confusion matrix, without normalization\n",
      "[[ 729  937]\n",
      " [ 218 2765]]\n",
      "Normalized confusion matrix\n",
      "[[0.43757503 0.56242497]\n",
      " [0.07308079 0.92691921]]\n"
     ]
    },
    {
     "data": {
      "image/png": "[encoded data removed]",
      "text/plain": [
       "<Figure size 360x360 with 2 Axes>"
      ]
     },
     "metadata": {
      "needs_background": "light"
     },
     "output_type": "display_data"
    },
    {
     "data": {
      "image/png": "[encoded data removed]",
      "text/plain": [
       "<Figure size 360x360 with 2 Axes>"
      ]
     },
     "metadata": {
      "needs_background": "light"
     },
     "output_type": "display_data"
    }
   ],
   "source": [
    "# Plot non-normalized confusion matrix\n",
    "ax1 = plot_confusion_matrix(y_test, y_predict, classes=class_names,\n",
    "                      title='Confusion matrix, without normalization')\n",
    "\n",
    "# Plot normalized confusion matrix\n",
    "ax2 = plot_confusion_matrix(y_test, y_predict, classes=class_names, normalize=True,\n",
    "                      title='Normalized confusion matrix')\n",
    "\n",
    "plt.show()"
   ]
  },
  {
   "cell_type": "code",
   "execution_count": 23,
   "metadata": {
    "slideshow": {
     "slide_type": "subslide"
    }
   },
   "outputs": [
    {
     "name": "stdout",
     "output_type": "stream",
     "text": [
      "\t(tn, fp, fn, tp) = (729, 937, 218, 2765)\n",
      "\tAccuracy = 75.16%\n",
      "\tMisclassification Rate = 24.84%\n",
      "\tPrecision = 74.69%\n",
      "\tRecall = 92.69%\n",
      "\tF1-Score = 82.72%\n"
     ]
    }
   ],
   "source": [
    "print_scores(y_test, y_predict)"
   ]
  },
  {
   "cell_type": "markdown",
   "metadata": {},
   "source": [
    "#### Cross-validation"
   ]
  },
  {
   "cell_type": "code",
   "execution_count": 128,
   "metadata": {},
   "outputs": [
    {
     "data": {
      "text/plain": [
       "array([0.76402116, 0.76588983, 0.74470339, 0.74576271, 0.7690678 ,\n",
       "       0.76800847, 0.76458112, 0.76352068, 0.75503712, 0.76352068])"
      ]
     },
     "execution_count": 128,
     "metadata": {},
     "output_type": "execute_result"
    }
   ],
   "source": [
    "scores_bnb = cross_val_score(bnb, X_train, y_train, cv=10)\n",
    "scores_bnb_p = cross_val_score(bnb, X_train, y_train, scoring='precision', cv=10)\n",
    "scores_bnb_r = cross_val_score(bnb, X_train, y_train, scoring='recall', cv=10)\n",
    "scores_bnb_f = cross_val_score(bnb, X_train, y_train, scoring='f1', cv=10)\n",
    "scores_bnb"
   ]
  },
  {
   "cell_type": "code",
   "execution_count": 129,
   "metadata": {},
   "outputs": [
    {
     "data": {
      "text/html": [
       "<div>\n",
       "<style scoped>\n",
       "    .dataframe tbody tr th:only-of-type {\n",
       "        vertical-align: middle;\n",
       "    }\n",
       "\n",
       "    .dataframe tbody tr th {\n",
       "        vertical-align: top;\n",
       "    }\n",
       "\n",
       "    .dataframe thead th {\n",
       "        text-align: right;\n",
       "    }\n",
       "</style>\n",
       "<table border=\"1\" class=\"dataframe\">\n",
       "  <thead>\n",
       "    <tr style=\"text-align: right;\">\n",
       "      <th></th>\n",
       "      <th>Model</th>\n",
       "      <th>Accuracy</th>\n",
       "      <th>Precision</th>\n",
       "      <th>recall</th>\n",
       "      <th>F1</th>\n",
       "    </tr>\n",
       "  </thead>\n",
       "  <tbody>\n",
       "    <tr>\n",
       "      <th>0</th>\n",
       "      <td>BernNB</td>\n",
       "      <td>0.7604 (+/- 0.0164)</td>\n",
       "      <td>0.7559 (+/- 0.0168)</td>\n",
       "      <td>0.9259 (+/- 0.0152)</td>\n",
       "      <td>0.8322 (+/- 0.0098)</td>\n",
       "    </tr>\n",
       "  </tbody>\n",
       "</table>\n",
       "</div>"
      ],
      "text/plain": [
       "    Model             Accuracy            Precision               recall  \\\n",
       "0  BernNB  0.7604 (+/- 0.0164)  0.7559 (+/- 0.0168)  0.9259 (+/- 0.0152)   \n",
       "\n",
       "                    F1  \n",
       "0  0.8322 (+/- 0.0098)  "
      ]
     },
     "execution_count": 129,
     "metadata": {},
     "output_type": "execute_result"
    }
   ],
   "source": [
    "models_df_bnb = pd.DataFrame({  \n",
    "  'Model': ['BernNB'],\n",
    "  'Accuracy' : [strScoreConf(scores_bnb.mean(), scores_bnb.std())],\n",
    "  'Precision': [strScoreConf(scores_bnb_p.mean(), scores_bnb_p.std())],\n",
    "  'recall' : [strScoreConf(scores_bnb_r.mean(), scores_bnb_r.std())],\n",
    "  'F1' : [strScoreConf(scores_bnb_f.mean(), scores_bnb_f.std())]\n",
    "})\n",
    "models_df_bnb"
   ]
  },
  {
   "cell_type": "markdown",
   "metadata": {
    "slideshow": {
     "slide_type": "slide"
    }
   },
   "source": [
    "## Stochastic Gradient Descent (SGD)"
   ]
  },
  {
   "cell_type": "code",
   "execution_count": 125,
   "metadata": {
    "scrolled": true,
    "slideshow": {
     "slide_type": "subslide"
    }
   },
   "outputs": [
    {
     "name": "stderr",
     "output_type": "stream",
     "text": [
      "C:\\Users\\ailin\\AppData\\Roaming\\Python\\Python36\\site-packages\\sklearn\\linear_model\\stochastic_gradient.py:128: FutureWarning: max_iter and tol parameters have been added in <class 'sklearn.linear_model.stochastic_gradient.SGDClassifier'> in 0.19. If both are left unset, they default to max_iter=5 and tol=None. If tol is not None, max_iter defaults to max_iter=1000. From 0.21, default max_iter will be 1000, and default tol will be 1e-3.\n",
      "  \"and default tol will be 1e-3.\" % type(self), FutureWarning)\n"
     ]
    },
    {
     "data": {
      "text/plain": [
       "0.7618842761884276"
      ]
     },
     "execution_count": 125,
     "metadata": {},
     "output_type": "execute_result"
    }
   ],
   "source": [
    "sgd = linear_model.SGDClassifier()\n",
    "sgd.fit(X_train, y_train)\n",
    "y_predict = sgd.predict(X_test)\n",
    "sgd.score(X_test, y_test) #around 72-78%"
   ]
  },
  {
   "cell_type": "code",
   "execution_count": 126,
   "metadata": {
    "slideshow": {
     "slide_type": "subslide"
    }
   },
   "outputs": [
    {
     "name": "stdout",
     "output_type": "stream",
     "text": [
      "Confusion matrix, without normalization\n",
      "[[ 653 1013]\n",
      " [  94 2889]]\n",
      "Normalized confusion matrix\n",
      "[[0.39195678 0.60804322]\n",
      " [0.0315119  0.9684881 ]]\n"
     ]
    },
    {
     "data": {
      "image/png": "[encoded data removed]",
      "text/plain": [
       "<Figure size 360x360 with 2 Axes>"
      ]
     },
     "metadata": {
      "needs_background": "light"
     },
     "output_type": "display_data"
    },
    {
     "data": {
      "image/png": "[encoded data removed]",
      "text/plain": [
       "<Figure size 360x360 with 2 Axes>"
      ]
     },
     "metadata": {
      "needs_background": "light"
     },
     "output_type": "display_data"
    }
   ],
   "source": [
    "# Plot non-normalized confusion matrix\n",
    "ax1 = plot_confusion_matrix(y_test, y_predict, classes=class_names,\n",
    "                      title='Confusion matrix, without normalization')\n",
    "\n",
    "# Plot normalized confusion matrix\n",
    "ax2 = plot_confusion_matrix(y_test, y_predict, classes=class_names, normalize=True,\n",
    "                      title='Normalized confusion matrix')\n",
    "\n",
    "plt.show()"
   ]
  },
  {
   "cell_type": "code",
   "execution_count": 127,
   "metadata": {
    "slideshow": {
     "slide_type": "subslide"
    }
   },
   "outputs": [
    {
     "name": "stdout",
     "output_type": "stream",
     "text": [
      "\t(tn, fp, fn, tp) = (653, 1013, 94, 2889)\n",
      "\tAccuracy = 76.19%\n",
      "\tMisclassification Rate = 23.81%\n",
      "\tPrecision = 74.04%\n",
      "\tRecall = 96.85%\n",
      "\tF1-Score = 83.92%\n"
     ]
    }
   ],
   "source": [
    "print_scores(y_test, y_predict)"
   ]
  },
  {
   "cell_type": "markdown",
   "metadata": {},
   "source": [
    "#### Cross-validation"
   ]
  },
  {
   "cell_type": "code",
   "execution_count": 130,
   "metadata": {},
   "outputs": [
    {
     "name": "stderr",
     "output_type": "stream",
     "text": [
      "C:\\Users\\ailin\\AppData\\Roaming\\Python\\Python36\\site-packages\\sklearn\\linear_model\\stochastic_gradient.py:128: FutureWarning: max_iter and tol parameters have been added in <class 'sklearn.linear_model.stochastic_gradient.SGDClassifier'> in 0.19. If both are left unset, they default to max_iter=5 and tol=None. If tol is not None, max_iter defaults to max_iter=1000. From 0.21, default max_iter will be 1000, and default tol will be 1e-3.\n",
      "  \"and default tol will be 1e-3.\" % type(self), FutureWarning)\n",
      "C:\\Users\\ailin\\AppData\\Roaming\\Python\\Python36\\site-packages\\sklearn\\linear_model\\stochastic_gradient.py:128: FutureWarning: max_iter and tol parameters have been added in <class 'sklearn.linear_model.stochastic_gradient.SGDClassifier'> in 0.19. If both are left unset, they default to max_iter=5 and tol=None. If tol is not None, max_iter defaults to max_iter=1000. From 0.21, default max_iter will be 1000, and default tol will be 1e-3.\n",
      "  \"and default tol will be 1e-3.\" % type(self), FutureWarning)\n",
      "C:\\Users\\ailin\\AppData\\Roaming\\Python\\Python36\\site-packages\\sklearn\\linear_model\\stochastic_gradient.py:128: FutureWarning: max_iter and tol parameters have been added in <class 'sklearn.linear_model.stochastic_gradient.SGDClassifier'> in 0.19. If both are left unset, they default to max_iter=5 and tol=None. If tol is not None, max_iter defaults to max_iter=1000. From 0.21, default max_iter will be 1000, and default tol will be 1e-3.\n",
      "  \"and default tol will be 1e-3.\" % type(self), FutureWarning)\n",
      "C:\\Users\\ailin\\AppData\\Roaming\\Python\\Python36\\site-packages\\sklearn\\linear_model\\stochastic_gradient.py:128: FutureWarning: max_iter and tol parameters have been added in <class 'sklearn.linear_model.stochastic_gradient.SGDClassifier'> in 0.19. If both are left unset, they default to max_iter=5 and tol=None. If tol is not None, max_iter defaults to max_iter=1000. From 0.21, default max_iter will be 1000, and default tol will be 1e-3.\n",
      "  \"and default tol will be 1e-3.\" % type(self), FutureWarning)\n",
      "C:\\Users\\ailin\\AppData\\Roaming\\Python\\Python36\\site-packages\\sklearn\\linear_model\\stochastic_gradient.py:128: FutureWarning: max_iter and tol parameters have been added in <class 'sklearn.linear_model.stochastic_gradient.SGDClassifier'> in 0.19. If both are left unset, they default to max_iter=5 and tol=None. If tol is not None, max_iter defaults to max_iter=1000. From 0.21, default max_iter will be 1000, and default tol will be 1e-3.\n",
      "  \"and default tol will be 1e-3.\" % type(self), FutureWarning)\n",
      "C:\\Users\\ailin\\AppData\\Roaming\\Python\\Python36\\site-packages\\sklearn\\linear_model\\stochastic_gradient.py:128: FutureWarning: max_iter and tol parameters have been added in <class 'sklearn.linear_model.stochastic_gradient.SGDClassifier'> in 0.19. If both are left unset, they default to max_iter=5 and tol=None. If tol is not None, max_iter defaults to max_iter=1000. From 0.21, default max_iter will be 1000, and default tol will be 1e-3.\n",
      "  \"and default tol will be 1e-3.\" % type(self), FutureWarning)\n",
      "C:\\Users\\ailin\\AppData\\Roaming\\Python\\Python36\\site-packages\\sklearn\\linear_model\\stochastic_gradient.py:128: FutureWarning: max_iter and tol parameters have been added in <class 'sklearn.linear_model.stochastic_gradient.SGDClassifier'> in 0.19. If both are left unset, they default to max_iter=5 and tol=None. If tol is not None, max_iter defaults to max_iter=1000. From 0.21, default max_iter will be 1000, and default tol will be 1e-3.\n",
      "  \"and default tol will be 1e-3.\" % type(self), FutureWarning)\n",
      "C:\\Users\\ailin\\AppData\\Roaming\\Python\\Python36\\site-packages\\sklearn\\linear_model\\stochastic_gradient.py:128: FutureWarning: max_iter and tol parameters have been added in <class 'sklearn.linear_model.stochastic_gradient.SGDClassifier'> in 0.19. If both are left unset, they default to max_iter=5 and tol=None. If tol is not None, max_iter defaults to max_iter=1000. From 0.21, default max_iter will be 1000, and default tol will be 1e-3.\n",
      "  \"and default tol will be 1e-3.\" % type(self), FutureWarning)\n",
      "C:\\Users\\ailin\\AppData\\Roaming\\Python\\Python36\\site-packages\\sklearn\\linear_model\\stochastic_gradient.py:128: FutureWarning: max_iter and tol parameters have been added in <class 'sklearn.linear_model.stochastic_gradient.SGDClassifier'> in 0.19. If both are left unset, they default to max_iter=5 and tol=None. If tol is not None, max_iter defaults to max_iter=1000. From 0.21, default max_iter will be 1000, and default tol will be 1e-3.\n",
      "  \"and default tol will be 1e-3.\" % type(self), FutureWarning)\n",
      "C:\\Users\\ailin\\AppData\\Roaming\\Python\\Python36\\site-packages\\sklearn\\linear_model\\stochastic_gradient.py:128: FutureWarning: max_iter and tol parameters have been added in <class 'sklearn.linear_model.stochastic_gradient.SGDClassifier'> in 0.19. If both are left unset, they default to max_iter=5 and tol=None. If tol is not None, max_iter defaults to max_iter=1000. From 0.21, default max_iter will be 1000, and default tol will be 1e-3.\n",
      "  \"and default tol will be 1e-3.\" % type(self), FutureWarning)\n",
      "C:\\Users\\ailin\\AppData\\Roaming\\Python\\Python36\\site-packages\\sklearn\\linear_model\\stochastic_gradient.py:128: FutureWarning: max_iter and tol parameters have been added in <class 'sklearn.linear_model.stochastic_gradient.SGDClassifier'> in 0.19. If both are left unset, they default to max_iter=5 and tol=None. If tol is not None, max_iter defaults to max_iter=1000. From 0.21, default max_iter will be 1000, and default tol will be 1e-3.\n",
      "  \"and default tol will be 1e-3.\" % type(self), FutureWarning)\n",
      "C:\\Users\\ailin\\AppData\\Roaming\\Python\\Python36\\site-packages\\sklearn\\linear_model\\stochastic_gradient.py:128: FutureWarning: max_iter and tol parameters have been added in <class 'sklearn.linear_model.stochastic_gradient.SGDClassifier'> in 0.19. If both are left unset, they default to max_iter=5 and tol=None. If tol is not None, max_iter defaults to max_iter=1000. From 0.21, default max_iter will be 1000, and default tol will be 1e-3.\n",
      "  \"and default tol will be 1e-3.\" % type(self), FutureWarning)\n",
      "C:\\Users\\ailin\\AppData\\Roaming\\Python\\Python36\\site-packages\\sklearn\\linear_model\\stochastic_gradient.py:128: FutureWarning: max_iter and tol parameters have been added in <class 'sklearn.linear_model.stochastic_gradient.SGDClassifier'> in 0.19. If both are left unset, they default to max_iter=5 and tol=None. If tol is not None, max_iter defaults to max_iter=1000. From 0.21, default max_iter will be 1000, and default tol will be 1e-3.\n",
      "  \"and default tol will be 1e-3.\" % type(self), FutureWarning)\n",
      "C:\\Users\\ailin\\AppData\\Roaming\\Python\\Python36\\site-packages\\sklearn\\linear_model\\stochastic_gradient.py:128: FutureWarning: max_iter and tol parameters have been added in <class 'sklearn.linear_model.stochastic_gradient.SGDClassifier'> in 0.19. If both are left unset, they default to max_iter=5 and tol=None. If tol is not None, max_iter defaults to max_iter=1000. From 0.21, default max_iter will be 1000, and default tol will be 1e-3.\n",
      "  \"and default tol will be 1e-3.\" % type(self), FutureWarning)\n",
      "C:\\Users\\ailin\\AppData\\Roaming\\Python\\Python36\\site-packages\\sklearn\\linear_model\\stochastic_gradient.py:128: FutureWarning: max_iter and tol parameters have been added in <class 'sklearn.linear_model.stochastic_gradient.SGDClassifier'> in 0.19. If both are left unset, they default to max_iter=5 and tol=None. If tol is not None, max_iter defaults to max_iter=1000. From 0.21, default max_iter will be 1000, and default tol will be 1e-3.\n",
      "  \"and default tol will be 1e-3.\" % type(self), FutureWarning)\n",
      "C:\\Users\\ailin\\AppData\\Roaming\\Python\\Python36\\site-packages\\sklearn\\linear_model\\stochastic_gradient.py:128: FutureWarning: max_iter and tol parameters have been added in <class 'sklearn.linear_model.stochastic_gradient.SGDClassifier'> in 0.19. If both are left unset, they default to max_iter=5 and tol=None. If tol is not None, max_iter defaults to max_iter=1000. From 0.21, default max_iter will be 1000, and default tol will be 1e-3.\n",
      "  \"and default tol will be 1e-3.\" % type(self), FutureWarning)\n",
      "C:\\Users\\ailin\\AppData\\Roaming\\Python\\Python36\\site-packages\\sklearn\\linear_model\\stochastic_gradient.py:128: FutureWarning: max_iter and tol parameters have been added in <class 'sklearn.linear_model.stochastic_gradient.SGDClassifier'> in 0.19. If both are left unset, they default to max_iter=5 and tol=None. If tol is not None, max_iter defaults to max_iter=1000. From 0.21, default max_iter will be 1000, and default tol will be 1e-3.\n",
      "  \"and default tol will be 1e-3.\" % type(self), FutureWarning)\n"
     ]
    },
    {
     "name": "stderr",
     "output_type": "stream",
     "text": [
      "C:\\Users\\ailin\\AppData\\Roaming\\Python\\Python36\\site-packages\\sklearn\\linear_model\\stochastic_gradient.py:128: FutureWarning: max_iter and tol parameters have been added in <class 'sklearn.linear_model.stochastic_gradient.SGDClassifier'> in 0.19. If both are left unset, they default to max_iter=5 and tol=None. If tol is not None, max_iter defaults to max_iter=1000. From 0.21, default max_iter will be 1000, and default tol will be 1e-3.\n",
      "  \"and default tol will be 1e-3.\" % type(self), FutureWarning)\n",
      "C:\\Users\\ailin\\AppData\\Roaming\\Python\\Python36\\site-packages\\sklearn\\linear_model\\stochastic_gradient.py:128: FutureWarning: max_iter and tol parameters have been added in <class 'sklearn.linear_model.stochastic_gradient.SGDClassifier'> in 0.19. If both are left unset, they default to max_iter=5 and tol=None. If tol is not None, max_iter defaults to max_iter=1000. From 0.21, default max_iter will be 1000, and default tol will be 1e-3.\n",
      "  \"and default tol will be 1e-3.\" % type(self), FutureWarning)\n",
      "C:\\Users\\ailin\\AppData\\Roaming\\Python\\Python36\\site-packages\\sklearn\\linear_model\\stochastic_gradient.py:128: FutureWarning: max_iter and tol parameters have been added in <class 'sklearn.linear_model.stochastic_gradient.SGDClassifier'> in 0.19. If both are left unset, they default to max_iter=5 and tol=None. If tol is not None, max_iter defaults to max_iter=1000. From 0.21, default max_iter will be 1000, and default tol will be 1e-3.\n",
      "  \"and default tol will be 1e-3.\" % type(self), FutureWarning)\n",
      "C:\\Users\\ailin\\AppData\\Roaming\\Python\\Python36\\site-packages\\sklearn\\linear_model\\stochastic_gradient.py:128: FutureWarning: max_iter and tol parameters have been added in <class 'sklearn.linear_model.stochastic_gradient.SGDClassifier'> in 0.19. If both are left unset, they default to max_iter=5 and tol=None. If tol is not None, max_iter defaults to max_iter=1000. From 0.21, default max_iter will be 1000, and default tol will be 1e-3.\n",
      "  \"and default tol will be 1e-3.\" % type(self), FutureWarning)\n",
      "C:\\Users\\ailin\\AppData\\Roaming\\Python\\Python36\\site-packages\\sklearn\\linear_model\\stochastic_gradient.py:128: FutureWarning: max_iter and tol parameters have been added in <class 'sklearn.linear_model.stochastic_gradient.SGDClassifier'> in 0.19. If both are left unset, they default to max_iter=5 and tol=None. If tol is not None, max_iter defaults to max_iter=1000. From 0.21, default max_iter will be 1000, and default tol will be 1e-3.\n",
      "  \"and default tol will be 1e-3.\" % type(self), FutureWarning)\n",
      "C:\\Users\\ailin\\AppData\\Roaming\\Python\\Python36\\site-packages\\sklearn\\linear_model\\stochastic_gradient.py:128: FutureWarning: max_iter and tol parameters have been added in <class 'sklearn.linear_model.stochastic_gradient.SGDClassifier'> in 0.19. If both are left unset, they default to max_iter=5 and tol=None. If tol is not None, max_iter defaults to max_iter=1000. From 0.21, default max_iter will be 1000, and default tol will be 1e-3.\n",
      "  \"and default tol will be 1e-3.\" % type(self), FutureWarning)\n",
      "C:\\Users\\ailin\\AppData\\Roaming\\Python\\Python36\\site-packages\\sklearn\\linear_model\\stochastic_gradient.py:128: FutureWarning: max_iter and tol parameters have been added in <class 'sklearn.linear_model.stochastic_gradient.SGDClassifier'> in 0.19. If both are left unset, they default to max_iter=5 and tol=None. If tol is not None, max_iter defaults to max_iter=1000. From 0.21, default max_iter will be 1000, and default tol will be 1e-3.\n",
      "  \"and default tol will be 1e-3.\" % type(self), FutureWarning)\n",
      "C:\\Users\\ailin\\AppData\\Roaming\\Python\\Python36\\site-packages\\sklearn\\linear_model\\stochastic_gradient.py:128: FutureWarning: max_iter and tol parameters have been added in <class 'sklearn.linear_model.stochastic_gradient.SGDClassifier'> in 0.19. If both are left unset, they default to max_iter=5 and tol=None. If tol is not None, max_iter defaults to max_iter=1000. From 0.21, default max_iter will be 1000, and default tol will be 1e-3.\n",
      "  \"and default tol will be 1e-3.\" % type(self), FutureWarning)\n",
      "C:\\Users\\ailin\\AppData\\Roaming\\Python\\Python36\\site-packages\\sklearn\\linear_model\\stochastic_gradient.py:128: FutureWarning: max_iter and tol parameters have been added in <class 'sklearn.linear_model.stochastic_gradient.SGDClassifier'> in 0.19. If both are left unset, they default to max_iter=5 and tol=None. If tol is not None, max_iter defaults to max_iter=1000. From 0.21, default max_iter will be 1000, and default tol will be 1e-3.\n",
      "  \"and default tol will be 1e-3.\" % type(self), FutureWarning)\n",
      "C:\\Users\\ailin\\AppData\\Roaming\\Python\\Python36\\site-packages\\sklearn\\linear_model\\stochastic_gradient.py:128: FutureWarning: max_iter and tol parameters have been added in <class 'sklearn.linear_model.stochastic_gradient.SGDClassifier'> in 0.19. If both are left unset, they default to max_iter=5 and tol=None. If tol is not None, max_iter defaults to max_iter=1000. From 0.21, default max_iter will be 1000, and default tol will be 1e-3.\n",
      "  \"and default tol will be 1e-3.\" % type(self), FutureWarning)\n",
      "C:\\Users\\ailin\\AppData\\Roaming\\Python\\Python36\\site-packages\\sklearn\\linear_model\\stochastic_gradient.py:128: FutureWarning: max_iter and tol parameters have been added in <class 'sklearn.linear_model.stochastic_gradient.SGDClassifier'> in 0.19. If both are left unset, they default to max_iter=5 and tol=None. If tol is not None, max_iter defaults to max_iter=1000. From 0.21, default max_iter will be 1000, and default tol will be 1e-3.\n",
      "  \"and default tol will be 1e-3.\" % type(self), FutureWarning)\n",
      "C:\\Users\\ailin\\AppData\\Roaming\\Python\\Python36\\site-packages\\sklearn\\linear_model\\stochastic_gradient.py:128: FutureWarning: max_iter and tol parameters have been added in <class 'sklearn.linear_model.stochastic_gradient.SGDClassifier'> in 0.19. If both are left unset, they default to max_iter=5 and tol=None. If tol is not None, max_iter defaults to max_iter=1000. From 0.21, default max_iter will be 1000, and default tol will be 1e-3.\n",
      "  \"and default tol will be 1e-3.\" % type(self), FutureWarning)\n",
      "C:\\Users\\ailin\\AppData\\Roaming\\Python\\Python36\\site-packages\\sklearn\\linear_model\\stochastic_gradient.py:128: FutureWarning: max_iter and tol parameters have been added in <class 'sklearn.linear_model.stochastic_gradient.SGDClassifier'> in 0.19. If both are left unset, they default to max_iter=5 and tol=None. If tol is not None, max_iter defaults to max_iter=1000. From 0.21, default max_iter will be 1000, and default tol will be 1e-3.\n",
      "  \"and default tol will be 1e-3.\" % type(self), FutureWarning)\n",
      "C:\\Users\\ailin\\AppData\\Roaming\\Python\\Python36\\site-packages\\sklearn\\linear_model\\stochastic_gradient.py:128: FutureWarning: max_iter and tol parameters have been added in <class 'sklearn.linear_model.stochastic_gradient.SGDClassifier'> in 0.19. If both are left unset, they default to max_iter=5 and tol=None. If tol is not None, max_iter defaults to max_iter=1000. From 0.21, default max_iter will be 1000, and default tol will be 1e-3.\n",
      "  \"and default tol will be 1e-3.\" % type(self), FutureWarning)\n",
      "C:\\Users\\ailin\\AppData\\Roaming\\Python\\Python36\\site-packages\\sklearn\\linear_model\\stochastic_gradient.py:128: FutureWarning: max_iter and tol parameters have been added in <class 'sklearn.linear_model.stochastic_gradient.SGDClassifier'> in 0.19. If both are left unset, they default to max_iter=5 and tol=None. If tol is not None, max_iter defaults to max_iter=1000. From 0.21, default max_iter will be 1000, and default tol will be 1e-3.\n",
      "  \"and default tol will be 1e-3.\" % type(self), FutureWarning)\n",
      "C:\\Users\\ailin\\AppData\\Roaming\\Python\\Python36\\site-packages\\sklearn\\linear_model\\stochastic_gradient.py:128: FutureWarning: max_iter and tol parameters have been added in <class 'sklearn.linear_model.stochastic_gradient.SGDClassifier'> in 0.19. If both are left unset, they default to max_iter=5 and tol=None. If tol is not None, max_iter defaults to max_iter=1000. From 0.21, default max_iter will be 1000, and default tol will be 1e-3.\n",
      "  \"and default tol will be 1e-3.\" % type(self), FutureWarning)\n",
      "C:\\Users\\ailin\\AppData\\Roaming\\Python\\Python36\\site-packages\\sklearn\\linear_model\\stochastic_gradient.py:128: FutureWarning: max_iter and tol parameters have been added in <class 'sklearn.linear_model.stochastic_gradient.SGDClassifier'> in 0.19. If both are left unset, they default to max_iter=5 and tol=None. If tol is not None, max_iter defaults to max_iter=1000. From 0.21, default max_iter will be 1000, and default tol will be 1e-3.\n",
      "  \"and default tol will be 1e-3.\" % type(self), FutureWarning)\n",
      "C:\\Users\\ailin\\AppData\\Roaming\\Python\\Python36\\site-packages\\sklearn\\linear_model\\stochastic_gradient.py:128: FutureWarning: max_iter and tol parameters have been added in <class 'sklearn.linear_model.stochastic_gradient.SGDClassifier'> in 0.19. If both are left unset, they default to max_iter=5 and tol=None. If tol is not None, max_iter defaults to max_iter=1000. From 0.21, default max_iter will be 1000, and default tol will be 1e-3.\n",
      "  \"and default tol will be 1e-3.\" % type(self), FutureWarning)\n",
      "C:\\Users\\ailin\\AppData\\Roaming\\Python\\Python36\\site-packages\\sklearn\\linear_model\\stochastic_gradient.py:128: FutureWarning: max_iter and tol parameters have been added in <class 'sklearn.linear_model.stochastic_gradient.SGDClassifier'> in 0.19. If both are left unset, they default to max_iter=5 and tol=None. If tol is not None, max_iter defaults to max_iter=1000. From 0.21, default max_iter will be 1000, and default tol will be 1e-3.\n",
      "  \"and default tol will be 1e-3.\" % type(self), FutureWarning)\n"
     ]
    },
    {
     "name": "stderr",
     "output_type": "stream",
     "text": [
      "C:\\Users\\ailin\\AppData\\Roaming\\Python\\Python36\\site-packages\\sklearn\\linear_model\\stochastic_gradient.py:128: FutureWarning: max_iter and tol parameters have been added in <class 'sklearn.linear_model.stochastic_gradient.SGDClassifier'> in 0.19. If both are left unset, they default to max_iter=5 and tol=None. If tol is not None, max_iter defaults to max_iter=1000. From 0.21, default max_iter will be 1000, and default tol will be 1e-3.\n",
      "  \"and default tol will be 1e-3.\" % type(self), FutureWarning)\n",
      "C:\\Users\\ailin\\AppData\\Roaming\\Python\\Python36\\site-packages\\sklearn\\linear_model\\stochastic_gradient.py:128: FutureWarning: max_iter and tol parameters have been added in <class 'sklearn.linear_model.stochastic_gradient.SGDClassifier'> in 0.19. If both are left unset, they default to max_iter=5 and tol=None. If tol is not None, max_iter defaults to max_iter=1000. From 0.21, default max_iter will be 1000, and default tol will be 1e-3.\n",
      "  \"and default tol will be 1e-3.\" % type(self), FutureWarning)\n",
      "C:\\Users\\ailin\\AppData\\Roaming\\Python\\Python36\\site-packages\\sklearn\\linear_model\\stochastic_gradient.py:128: FutureWarning: max_iter and tol parameters have been added in <class 'sklearn.linear_model.stochastic_gradient.SGDClassifier'> in 0.19. If both are left unset, they default to max_iter=5 and tol=None. If tol is not None, max_iter defaults to max_iter=1000. From 0.21, default max_iter will be 1000, and default tol will be 1e-3.\n",
      "  \"and default tol will be 1e-3.\" % type(self), FutureWarning)\n",
      "C:\\Users\\ailin\\AppData\\Roaming\\Python\\Python36\\site-packages\\sklearn\\linear_model\\stochastic_gradient.py:128: FutureWarning: max_iter and tol parameters have been added in <class 'sklearn.linear_model.stochastic_gradient.SGDClassifier'> in 0.19. If both are left unset, they default to max_iter=5 and tol=None. If tol is not None, max_iter defaults to max_iter=1000. From 0.21, default max_iter will be 1000, and default tol will be 1e-3.\n",
      "  \"and default tol will be 1e-3.\" % type(self), FutureWarning)\n"
     ]
    },
    {
     "data": {
      "text/plain": [
       "array([0.75661376, 0.75317797, 0.77012712, 0.71398305, 0.74152542,\n",
       "       0.72987288, 0.78685048, 0.7804878 , 0.79851538, 0.7009544 ])"
      ]
     },
     "execution_count": 130,
     "metadata": {},
     "output_type": "execute_result"
    }
   ],
   "source": [
    "scores_sgd = cross_val_score(sgd, X_train, y_train, cv=10)\n",
    "scores_sgd_p = cross_val_score(sgd, X_train, y_train, scoring='precision', cv=10)\n",
    "scores_sgd_r = cross_val_score(sgd, X_train, y_train, scoring='recall', cv=10)\n",
    "scores_sgd_f = cross_val_score(sgd, X_train, y_train, scoring='f1', cv=10)\n",
    "scores_sgd"
   ]
  },
  {
   "cell_type": "code",
   "execution_count": 132,
   "metadata": {},
   "outputs": [
    {
     "data": {
      "text/html": [
       "<div>\n",
       "<style scoped>\n",
       "    .dataframe tbody tr th:only-of-type {\n",
       "        vertical-align: middle;\n",
       "    }\n",
       "\n",
       "    .dataframe tbody tr th {\n",
       "        vertical-align: top;\n",
       "    }\n",
       "\n",
       "    .dataframe thead th {\n",
       "        text-align: right;\n",
       "    }\n",
       "</style>\n",
       "<table border=\"1\" class=\"dataframe\">\n",
       "  <thead>\n",
       "    <tr style=\"text-align: right;\">\n",
       "      <th></th>\n",
       "      <th>Model</th>\n",
       "      <th>Accuracy</th>\n",
       "      <th>Precision</th>\n",
       "      <th>recall</th>\n",
       "      <th>F1</th>\n",
       "    </tr>\n",
       "  </thead>\n",
       "  <tbody>\n",
       "    <tr>\n",
       "      <th>0</th>\n",
       "      <td>SGD</td>\n",
       "      <td>0.7532 (+/- 0.0594)</td>\n",
       "      <td>0.8246 (+/- 0.2086)</td>\n",
       "      <td>0.7619 (+/- 0.5729)</td>\n",
       "      <td>0.7284 (+/- 0.3652)</td>\n",
       "    </tr>\n",
       "  </tbody>\n",
       "</table>\n",
       "</div>"
      ],
      "text/plain": [
       "  Model             Accuracy            Precision               recall  \\\n",
       "0   SGD  0.7532 (+/- 0.0594)  0.8246 (+/- 0.2086)  0.7619 (+/- 0.5729)   \n",
       "\n",
       "                    F1  \n",
       "0  0.7284 (+/- 0.3652)  "
      ]
     },
     "execution_count": 132,
     "metadata": {},
     "output_type": "execute_result"
    }
   ],
   "source": [
    "models_df_sgd = pd.DataFrame({  \n",
    "  'Model': ['SGD'],\n",
    "  'Accuracy' : [strScoreConf(scores_sgd.mean(), scores_sgd.std())],\n",
    "  'Precision': [strScoreConf(scores_sgd_p.mean(), scores_sgd_p.std())],\n",
    "  'recall' : [strScoreConf(scores_sgd_r.mean(), scores_sgd_r.std())],\n",
    "  'F1' : [strScoreConf(scores_sgd_f.mean(), scores_sgd_f.std())]\n",
    "})\n",
    "models_df_sgd"
   ]
  },
  {
   "cell_type": "markdown",
   "metadata": {
    "slideshow": {
     "slide_type": "slide"
    }
   },
   "source": [
    "## K-Nearest Neighbors"
   ]
  },
  {
   "cell_type": "code",
   "execution_count": 27,
   "metadata": {
    "slideshow": {
     "slide_type": "subslide"
    }
   },
   "outputs": [
    {
     "data": {
      "text/plain": [
       "0.8352333835233383"
      ]
     },
     "execution_count": 27,
     "metadata": {},
     "output_type": "execute_result"
    }
   ],
   "source": [
    "knn = KNeighborsClassifier() # n = 5\n",
    "knn.fit(X_train, y_train)\n",
    "y_predict = knn.predict(X_test)\n",
    "knn.score(X_test, y_test)"
   ]
  },
  {
   "cell_type": "code",
   "execution_count": 28,
   "metadata": {
    "slideshow": {
     "slide_type": "subslide"
    }
   },
   "outputs": [
    {
     "name": "stdout",
     "output_type": "stream",
     "text": [
      "Confusion matrix, without normalization\n",
      "[[1193  473]\n",
      " [ 293 2690]]\n",
      "Normalized confusion matrix\n",
      "[[0.71608643 0.28391357]\n",
      " [0.09822327 0.90177673]]\n"
     ]
    },
    {
     "data": {
      "image/png": "[encoded data removed]",
      "text/plain": [
       "<Figure size 360x360 with 2 Axes>"
      ]
     },
     "metadata": {
      "needs_background": "light"
     },
     "output_type": "display_data"
    },
    {
     "data": {
      "image/png": "[encoded data removed]",
      "text/plain": [
       "<Figure size 360x360 with 2 Axes>"
      ]
     },
     "metadata": {
      "needs_background": "light"
     },
     "output_type": "display_data"
    }
   ],
   "source": [
    "# Plot non-normalized confusion matrix\n",
    "ax1 = plot_confusion_matrix(y_test, y_predict, classes=class_names,\n",
    "                      title='Confusion matrix, without normalization')\n",
    "\n",
    "# Plot normalized confusion matrix\n",
    "ax2 = plot_confusion_matrix(y_test, y_predict, classes=class_names, normalize=True,\n",
    "                      title='Normalized confusion matrix')\n",
    "\n",
    "plt.show()"
   ]
  },
  {
   "cell_type": "code",
   "execution_count": 29,
   "metadata": {
    "slideshow": {
     "slide_type": "subslide"
    }
   },
   "outputs": [
    {
     "name": "stdout",
     "output_type": "stream",
     "text": [
      "\t(tn, fp, fn, tp) = (1193, 473, 293, 2690)\n",
      "\tAccuracy = 83.52%\n",
      "\tMisclassification Rate = 16.48%\n",
      "\tPrecision = 85.05%\n",
      "\tRecall = 90.18%\n",
      "\tF1-Score = 87.54%\n"
     ]
    }
   ],
   "source": [
    "print_scores(y_test, y_predict)"
   ]
  },
  {
   "cell_type": "markdown",
   "metadata": {},
   "source": [
    "#### Cross-validation"
   ]
  },
  {
   "cell_type": "code",
   "execution_count": 133,
   "metadata": {},
   "outputs": [
    {
     "data": {
      "text/plain": [
       "array([0.83492063, 0.82627119, 0.81567797, 0.83368644, 0.84322034,\n",
       "       0.83580508, 0.83244963, 0.82820785, 0.84305408, 0.83669141])"
      ]
     },
     "execution_count": 133,
     "metadata": {},
     "output_type": "execute_result"
    }
   ],
   "source": [
    "scores_knn = cross_val_score(knn, X_train, y_train, cv=10)\n",
    "scores_knn_p = cross_val_score(knn, X_train, y_train, scoring='precision', cv=10)\n",
    "scores_knn_r = cross_val_score(knn, X_train, y_train, scoring='recall', cv=10)\n",
    "scores_knn_f = cross_val_score(knn, X_train, y_train, scoring='f1', cv=10)\n",
    "scores_knn"
   ]
  },
  {
   "cell_type": "code",
   "execution_count": 134,
   "metadata": {},
   "outputs": [
    {
     "data": {
      "text/html": [
       "<div>\n",
       "<style scoped>\n",
       "    .dataframe tbody tr th:only-of-type {\n",
       "        vertical-align: middle;\n",
       "    }\n",
       "\n",
       "    .dataframe tbody tr th {\n",
       "        vertical-align: top;\n",
       "    }\n",
       "\n",
       "    .dataframe thead th {\n",
       "        text-align: right;\n",
       "    }\n",
       "</style>\n",
       "<table border=\"1\" class=\"dataframe\">\n",
       "  <thead>\n",
       "    <tr style=\"text-align: right;\">\n",
       "      <th></th>\n",
       "      <th>Model</th>\n",
       "      <th>Accuracy</th>\n",
       "      <th>Precision</th>\n",
       "      <th>recall</th>\n",
       "      <th>F1</th>\n",
       "    </tr>\n",
       "  </thead>\n",
       "  <tbody>\n",
       "    <tr>\n",
       "      <th>0</th>\n",
       "      <td>KNN</td>\n",
       "      <td>0.8330 (+/- 0.0152)</td>\n",
       "      <td>0.8514 (+/- 0.0143)</td>\n",
       "      <td>0.8963 (+/- 0.0317)</td>\n",
       "      <td>0.8732 (+/- 0.0132)</td>\n",
       "    </tr>\n",
       "  </tbody>\n",
       "</table>\n",
       "</div>"
      ],
      "text/plain": [
       "  Model             Accuracy            Precision               recall  \\\n",
       "0   KNN  0.8330 (+/- 0.0152)  0.8514 (+/- 0.0143)  0.8963 (+/- 0.0317)   \n",
       "\n",
       "                    F1  \n",
       "0  0.8732 (+/- 0.0132)  "
      ]
     },
     "execution_count": 134,
     "metadata": {},
     "output_type": "execute_result"
    }
   ],
   "source": [
    "models_df_knn = pd.DataFrame({  \n",
    "  'Model': ['KNN'],\n",
    "  'Accuracy' : [strScoreConf(scores_knn.mean(), scores_knn.std())],\n",
    "  'Precision': [strScoreConf(scores_knn_p.mean(), scores_knn_p.std())],\n",
    "  'recall' : [strScoreConf(scores_knn_r.mean(), scores_knn_r.std())],\n",
    "  'F1' : [strScoreConf(scores_knn_f.mean(), scores_knn_f.std())]\n",
    "})\n",
    "models_df_knn"
   ]
  },
  {
   "cell_type": "markdown",
   "metadata": {
    "slideshow": {
     "slide_type": "slide"
    }
   },
   "source": [
    "## Decision Tree"
   ]
  },
  {
   "cell_type": "code",
   "execution_count": 30,
   "metadata": {
    "slideshow": {
     "slide_type": "subslide"
    }
   },
   "outputs": [
    {
     "data": {
      "text/plain": [
       "0.804258980425898"
      ]
     },
     "execution_count": 30,
     "metadata": {},
     "output_type": "execute_result"
    }
   ],
   "source": [
    "dtc = DecisionTreeClassifier()\n",
    "dtc.fit(X_train, y_train)\n",
    "y_predict = dtc.predict(X_test)\n",
    "dtc.score(X_test, y_test)"
   ]
  },
  {
   "cell_type": "code",
   "execution_count": 31,
   "metadata": {
    "slideshow": {
     "slide_type": "subslide"
    }
   },
   "outputs": [
    {
     "name": "stdout",
     "output_type": "stream",
     "text": [
      "Confusion matrix, without normalization\n",
      "[[1196  470]\n",
      " [ 440 2543]]\n",
      "Normalized confusion matrix\n",
      "[[0.71788715 0.28211285]\n",
      " [0.14750251 0.85249749]]\n"
     ]
    },
    {
     "data": {
      "image/png": "[encoded data removed]",
      "text/plain": [
       "<Figure size 360x360 with 2 Axes>"
      ]
     },
     "metadata": {
      "needs_background": "light"
     },
     "output_type": "display_data"
    },
    {
     "data": {
      "image/png": "[encoded data removed]",
      "text/plain": [
       "<Figure size 360x360 with 2 Axes>"
      ]
     },
     "metadata": {
      "needs_background": "light"
     },
     "output_type": "display_data"
    }
   ],
   "source": [
    "# Plot non-normalized confusion matrix\n",
    "ax1 = plot_confusion_matrix(y_test, y_predict, classes=class_names,\n",
    "                      title='Confusion matrix, without normalization')\n",
    "\n",
    "# Plot normalized confusion matrix\n",
    "ax2 = plot_confusion_matrix(y_test, y_predict, classes=class_names, normalize=True,\n",
    "                      title='Normalized confusion matrix')\n",
    "\n",
    "plt.show()"
   ]
  },
  {
   "cell_type": "code",
   "execution_count": 32,
   "metadata": {
    "slideshow": {
     "slide_type": "subslide"
    }
   },
   "outputs": [
    {
     "name": "stdout",
     "output_type": "stream",
     "text": [
      "\t(tn, fp, fn, tp) = (1196, 470, 440, 2543)\n",
      "\tAccuracy = 80.43%\n",
      "\tMisclassification Rate = 19.57%\n",
      "\tPrecision = 84.40%\n",
      "\tRecall = 85.25%\n",
      "\tF1-Score = 84.82%\n"
     ]
    }
   ],
   "source": [
    "print_scores(y_test, y_predict)"
   ]
  },
  {
   "cell_type": "markdown",
   "metadata": {},
   "source": [
    "#### Cross-validation"
   ]
  },
  {
   "cell_type": "code",
   "execution_count": 135,
   "metadata": {},
   "outputs": [
    {
     "data": {
      "text/plain": [
       "array([0.78518519, 0.79555085, 0.78919492, 0.8029661 , 0.81885593,\n",
       "       0.79872881, 0.80699894, 0.80487805, 0.79321315, 0.7921527 ])"
      ]
     },
     "execution_count": 135,
     "metadata": {},
     "output_type": "execute_result"
    }
   ],
   "source": [
    "scores_dtc = cross_val_score(dtc, X_train, y_train, cv=10)\n",
    "scores_dtc_p = cross_val_score(dtc, X_train, y_train, scoring='precision', cv=10)\n",
    "scores_dtc_r = cross_val_score(dtc, X_train, y_train, scoring='recall', cv=10)\n",
    "scores_dtc_f = cross_val_score(dtc, X_train, y_train, scoring='f1', cv=10)\n",
    "scores_dtc"
   ]
  },
  {
   "cell_type": "code",
   "execution_count": 136,
   "metadata": {},
   "outputs": [
    {
     "data": {
      "text/html": [
       "<div>\n",
       "<style scoped>\n",
       "    .dataframe tbody tr th:only-of-type {\n",
       "        vertical-align: middle;\n",
       "    }\n",
       "\n",
       "    .dataframe tbody tr th {\n",
       "        vertical-align: top;\n",
       "    }\n",
       "\n",
       "    .dataframe thead th {\n",
       "        text-align: right;\n",
       "    }\n",
       "</style>\n",
       "<table border=\"1\" class=\"dataframe\">\n",
       "  <thead>\n",
       "    <tr style=\"text-align: right;\">\n",
       "      <th></th>\n",
       "      <th>Model</th>\n",
       "      <th>Accuracy</th>\n",
       "      <th>Precision</th>\n",
       "      <th>recall</th>\n",
       "      <th>F1</th>\n",
       "    </tr>\n",
       "  </thead>\n",
       "  <tbody>\n",
       "    <tr>\n",
       "      <th>0</th>\n",
       "      <td>DecnTree</td>\n",
       "      <td>0.7988 (+/- 0.0185)</td>\n",
       "      <td>0.8439 (+/- 0.0093)</td>\n",
       "      <td>0.8451 (+/- 0.0227)</td>\n",
       "      <td>0.8436 (+/- 0.0125)</td>\n",
       "    </tr>\n",
       "  </tbody>\n",
       "</table>\n",
       "</div>"
      ],
      "text/plain": [
       "      Model             Accuracy            Precision               recall  \\\n",
       "0  DecnTree  0.7988 (+/- 0.0185)  0.8439 (+/- 0.0093)  0.8451 (+/- 0.0227)   \n",
       "\n",
       "                    F1  \n",
       "0  0.8436 (+/- 0.0125)  "
      ]
     },
     "execution_count": 136,
     "metadata": {},
     "output_type": "execute_result"
    }
   ],
   "source": [
    "models_df_dtc = pd.DataFrame({  \n",
    "  'Model': ['DecnTree'],\n",
    "  'Accuracy' : [strScoreConf(scores_dtc.mean(), scores_dtc.std())],\n",
    "  'Precision': [strScoreConf(scores_dtc_p.mean(), scores_dtc_p.std())],\n",
    "  'recall' : [strScoreConf(scores_dtc_r.mean(), scores_dtc_r.std())],\n",
    "  'F1' : [strScoreConf(scores_dtc_f.mean(), scores_dtc_f.std())]\n",
    "})\n",
    "models_df_dtc"
   ]
  },
  {
   "cell_type": "markdown",
   "metadata": {
    "slideshow": {
     "slide_type": "slide"
    }
   },
   "source": [
    "## SVM"
   ]
  },
  {
   "cell_type": "code",
   "execution_count": 33,
   "metadata": {
    "slideshow": {
     "slide_type": "subslide"
    }
   },
   "outputs": [
    {
     "data": {
      "text/plain": [
       "SVC(C=1.0, cache_size=200, class_weight=None, coef0=0.0,\n",
       "  decision_function_shape='ovr', degree=3, gamma='auto', kernel='poly',\n",
       "  max_iter=-1, probability=False, random_state=None, shrinking=True,\n",
       "  tol=0.001, verbose=False)"
      ]
     },
     "execution_count": 33,
     "metadata": {},
     "output_type": "execute_result"
    }
   ],
   "source": [
    "#Support Vector Classifier\n",
    "svc_lin = svm.SVC(kernel='linear')\n",
    "svc_rbf = svm.SVC(kernel='rbf')\n",
    "svc_poly = svm.SVC(kernel='poly')\n",
    "\n",
    "svc_lin.fit(X_train, y_train)\n",
    "svc_rbf.fit(X_train, y_train)\n",
    "svc_poly.fit(X_train, y_train)"
   ]
  },
  {
   "cell_type": "code",
   "execution_count": 34,
   "metadata": {
    "slideshow": {
     "slide_type": "subslide"
    }
   },
   "outputs": [],
   "source": [
    "y_pred_l = svc_lin.predict(X_test)\n",
    "y_pred_r = svc_rbf.predict(X_test)\n",
    "y_pred_p = svc_poly.predict(X_test)"
   ]
  },
  {
   "cell_type": "markdown",
   "metadata": {
    "slideshow": {
     "slide_type": "slide"
    }
   },
   "source": [
    "#### Results SVC linear kernel"
   ]
  },
  {
   "cell_type": "code",
   "execution_count": 36,
   "metadata": {
    "slideshow": {
     "slide_type": "subslide"
    }
   },
   "outputs": [
    {
     "name": "stdout",
     "output_type": "stream",
     "text": [
      "[[1081  585]\n",
      " [ 199 2784]]\n",
      "\t(tn, fp, fn, tp) = (1081, 585, 199, 2784)\n",
      "\tAccuracy = 83.14%\n",
      "\tMisclassification Rate = 16.86%\n",
      "\tPrecision = 82.64%\n",
      "\tRecall = 93.33%\n",
      "\tF1-Score = 87.66%\n"
     ]
    }
   ],
   "source": [
    "print(confusion_matrix(y_test, y_pred_l))\n",
    "print_scores(y_test, y_pred_l)"
   ]
  },
  {
   "cell_type": "markdown",
   "metadata": {
    "slideshow": {
     "slide_type": "subslide"
    }
   },
   "source": [
    "#### Results SVC RBF kernel"
   ]
  },
  {
   "cell_type": "code",
   "execution_count": 38,
   "metadata": {
    "slideshow": {
     "slide_type": "subslide"
    }
   },
   "outputs": [
    {
     "name": "stdout",
     "output_type": "stream",
     "text": [
      "[[ 878  788]\n",
      " [ 173 2810]]\n",
      "\t(tn, fp, fn, tp) = (878, 788, 173, 2810)\n",
      "\tAccuracy = 79.33%\n",
      "\tMisclassification Rate = 20.67%\n",
      "\tPrecision = 78.10%\n",
      "\tRecall = 94.20%\n",
      "\tF1-Score = 85.40%\n"
     ]
    }
   ],
   "source": [
    "print(confusion_matrix(y_test, y_pred_r))\n",
    "print_scores(y_test, y_pred_r)"
   ]
  },
  {
   "cell_type": "markdown",
   "metadata": {
    "slideshow": {
     "slide_type": "subslide"
    }
   },
   "source": [
    "#### Results SVC polynomial kernel"
   ]
  },
  {
   "cell_type": "code",
   "execution_count": 40,
   "metadata": {
    "slideshow": {
     "slide_type": "subslide"
    }
   },
   "outputs": [
    {
     "name": "stdout",
     "output_type": "stream",
     "text": [
      "[[1198  468]\n",
      " [ 238 2745]]\n",
      "\t(tn, fp, fn, tp) = (1198, 468, 238, 2745)\n",
      "\tAccuracy = 84.81%\n",
      "\tMisclassification Rate = 15.19%\n",
      "\tPrecision = 85.43%\n",
      "\tRecall = 92.02%\n",
      "\tF1-Score = 88.61%\n"
     ]
    }
   ],
   "source": [
    "print(confusion_matrix(y_test, y_pred_p))\n",
    "print_scores(y_test, y_pred_p)"
   ]
  },
  {
   "cell_type": "markdown",
   "metadata": {},
   "source": [
    "#### Cross-validation"
   ]
  },
  {
   "cell_type": "code",
   "execution_count": 153,
   "metadata": {},
   "outputs": [
    {
     "name": "stderr",
     "output_type": "stream",
     "text": [
      "C:\\Users\\ailin\\AppData\\Roaming\\Python\\Python36\\site-packages\\sklearn\\svm\\base.py:218: ConvergenceWarning: Solver terminated early (max_iter=10000).  Consider pre-processing your data with StandardScaler or MinMaxScaler.\n",
      "  % self.max_iter, ConvergenceWarning)\n",
      "C:\\Users\\ailin\\AppData\\Roaming\\Python\\Python36\\site-packages\\sklearn\\svm\\base.py:218: ConvergenceWarning: Solver terminated early (max_iter=10000).  Consider pre-processing your data with StandardScaler or MinMaxScaler.\n",
      "  % self.max_iter, ConvergenceWarning)\n",
      "C:\\Users\\ailin\\AppData\\Roaming\\Python\\Python36\\site-packages\\sklearn\\svm\\base.py:218: ConvergenceWarning: Solver terminated early (max_iter=10000).  Consider pre-processing your data with StandardScaler or MinMaxScaler.\n",
      "  % self.max_iter, ConvergenceWarning)\n",
      "C:\\Users\\ailin\\AppData\\Roaming\\Python\\Python36\\site-packages\\sklearn\\svm\\base.py:218: ConvergenceWarning: Solver terminated early (max_iter=10000).  Consider pre-processing your data with StandardScaler or MinMaxScaler.\n",
      "  % self.max_iter, ConvergenceWarning)\n",
      "C:\\Users\\ailin\\AppData\\Roaming\\Python\\Python36\\site-packages\\sklearn\\svm\\base.py:218: ConvergenceWarning: Solver terminated early (max_iter=10000).  Consider pre-processing your data with StandardScaler or MinMaxScaler.\n",
      "  % self.max_iter, ConvergenceWarning)\n",
      "C:\\Users\\ailin\\AppData\\Roaming\\Python\\Python36\\site-packages\\sklearn\\svm\\base.py:218: ConvergenceWarning: Solver terminated early (max_iter=10000).  Consider pre-processing your data with StandardScaler or MinMaxScaler.\n",
      "  % self.max_iter, ConvergenceWarning)\n",
      "C:\\Users\\ailin\\AppData\\Roaming\\Python\\Python36\\site-packages\\sklearn\\svm\\base.py:218: ConvergenceWarning: Solver terminated early (max_iter=10000).  Consider pre-processing your data with StandardScaler or MinMaxScaler.\n",
      "  % self.max_iter, ConvergenceWarning)\n",
      "C:\\Users\\ailin\\AppData\\Roaming\\Python\\Python36\\site-packages\\sklearn\\svm\\base.py:218: ConvergenceWarning: Solver terminated early (max_iter=10000).  Consider pre-processing your data with StandardScaler or MinMaxScaler.\n",
      "  % self.max_iter, ConvergenceWarning)\n",
      "C:\\Users\\ailin\\AppData\\Roaming\\Python\\Python36\\site-packages\\sklearn\\svm\\base.py:218: ConvergenceWarning: Solver terminated early (max_iter=10000).  Consider pre-processing your data with StandardScaler or MinMaxScaler.\n",
      "  % self.max_iter, ConvergenceWarning)\n",
      "C:\\Users\\ailin\\AppData\\Roaming\\Python\\Python36\\site-packages\\sklearn\\svm\\base.py:218: ConvergenceWarning: Solver terminated early (max_iter=10000).  Consider pre-processing your data with StandardScaler or MinMaxScaler.\n",
      "  % self.max_iter, ConvergenceWarning)\n",
      "C:\\Users\\ailin\\AppData\\Roaming\\Python\\Python36\\site-packages\\sklearn\\svm\\base.py:218: ConvergenceWarning: Solver terminated early (max_iter=10000).  Consider pre-processing your data with StandardScaler or MinMaxScaler.\n",
      "  % self.max_iter, ConvergenceWarning)\n",
      "C:\\Users\\ailin\\AppData\\Roaming\\Python\\Python36\\site-packages\\sklearn\\svm\\base.py:218: ConvergenceWarning: Solver terminated early (max_iter=10000).  Consider pre-processing your data with StandardScaler or MinMaxScaler.\n",
      "  % self.max_iter, ConvergenceWarning)\n",
      "C:\\Users\\ailin\\AppData\\Roaming\\Python\\Python36\\site-packages\\sklearn\\svm\\base.py:218: ConvergenceWarning: Solver terminated early (max_iter=10000).  Consider pre-processing your data with StandardScaler or MinMaxScaler.\n",
      "  % self.max_iter, ConvergenceWarning)\n",
      "C:\\Users\\ailin\\AppData\\Roaming\\Python\\Python36\\site-packages\\sklearn\\svm\\base.py:218: ConvergenceWarning: Solver terminated early (max_iter=10000).  Consider pre-processing your data with StandardScaler or MinMaxScaler.\n",
      "  % self.max_iter, ConvergenceWarning)\n",
      "C:\\Users\\ailin\\AppData\\Roaming\\Python\\Python36\\site-packages\\sklearn\\svm\\base.py:218: ConvergenceWarning: Solver terminated early (max_iter=10000).  Consider pre-processing your data with StandardScaler or MinMaxScaler.\n",
      "  % self.max_iter, ConvergenceWarning)\n",
      "C:\\Users\\ailin\\AppData\\Roaming\\Python\\Python36\\site-packages\\sklearn\\svm\\base.py:218: ConvergenceWarning: Solver terminated early (max_iter=10000).  Consider pre-processing your data with StandardScaler or MinMaxScaler.\n",
      "  % self.max_iter, ConvergenceWarning)\n",
      "C:\\Users\\ailin\\AppData\\Roaming\\Python\\Python36\\site-packages\\sklearn\\svm\\base.py:218: ConvergenceWarning: Solver terminated early (max_iter=10000).  Consider pre-processing your data with StandardScaler or MinMaxScaler.\n",
      "  % self.max_iter, ConvergenceWarning)\n",
      "C:\\Users\\ailin\\AppData\\Roaming\\Python\\Python36\\site-packages\\sklearn\\svm\\base.py:218: ConvergenceWarning: Solver terminated early (max_iter=10000).  Consider pre-processing your data with StandardScaler or MinMaxScaler.\n",
      "  % self.max_iter, ConvergenceWarning)\n",
      "C:\\Users\\ailin\\AppData\\Roaming\\Python\\Python36\\site-packages\\sklearn\\svm\\base.py:218: ConvergenceWarning: Solver terminated early (max_iter=10000).  Consider pre-processing your data with StandardScaler or MinMaxScaler.\n",
      "  % self.max_iter, ConvergenceWarning)\n",
      "C:\\Users\\ailin\\AppData\\Roaming\\Python\\Python36\\site-packages\\sklearn\\svm\\base.py:218: ConvergenceWarning: Solver terminated early (max_iter=10000).  Consider pre-processing your data with StandardScaler or MinMaxScaler.\n",
      "  % self.max_iter, ConvergenceWarning)\n",
      "C:\\Users\\ailin\\AppData\\Roaming\\Python\\Python36\\site-packages\\sklearn\\svm\\base.py:218: ConvergenceWarning: Solver terminated early (max_iter=10000).  Consider pre-processing your data with StandardScaler or MinMaxScaler.\n",
      "  % self.max_iter, ConvergenceWarning)\n",
      "C:\\Users\\ailin\\AppData\\Roaming\\Python\\Python36\\site-packages\\sklearn\\svm\\base.py:218: ConvergenceWarning: Solver terminated early (max_iter=10000).  Consider pre-processing your data with StandardScaler or MinMaxScaler.\n",
      "  % self.max_iter, ConvergenceWarning)\n",
      "C:\\Users\\ailin\\AppData\\Roaming\\Python\\Python36\\site-packages\\sklearn\\svm\\base.py:218: ConvergenceWarning: Solver terminated early (max_iter=10000).  Consider pre-processing your data with StandardScaler or MinMaxScaler.\n",
      "  % self.max_iter, ConvergenceWarning)\n",
      "C:\\Users\\ailin\\AppData\\Roaming\\Python\\Python36\\site-packages\\sklearn\\svm\\base.py:218: ConvergenceWarning: Solver terminated early (max_iter=10000).  Consider pre-processing your data with StandardScaler or MinMaxScaler.\n",
      "  % self.max_iter, ConvergenceWarning)\n",
      "C:\\Users\\ailin\\AppData\\Roaming\\Python\\Python36\\site-packages\\sklearn\\svm\\base.py:218: ConvergenceWarning: Solver terminated early (max_iter=10000).  Consider pre-processing your data with StandardScaler or MinMaxScaler.\n",
      "  % self.max_iter, ConvergenceWarning)\n",
      "C:\\Users\\ailin\\AppData\\Roaming\\Python\\Python36\\site-packages\\sklearn\\svm\\base.py:218: ConvergenceWarning: Solver terminated early (max_iter=10000).  Consider pre-processing your data with StandardScaler or MinMaxScaler.\n",
      "  % self.max_iter, ConvergenceWarning)\n",
      "C:\\Users\\ailin\\AppData\\Roaming\\Python\\Python36\\site-packages\\sklearn\\svm\\base.py:218: ConvergenceWarning: Solver terminated early (max_iter=10000).  Consider pre-processing your data with StandardScaler or MinMaxScaler.\n",
      "  % self.max_iter, ConvergenceWarning)\n",
      "C:\\Users\\ailin\\AppData\\Roaming\\Python\\Python36\\site-packages\\sklearn\\svm\\base.py:218: ConvergenceWarning: Solver terminated early (max_iter=10000).  Consider pre-processing your data with StandardScaler or MinMaxScaler.\n",
      "  % self.max_iter, ConvergenceWarning)\n",
      "C:\\Users\\ailin\\AppData\\Roaming\\Python\\Python36\\site-packages\\sklearn\\svm\\base.py:218: ConvergenceWarning: Solver terminated early (max_iter=10000).  Consider pre-processing your data with StandardScaler or MinMaxScaler.\n",
      "  % self.max_iter, ConvergenceWarning)\n",
      "C:\\Users\\ailin\\AppData\\Roaming\\Python\\Python36\\site-packages\\sklearn\\svm\\base.py:218: ConvergenceWarning: Solver terminated early (max_iter=10000).  Consider pre-processing your data with StandardScaler or MinMaxScaler.\n",
      "  % self.max_iter, ConvergenceWarning)\n",
      "C:\\Users\\ailin\\AppData\\Roaming\\Python\\Python36\\site-packages\\sklearn\\svm\\base.py:218: ConvergenceWarning: Solver terminated early (max_iter=10000).  Consider pre-processing your data with StandardScaler or MinMaxScaler.\n",
      "  % self.max_iter, ConvergenceWarning)\n",
      "C:\\Users\\ailin\\AppData\\Roaming\\Python\\Python36\\site-packages\\sklearn\\svm\\base.py:218: ConvergenceWarning: Solver terminated early (max_iter=10000).  Consider pre-processing your data with StandardScaler or MinMaxScaler.\n",
      "  % self.max_iter, ConvergenceWarning)\n"
     ]
    },
    {
     "name": "stderr",
     "output_type": "stream",
     "text": [
      "C:\\Users\\ailin\\AppData\\Roaming\\Python\\Python36\\site-packages\\sklearn\\svm\\base.py:218: ConvergenceWarning: Solver terminated early (max_iter=10000).  Consider pre-processing your data with StandardScaler or MinMaxScaler.\n",
      "  % self.max_iter, ConvergenceWarning)\n",
      "C:\\Users\\ailin\\AppData\\Roaming\\Python\\Python36\\site-packages\\sklearn\\svm\\base.py:218: ConvergenceWarning: Solver terminated early (max_iter=10000).  Consider pre-processing your data with StandardScaler or MinMaxScaler.\n",
      "  % self.max_iter, ConvergenceWarning)\n",
      "C:\\Users\\ailin\\AppData\\Roaming\\Python\\Python36\\site-packages\\sklearn\\svm\\base.py:218: ConvergenceWarning: Solver terminated early (max_iter=10000).  Consider pre-processing your data with StandardScaler or MinMaxScaler.\n",
      "  % self.max_iter, ConvergenceWarning)\n",
      "C:\\Users\\ailin\\AppData\\Roaming\\Python\\Python36\\site-packages\\sklearn\\svm\\base.py:218: ConvergenceWarning: Solver terminated early (max_iter=10000).  Consider pre-processing your data with StandardScaler or MinMaxScaler.\n",
      "  % self.max_iter, ConvergenceWarning)\n",
      "C:\\Users\\ailin\\AppData\\Roaming\\Python\\Python36\\site-packages\\sklearn\\svm\\base.py:218: ConvergenceWarning: Solver terminated early (max_iter=10000).  Consider pre-processing your data with StandardScaler or MinMaxScaler.\n",
      "  % self.max_iter, ConvergenceWarning)\n",
      "C:\\Users\\ailin\\AppData\\Roaming\\Python\\Python36\\site-packages\\sklearn\\svm\\base.py:218: ConvergenceWarning: Solver terminated early (max_iter=10000).  Consider pre-processing your data with StandardScaler or MinMaxScaler.\n",
      "  % self.max_iter, ConvergenceWarning)\n",
      "C:\\Users\\ailin\\AppData\\Roaming\\Python\\Python36\\site-packages\\sklearn\\svm\\base.py:218: ConvergenceWarning: Solver terminated early (max_iter=10000).  Consider pre-processing your data with StandardScaler or MinMaxScaler.\n",
      "  % self.max_iter, ConvergenceWarning)\n",
      "C:\\Users\\ailin\\AppData\\Roaming\\Python\\Python36\\site-packages\\sklearn\\svm\\base.py:218: ConvergenceWarning: Solver terminated early (max_iter=10000).  Consider pre-processing your data with StandardScaler or MinMaxScaler.\n",
      "  % self.max_iter, ConvergenceWarning)\n"
     ]
    },
    {
     "data": {
      "text/plain": [
       "array([0.78201058, 0.78495763, 0.77860169, 0.79661017, 0.78283898,\n",
       "       0.77648305, 0.78366914, 0.77518558, 0.7826087 , 0.77518558])"
      ]
     },
     "execution_count": 153,
     "metadata": {},
     "output_type": "execute_result"
    }
   ],
   "source": [
    "#trying RBF since it is the default parameter\n",
    "scores_svc = cross_val_score(svm.SVC(max_iter=10000), X_train, y_train, cv=10)\n",
    "scores_svc_p = cross_val_score(svm.SVC(max_iter=10000), X_train, y_train, scoring='precision', cv=10)\n",
    "scores_svc_r = cross_val_score(svm.SVC(max_iter=10000), X_train, y_train, scoring='recall', cv=10)\n",
    "scores_svc_f = cross_val_score(svm.SVC(max_iter=10000), X_train, y_train, scoring='f1', cv=10)\n",
    "scores_svc"
   ]
  },
  {
   "cell_type": "code",
   "execution_count": 154,
   "metadata": {},
   "outputs": [
    {
     "data": {
      "text/html": [
       "<div>\n",
       "<style scoped>\n",
       "    .dataframe tbody tr th:only-of-type {\n",
       "        vertical-align: middle;\n",
       "    }\n",
       "\n",
       "    .dataframe tbody tr th {\n",
       "        vertical-align: top;\n",
       "    }\n",
       "\n",
       "    .dataframe thead th {\n",
       "        text-align: right;\n",
       "    }\n",
       "</style>\n",
       "<table border=\"1\" class=\"dataframe\">\n",
       "  <thead>\n",
       "    <tr style=\"text-align: right;\">\n",
       "      <th></th>\n",
       "      <th>Model</th>\n",
       "      <th>Accuracy</th>\n",
       "      <th>Precision</th>\n",
       "      <th>recall</th>\n",
       "      <th>F1</th>\n",
       "    </tr>\n",
       "  </thead>\n",
       "  <tbody>\n",
       "    <tr>\n",
       "      <th>0</th>\n",
       "      <td>SVM</td>\n",
       "      <td>0.7818 (+/- 0.0118)</td>\n",
       "      <td>0.7701 (+/- 0.0093)</td>\n",
       "      <td>0.9409 (+/- 0.0156)</td>\n",
       "      <td>0.8470 (+/- 0.0085)</td>\n",
       "    </tr>\n",
       "  </tbody>\n",
       "</table>\n",
       "</div>"
      ],
      "text/plain": [
       "  Model             Accuracy            Precision               recall  \\\n",
       "0   SVM  0.7818 (+/- 0.0118)  0.7701 (+/- 0.0093)  0.9409 (+/- 0.0156)   \n",
       "\n",
       "                    F1  \n",
       "0  0.8470 (+/- 0.0085)  "
      ]
     },
     "execution_count": 154,
     "metadata": {},
     "output_type": "execute_result"
    }
   ],
   "source": [
    "models_df_svc = pd.DataFrame({  \n",
    "  'Model': ['SVM'],\n",
    "  'Accuracy' : [strScoreConf(scores_svc.mean(), scores_svc.std())],\n",
    "  'Precision': [strScoreConf(scores_svc_p.mean(), scores_svc_p.std())],\n",
    "  'recall' : [strScoreConf(scores_svc_r.mean(), scores_svc_r.std())],\n",
    "  'F1' : [strScoreConf(scores_svc_f.mean(), scores_svc_f.std())]\n",
    "})\n",
    "models_df_svc"
   ]
  },
  {
   "cell_type": "markdown",
   "metadata": {},
   "source": [
    "## ANN - Multi-layer Perceptron Classifier (MLP)"
   ]
  },
  {
   "cell_type": "code",
   "execution_count": 58,
   "metadata": {},
   "outputs": [
    {
     "data": {
      "text/plain": [
       "0.8352333835233383"
      ]
     },
     "execution_count": 58,
     "metadata": {},
     "output_type": "execute_result"
    }
   ],
   "source": [
    "mlp = MLPClassifier()\n",
    "mlp.fit(X_train, y_train)\n",
    "y_predict = mlp.predict(X_test)\n",
    "knn.score(X_test, y_test)"
   ]
  },
  {
   "cell_type": "code",
   "execution_count": 59,
   "metadata": {},
   "outputs": [
    {
     "name": "stdout",
     "output_type": "stream",
     "text": [
      "Confusion matrix, without normalization\n",
      "[[1214  452]\n",
      " [ 282 2701]]\n",
      "Normalized confusion matrix\n",
      "[[0.72869148 0.27130852]\n",
      " [0.0945357  0.9054643 ]]\n"
     ]
    },
    {
     "data": {
      "image/png": "[encoded data removed]",
      "text/plain": [
       "<Figure size 360x360 with 2 Axes>"
      ]
     },
     "metadata": {
      "needs_background": "light"
     },
     "output_type": "display_data"
    },
    {
     "data": {
      "image/png": "[encoded data removed]",
      "text/plain": [
       "<Figure size 360x360 with 2 Axes>"
      ]
     },
     "metadata": {
      "needs_background": "light"
     },
     "output_type": "display_data"
    }
   ],
   "source": [
    "# Plot non-normalized confusion matrix\n",
    "ax1 = plot_confusion_matrix(y_test, y_predict, classes=class_names,\n",
    "                      title='Confusion matrix, without normalization')\n",
    "\n",
    "# Plot normalized confusion matrix\n",
    "ax2 = plot_confusion_matrix(y_test, y_predict, classes=class_names, normalize=True,\n",
    "                      title='Normalized confusion matrix')\n",
    "\n",
    "plt.show()"
   ]
  },
  {
   "cell_type": "code",
   "execution_count": 60,
   "metadata": {},
   "outputs": [
    {
     "name": "stdout",
     "output_type": "stream",
     "text": [
      "\t(tn, fp, fn, tp) = (1214, 452, 282, 2701)\n",
      "\tAccuracy = 84.21%\n",
      "\tMisclassification Rate = 15.79%\n",
      "\tPrecision = 85.66%\n",
      "\tRecall = 90.55%\n",
      "\tF1-Score = 88.04%\n"
     ]
    }
   ],
   "source": [
    "print_scores(y_test, y_predict)"
   ]
  },
  {
   "cell_type": "markdown",
   "metadata": {},
   "source": [
    "#### Cross-validation"
   ]
  },
  {
   "cell_type": "code",
   "execution_count": 137,
   "metadata": {},
   "outputs": [
    {
     "data": {
      "text/plain": [
       "array([0.83068783, 0.84533898, 0.81673729, 0.82309322, 0.85381356,\n",
       "       0.82944915, 0.85683987, 0.81760339, 0.83669141, 0.82608696])"
      ]
     },
     "execution_count": 137,
     "metadata": {},
     "output_type": "execute_result"
    }
   ],
   "source": [
    "scores_mlp = cross_val_score(mlp, X_train, y_train, cv=10)\n",
    "scores_mlp_p = cross_val_score(mlp, X_train, y_train, scoring='precision', cv=10)\n",
    "scores_mlp_r = cross_val_score(mlp, X_train, y_train, scoring='recall', cv=10)\n",
    "scores_mlp_f = cross_val_score(mlp, X_train, y_train, scoring='f1', cv=10)\n",
    "scores_mlp"
   ]
  },
  {
   "cell_type": "code",
   "execution_count": 140,
   "metadata": {},
   "outputs": [
    {
     "data": {
      "text/html": [
       "<div>\n",
       "<style scoped>\n",
       "    .dataframe tbody tr th:only-of-type {\n",
       "        vertical-align: middle;\n",
       "    }\n",
       "\n",
       "    .dataframe tbody tr th {\n",
       "        vertical-align: top;\n",
       "    }\n",
       "\n",
       "    .dataframe thead th {\n",
       "        text-align: right;\n",
       "    }\n",
       "</style>\n",
       "<table border=\"1\" class=\"dataframe\">\n",
       "  <thead>\n",
       "    <tr style=\"text-align: right;\">\n",
       "      <th></th>\n",
       "      <th>Model</th>\n",
       "      <th>Accuracy</th>\n",
       "      <th>Precision</th>\n",
       "      <th>recall</th>\n",
       "      <th>F1</th>\n",
       "    </tr>\n",
       "  </thead>\n",
       "  <tbody>\n",
       "    <tr>\n",
       "      <th>0</th>\n",
       "      <td>ANN-MLP</td>\n",
       "      <td>0.8336 (+/- 0.0265)</td>\n",
       "      <td>0.8618 (+/- 0.0630)</td>\n",
       "      <td>0.8925 (+/- 0.1178)</td>\n",
       "      <td>0.8624 (+/- 0.0397)</td>\n",
       "    </tr>\n",
       "  </tbody>\n",
       "</table>\n",
       "</div>"
      ],
      "text/plain": [
       "     Model             Accuracy            Precision               recall  \\\n",
       "0  ANN-MLP  0.8336 (+/- 0.0265)  0.8618 (+/- 0.0630)  0.8925 (+/- 0.1178)   \n",
       "\n",
       "                    F1  \n",
       "0  0.8624 (+/- 0.0397)  "
      ]
     },
     "execution_count": 140,
     "metadata": {},
     "output_type": "execute_result"
    }
   ],
   "source": [
    "models_df_mlp = pd.DataFrame({  \n",
    "  'Model': ['ANN-MLP'],\n",
    "  'Accuracy' : [strScoreConf(scores_mlp.mean(), scores_mlp.std())],\n",
    "  'Precision': [strScoreConf(scores_mlp_p.mean(), scores_mlp_p.std())],\n",
    "  'recall' : [strScoreConf(scores_mlp_r.mean(), scores_mlp_r.std())],\n",
    "  'F1' : [strScoreConf(scores_mlp_f.mean(), scores_mlp_f.std())]\n",
    "})\n",
    "models_df_mlp"
   ]
  },
  {
   "cell_type": "markdown",
   "metadata": {},
   "source": [
    "#### Save models via Pickle"
   ]
  },
  {
   "cell_type": "code",
   "execution_count": 46,
   "metadata": {},
   "outputs": [],
   "source": [
    "import pickle\n",
    "filepath = Path(\"./models\")"
   ]
  },
  {
   "cell_type": "code",
   "execution_count": 47,
   "metadata": {},
   "outputs": [],
   "source": [
    "#random forest\n",
    "filenameRF = filepath / \"randomForest_default.sav\"\n",
    "pickle.dump(rf, open(filenameRF, 'wb'))"
   ]
  },
  {
   "cell_type": "code",
   "execution_count": 50,
   "metadata": {},
   "outputs": [],
   "source": [
    "#logistic regression\n",
    "filenameLR = filepath / \"logisticRegression_default.sav\"\n",
    "pickle.dump(lr, open(filenameLR, 'wb'))"
   ]
  },
  {
   "cell_type": "code",
   "execution_count": 51,
   "metadata": {},
   "outputs": [],
   "source": [
    "#Gaussian Naive Bayes\n",
    "filenameGNB = filepath / \"gaussNB_default.sav\"\n",
    "pickle.dump(gnb, open(filenameGNB, 'wb'))\n",
    "\n",
    "#Bernoulli Naive Bayes\n",
    "filenameBNB = filepath / \"bernNB_default.sav\"\n",
    "pickle.dump(bnb, open(filenameBNB, 'wb'))"
   ]
  },
  {
   "cell_type": "code",
   "execution_count": 52,
   "metadata": {},
   "outputs": [],
   "source": [
    "#Stochastic Gradient Descent\n",
    "filenameSGD = filepath / \"stochGradDesc_default.sav\"\n",
    "pickle.dump(sgd, open(filenameSGD, 'wb'))"
   ]
  },
  {
   "cell_type": "code",
   "execution_count": 53,
   "metadata": {},
   "outputs": [],
   "source": [
    "#K-Nearest Neighbors - k=5\n",
    "filenameKNN = filepath / \"kNearestNeigh_default.sav\"\n",
    "pickle.dump(knn, open(filenameKNN, 'wb'))"
   ]
  },
  {
   "cell_type": "code",
   "execution_count": 54,
   "metadata": {},
   "outputs": [],
   "source": [
    "#Decision Tree Classifier\n",
    "filenameDTC = filepath / \"decisionTree_default.sav\"\n",
    "pickle.dump(dtc, open(filenameDTC, 'wb'))"
   ]
  },
  {
   "cell_type": "code",
   "execution_count": 55,
   "metadata": {},
   "outputs": [],
   "source": [
    "#Support Vector Machine - Linear Kernel\n",
    "filenameSVCLin = filepath / \"svm_lin_default.sav\"\n",
    "pickle.dump(svc_lin, open(filenameSVCLin, 'wb'))\n",
    "\n",
    "#Support Vector Machine - Radial Basis Function (RBF) Kernel\n",
    "filenameSVCRbf = filepath / \"svm_rbf_default.sav\"\n",
    "pickle.dump(svc_rbf, open(filenameSVCRbf, 'wb'))\n",
    "\n",
    "#Support Vector Machine - Polynomial Kernel\n",
    "filenameSVCPoly = filepath / \"svm_poly_default.sav\"\n",
    "pickle.dump(svc_poly, open(filenameSVCPoly, 'wb'))"
   ]
  },
  {
   "cell_type": "code",
   "execution_count": 61,
   "metadata": {},
   "outputs": [],
   "source": [
    "#Multi-Layer Perceptron Network (MLP)\n",
    "filenameMLP = filepath / \"mlp_default.sav\"\n",
    "pickle.dump(mlp, open(filenameMLP, 'wb'))"
   ]
  },
  {
   "cell_type": "code",
   "execution_count": 65,
   "metadata": {},
   "outputs": [],
   "source": [
    "#save X and y numpy arrays\n",
    "filepathData = Path(\"./data\")\n",
    "np.save(filepathData / \"X.npy\", X)\n",
    "np.save(filepathData / \"y.npy\", y)"
   ]
  },
  {
   "cell_type": "markdown",
   "metadata": {},
   "source": [
    "## Cross-validation metrics"
   ]
  },
  {
   "cell_type": "code",
   "execution_count": 155,
   "metadata": {},
   "outputs": [
    {
     "data": {
      "text/html": [
       "<div>\n",
       "<style scoped>\n",
       "    .dataframe tbody tr th:only-of-type {\n",
       "        vertical-align: middle;\n",
       "    }\n",
       "\n",
       "    .dataframe tbody tr th {\n",
       "        vertical-align: top;\n",
       "    }\n",
       "\n",
       "    .dataframe thead th {\n",
       "        text-align: right;\n",
       "    }\n",
       "</style>\n",
       "<table border=\"1\" class=\"dataframe\">\n",
       "  <thead>\n",
       "    <tr style=\"text-align: right;\">\n",
       "      <th></th>\n",
       "      <th>Model</th>\n",
       "      <th>Accuracy</th>\n",
       "      <th>Precision</th>\n",
       "      <th>recall</th>\n",
       "      <th>F1</th>\n",
       "    </tr>\n",
       "  </thead>\n",
       "  <tbody>\n",
       "    <tr>\n",
       "      <th>0</th>\n",
       "      <td>RandForest</td>\n",
       "      <td>0.8595 (+/- 0.0130)</td>\n",
       "      <td>0.8821 (+/- 0.0264)</td>\n",
       "      <td>0.8885 (+/- 0.0168)</td>\n",
       "      <td>0.8919 (+/- 0.0114)</td>\n",
       "    </tr>\n",
       "    <tr>\n",
       "      <th>0</th>\n",
       "      <td>ANN-MLP</td>\n",
       "      <td>0.8336 (+/- 0.0265)</td>\n",
       "      <td>0.8618 (+/- 0.0630)</td>\n",
       "      <td>0.8925 (+/- 0.1178)</td>\n",
       "      <td>0.8624 (+/- 0.0397)</td>\n",
       "    </tr>\n",
       "    <tr>\n",
       "      <th>0</th>\n",
       "      <td>KNN</td>\n",
       "      <td>0.8330 (+/- 0.0152)</td>\n",
       "      <td>0.8514 (+/- 0.0143)</td>\n",
       "      <td>0.8963 (+/- 0.0317)</td>\n",
       "      <td>0.8732 (+/- 0.0132)</td>\n",
       "    </tr>\n",
       "    <tr>\n",
       "      <th>0</th>\n",
       "      <td>DecnTree</td>\n",
       "      <td>0.7988 (+/- 0.0185)</td>\n",
       "      <td>0.8439 (+/- 0.0093)</td>\n",
       "      <td>0.8451 (+/- 0.0227)</td>\n",
       "      <td>0.8436 (+/- 0.0125)</td>\n",
       "    </tr>\n",
       "    <tr>\n",
       "      <th>0</th>\n",
       "      <td>GaussNB</td>\n",
       "      <td>0.8164 (+/- 0.0169)</td>\n",
       "      <td>0.8396 (+/- 0.0201)</td>\n",
       "      <td>0.8826 (+/- 0.0167)</td>\n",
       "      <td>0.8605 (+/- 0.0120)</td>\n",
       "    </tr>\n",
       "    <tr>\n",
       "      <th>0</th>\n",
       "      <td>LogReg</td>\n",
       "      <td>0.8338 (+/- 0.0257)</td>\n",
       "      <td>0.8384 (+/- 0.0267)</td>\n",
       "      <td>0.9184 (+/- 0.0216)</td>\n",
       "      <td>0.8765 (+/- 0.0183)</td>\n",
       "    </tr>\n",
       "    <tr>\n",
       "      <th>0</th>\n",
       "      <td>SGD</td>\n",
       "      <td>0.7532 (+/- 0.0594)</td>\n",
       "      <td>0.8246 (+/- 0.2086)</td>\n",
       "      <td>0.7619 (+/- 0.5729)</td>\n",
       "      <td>0.7284 (+/- 0.3652)</td>\n",
       "    </tr>\n",
       "    <tr>\n",
       "      <th>0</th>\n",
       "      <td>SVM</td>\n",
       "      <td>0.7818 (+/- 0.0118)</td>\n",
       "      <td>0.7701 (+/- 0.0093)</td>\n",
       "      <td>0.9409 (+/- 0.0156)</td>\n",
       "      <td>0.8470 (+/- 0.0085)</td>\n",
       "    </tr>\n",
       "    <tr>\n",
       "      <th>0</th>\n",
       "      <td>BernNB</td>\n",
       "      <td>0.7604 (+/- 0.0164)</td>\n",
       "      <td>0.7559 (+/- 0.0168)</td>\n",
       "      <td>0.9259 (+/- 0.0152)</td>\n",
       "      <td>0.8322 (+/- 0.0098)</td>\n",
       "    </tr>\n",
       "  </tbody>\n",
       "</table>\n",
       "</div>"
      ],
      "text/plain": [
       "        Model             Accuracy            Precision               recall  \\\n",
       "0  RandForest  0.8595 (+/- 0.0130)  0.8821 (+/- 0.0264)  0.8885 (+/- 0.0168)   \n",
       "0     ANN-MLP  0.8336 (+/- 0.0265)  0.8618 (+/- 0.0630)  0.8925 (+/- 0.1178)   \n",
       "0         KNN  0.8330 (+/- 0.0152)  0.8514 (+/- 0.0143)  0.8963 (+/- 0.0317)   \n",
       "0    DecnTree  0.7988 (+/- 0.0185)  0.8439 (+/- 0.0093)  0.8451 (+/- 0.0227)   \n",
       "0     GaussNB  0.8164 (+/- 0.0169)  0.8396 (+/- 0.0201)  0.8826 (+/- 0.0167)   \n",
       "0      LogReg  0.8338 (+/- 0.0257)  0.8384 (+/- 0.0267)  0.9184 (+/- 0.0216)   \n",
       "0         SGD  0.7532 (+/- 0.0594)  0.8246 (+/- 0.2086)  0.7619 (+/- 0.5729)   \n",
       "0         SVM  0.7818 (+/- 0.0118)  0.7701 (+/- 0.0093)  0.9409 (+/- 0.0156)   \n",
       "0      BernNB  0.7604 (+/- 0.0164)  0.7559 (+/- 0.0168)  0.9259 (+/- 0.0152)   \n",
       "\n",
       "                    F1  \n",
       "0  0.8919 (+/- 0.0114)  \n",
       "0  0.8624 (+/- 0.0397)  \n",
       "0  0.8732 (+/- 0.0132)  \n",
       "0  0.8436 (+/- 0.0125)  \n",
       "0  0.8605 (+/- 0.0120)  \n",
       "0  0.8765 (+/- 0.0183)  \n",
       "0  0.7284 (+/- 0.3652)  \n",
       "0  0.8470 (+/- 0.0085)  \n",
       "0  0.8322 (+/- 0.0098)  "
      ]
     },
     "execution_count": 155,
     "metadata": {},
     "output_type": "execute_result"
    }
   ],
   "source": [
    "models_df = pd.concat([models_df_rf, models_df_lr, models_df_gnb, models_df_bnb,\n",
    "                       models_df_sgd, models_df_knn, models_df_dtc, models_df_svc, models_df_mlp])\n",
    "models_df.sort_values(by='Precision', ascending=False)"
   ]
  },
  {
   "cell_type": "code",
   "execution_count": null,
   "metadata": {},
   "outputs": [],
   "source": []
  }
 ],
 "metadata": {
  "celltoolbar": "Slideshow",
  "kernelspec": {
   "display_name": "Python 3",
   "language": "python",
   "name": "python3"
  },
  "language_info": {
   "codemirror_mode": {
    "name": "ipython",
    "version": 3
   },
   "file_extension": ".py",
   "mimetype": "text/x-python",
   "name": "python",
   "nbconvert_exporter": "python",
   "pygments_lexer": "ipython3",
   "version": "3.6.5"
  }
 },
 "nbformat": 4,
 "nbformat_minor": 2
}
